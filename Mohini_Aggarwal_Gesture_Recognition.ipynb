{
  "cells": [
    {
      "cell_type": "markdown",
      "metadata": {
        "id": "OA9AOIxY_NIW"
      },
      "source": [
        "# **Gesture Recognition**\n",
        "\n",
        "We want to develop a feature in the smart-TV that can recognise five different gestures performed by the user which will help users control the TV without using a remote. \n",
        "The gestures are continuously monitored by the webcam mounted on the TV. Each gesture corresponds to a specific command as shown below: </br>\n",
        "\n",
        "Gesture     | Command\n",
        "----------  |----------\n",
        "Thumbs up   | Increase the volume\n",
        "Thumbs down | Decrease the volume\n",
        "Left swipe  | 'Jump' backwards 10 seconds\n",
        "Right swipe | 'Jump' forward 10 seconds\n",
        "Stop        | Pause the movie\n",
        "\n"
      ]
    },
    {
      "cell_type": "markdown",
      "source": [
        "## **GPU Setup and Loading Libraries**"
      ],
      "metadata": {
        "id": "FqaOHt65M_PF"
      }
    },
    {
      "cell_type": "markdown",
      "source": [
        "#### Load Libraries"
      ],
      "metadata": {
        "id": "77DTWc0bpj83"
      }
    },
    {
      "cell_type": "code",
      "execution_count": null,
      "metadata": {
        "colab": {
          "base_uri": "https://localhost:8080/"
        },
        "id": "9o_fMwaE_NIh",
        "outputId": "330f63dd-c4cd-4f02-dc10-52ef497ea82e"
      },
      "outputs": [
        {
          "output_type": "stream",
          "name": "stdout",
          "text": [
            "Looking in indexes: https://pypi.org/simple, https://us-python.pkg.dev/colab-wheels/public/simple/\n",
            "Requirement already satisfied: scipy==1.2.1 in /usr/local/lib/python3.7/dist-packages (1.2.1)\n",
            "Requirement already satisfied: numpy>=1.8.2 in /usr/local/lib/python3.7/dist-packages (from scipy==1.2.1) (1.21.6)\n"
          ]
        }
      ],
      "source": [
        "import numpy as np\n",
        "import os\n",
        "import warnings\n",
        "warnings.filterwarnings(\"ignore\")\n",
        "!pip install scipy==1.2.1\n",
        "from scipy.misc import imread, imresize\n",
        "import datetime\n",
        "import os\n",
        "import cv2\n",
        "import matplotlib.pyplot as plt"
      ]
    },
    {
      "cell_type": "markdown",
      "source": [
        "#### Check python version"
      ],
      "metadata": {
        "id": "B_oBqRJtpVLL"
      }
    },
    {
      "cell_type": "code",
      "source": [
        "!python --version "
      ],
      "metadata": {
        "colab": {
          "base_uri": "https://localhost:8080/"
        },
        "id": "h1R4WhOeG_Y9",
        "outputId": "31412551-b61e-4c30-ea45-c3bdd77d4302"
      },
      "execution_count": null,
      "outputs": [
        {
          "output_type": "stream",
          "name": "stdout",
          "text": [
            "Python 3.7.13\n"
          ]
        }
      ]
    },
    {
      "cell_type": "markdown",
      "source": [
        "#### Check GPU setup"
      ],
      "metadata": {
        "id": "QppWht-5YDBD"
      }
    },
    {
      "cell_type": "code",
      "source": [
        "import tensorflow as tf\n",
        "!nvidia-smi \n",
        "!nvcc --version\n",
        "tf.test.gpu_device_name()"
      ],
      "metadata": {
        "colab": {
          "base_uri": "https://localhost:8080/",
          "height": 492
        },
        "id": "IZQn9-mQYEmi",
        "outputId": "1bc0443d-aa6e-4fb1-afe8-00ffb5ae6f6b"
      },
      "execution_count": null,
      "outputs": [
        {
          "output_type": "stream",
          "name": "stdout",
          "text": [
            "Wed Sep 14 11:14:38 2022       \n",
            "+-----------------------------------------------------------------------------+\n",
            "| NVIDIA-SMI 460.32.03    Driver Version: 460.32.03    CUDA Version: 11.2     |\n",
            "|-------------------------------+----------------------+----------------------+\n",
            "| GPU  Name        Persistence-M| Bus-Id        Disp.A | Volatile Uncorr. ECC |\n",
            "| Fan  Temp  Perf  Pwr:Usage/Cap|         Memory-Usage | GPU-Util  Compute M. |\n",
            "|                               |                      |               MIG M. |\n",
            "|===============================+======================+======================|\n",
            "|   0  Tesla P100-PCIE...  Off  | 00000000:00:04.0 Off |                    0 |\n",
            "| N/A   39C    P0    27W / 250W |      0MiB / 16280MiB |      0%      Default |\n",
            "|                               |                      |                  N/A |\n",
            "+-------------------------------+----------------------+----------------------+\n",
            "                                                                               \n",
            "+-----------------------------------------------------------------------------+\n",
            "| Processes:                                                                  |\n",
            "|  GPU   GI   CI        PID   Type   Process name                  GPU Memory |\n",
            "|        ID   ID                                                   Usage      |\n",
            "|=============================================================================|\n",
            "|  No running processes found                                                 |\n",
            "+-----------------------------------------------------------------------------+\n",
            "nvcc: NVIDIA (R) Cuda compiler driver\n",
            "Copyright (c) 2005-2020 NVIDIA Corporation\n",
            "Built on Mon_Oct_12_20:09:46_PDT_2020\n",
            "Cuda compilation tools, release 11.1, V11.1.105\n",
            "Build cuda_11.1.TC455_06.29190527_0\n"
          ]
        },
        {
          "output_type": "execute_result",
          "data": {
            "text/plain": [
              "'/device:GPU:0'"
            ],
            "application/vnd.google.colaboratory.intrinsic+json": {
              "type": "string"
            }
          },
          "metadata": {},
          "execution_count": 4
        }
      ]
    },
    {
      "cell_type": "markdown",
      "source": [
        "## **Setting parameters**"
      ],
      "metadata": {
        "id": "aUbQUBKINPaM"
      }
    },
    {
      "cell_type": "markdown",
      "metadata": {
        "id": "8_syQIqc_NIk"
      },
      "source": [
        "We set the random seed so that the results don't vary drastically."
      ]
    },
    {
      "cell_type": "code",
      "execution_count": null,
      "metadata": {
        "id": "dFHuNIlH_NIl"
      },
      "outputs": [],
      "source": [
        "np.random.seed(30)\n",
        "import random as rn\n",
        "import scipy.stats\n",
        "rn.seed(30)\n",
        "from keras import backend as K\n",
        "tf.random.set_seed(30)"
      ]
    },
    {
      "cell_type": "markdown",
      "source": [
        "#### Defining Class: InitParameters"
      ],
      "metadata": {
        "id": "bcFKOsqS_RAF"
      }
    },
    {
      "cell_type": "code",
      "source": [
        "# of classes = 5\n",
        "# of channels = 3 \n",
        "# frames per video = 30\n",
        "\n",
        "# Class InitParameters for setting parameters for different models\n",
        "class InitParameters():\n",
        "\n",
        "    # Function for defining project path\n",
        "    def initialize_path(self, project_folder):\n",
        "        self.train_doc = np.random.permutation(open(project_folder + '/' + 'train.csv').readlines())\n",
        "        self.val_doc = np.random.permutation(open(project_folder + '/' + 'val.csv').readlines())\n",
        "        self.train_path = project_folder + '/' + 'train'\n",
        "        self.val_path =  project_folder + '/' + 'val'\n",
        "        self.num_train_sequences = len(self.train_doc)\n",
        "        self.num_val_sequences = len(self.val_doc)\n",
        "\n",
        "    # initialising the image properties    \n",
        "    def initialize_image_properties(self, image_height=100,image_width=100):\n",
        "        self.image_height=image_height\n",
        "        self.image_width=image_width\n",
        "        self.channels=3\n",
        "        self.num_classes=5\n",
        "        self.total_frames=30\n",
        "\n",
        "    # initialising the batch size, frames to sample and epochs\n",
        "    def initialize_hyperparams(self, frames_to_sample=30,batch_size=20,num_epochs=20):\n",
        "        self.frames_to_sample=frames_to_sample\n",
        "        self.batch_size=batch_size\n",
        "        self.num_epochs=num_epochs"
      ],
      "metadata": {
        "id": "z56pjADD_Qdd"
      },
      "execution_count": null,
      "outputs": []
    },
    {
      "cell_type": "code",
      "source": [
        "# unit test params\n",
        "params = InitParameters()\n",
        "params.initialize_image_properties(120,120)\n",
        "print(params.image_height)"
      ],
      "metadata": {
        "colab": {
          "base_uri": "https://localhost:8080/"
        },
        "id": "uURUrOSLF6bp",
        "outputId": "313729a1-1f73-4d6c-da20-849f4658b59e"
      },
      "execution_count": null,
      "outputs": [
        {
          "output_type": "stream",
          "name": "stdout",
          "text": [
            "120\n"
          ]
        }
      ]
    },
    {
      "cell_type": "markdown",
      "source": [
        "#### Plot Function "
      ],
      "metadata": {
        "id": "TECI81gUAEs1"
      }
    },
    {
      "cell_type": "code",
      "source": [
        "# Function to plot the training/validation accuracies/losses.\n",
        "def plot(history):\n",
        "    fig, axes = plt.subplots(nrows=1, ncols=2, figsize=(15,4))\n",
        "    axes[0].plot(history.history['loss'])   \n",
        "    axes[0].plot(history.history['val_loss'])\n",
        "    axes[0].legend(['loss','val_loss'])\n",
        "    axes[1].plot(history.history['categorical_accuracy'])   \n",
        "    axes[1].plot(history.history['val_categorical_accuracy'])\n",
        "    axes[1].legend(['categorical_accuracy','val_categorical_accuracy'])"
      ],
      "metadata": {
        "id": "u1v-NCzSAEOm"
      },
      "execution_count": null,
      "outputs": []
    },
    {
      "cell_type": "markdown",
      "source": [
        "## **Importing Data**"
      ],
      "metadata": {
        "id": "-FLeOkH3Nv6P"
      }
    },
    {
      "cell_type": "markdown",
      "source": [
        "The training data consists of a few hundred videos categorised into one of the five classes. Each video is divided into a sequence of 30 frames. These videos have been recorded by various people performing one of the five gestures in front of a webcam - similar to what the smart TV will use. </br>\n",
        "We read the training and validation datasets. We also set the `batch_size` here. The batch size is set in such a way that we are able to use the GPU in full capacity. We keep increasing the batch size until the machine throws an error."
      ],
      "metadata": {
        "id": "G6GpXX-IPi_7"
      }
    },
    {
      "cell_type": "markdown",
      "source": [
        "#### Setting the path to project folder"
      ],
      "metadata": {
        "id": "5qvaSB_Op9eB"
      }
    },
    {
      "cell_type": "code",
      "source": [
        "project_folder = 'Project_data'"
      ],
      "metadata": {
        "id": "-MqoPLfPtbtW"
      },
      "execution_count": null,
      "outputs": []
    },
    {
      "cell_type": "code",
      "source": [
        "#unzip the data set\n",
        "from zipfile import ZipFile\n",
        "file_name = \"gesture-recognition.zip\"\n",
        "\n",
        "print(file_name)\n",
        "\n",
        "with ZipFile(file_name, 'r') as zip:\n",
        "  zip.extractall()\n",
        "  print('Done')"
      ],
      "metadata": {
        "colab": {
          "base_uri": "https://localhost:8080/"
        },
        "id": "uyJh1P33MHTv",
        "outputId": "3148c28f-986a-49bd-fa17-9ff7909b4bea"
      },
      "execution_count": null,
      "outputs": [
        {
          "output_type": "stream",
          "name": "stdout",
          "text": [
            "gesture-recognition.zip\n",
            "Done\n"
          ]
        }
      ]
    },
    {
      "cell_type": "code",
      "execution_count": null,
      "metadata": {
        "id": "41lQBb6B_NIp"
      },
      "outputs": [],
      "source": [
        "# test and validation docs\n",
        "train_doc = np.random.permutation(open(project_folder + '/train.csv').readlines())\n",
        "val_doc = np.random.permutation(open(project_folder + '/val.csv').readlines())"
      ]
    },
    {
      "cell_type": "markdown",
      "source": [
        "#### Looking at the train and validation datsets"
      ],
      "metadata": {
        "id": "7CkBUlp5Chp4"
      }
    },
    {
      "cell_type": "code",
      "source": [
        "curr_dt_time = datetime.datetime.now()\n",
        "train_path = 'train'\n",
        "val_path = 'val'\n",
        "num_train_sequences = len(train_doc)\n",
        "print('# training sequences =', num_train_sequences)\n",
        "num_val_sequences = len(val_doc)\n",
        "print('# validation sequences =', num_val_sequences)\n",
        "num_epochs = 20 # choose the number of epochs\n",
        "print ('# epochs =', num_epochs)\n",
        "batch_size = 20     #experiment with the batch size\n",
        "print ('batch_size =', batch_size)"
      ],
      "metadata": {
        "id": "XlGiRS2QCNhp",
        "colab": {
          "base_uri": "https://localhost:8080/"
        },
        "outputId": "81f2d588-7bd2-412d-aef7-79d51232de76"
      },
      "execution_count": null,
      "outputs": [
        {
          "output_type": "stream",
          "name": "stdout",
          "text": [
            "# training sequences = 663\n",
            "# validation sequences = 100\n",
            "# epochs = 20\n",
            "batch_size = 20\n"
          ]
        }
      ]
    },
    {
      "cell_type": "markdown",
      "metadata": {
        "id": "KzJeJTx8_NIs"
      },
      "source": [
        "## **Generator**\n",
        "In the generator, we are going to preprocess the images as we have images of 2 different dimensions as well as create a batch of video frames. We will experiment with `img_idx`, `y`,`z` and normalization such that we get high accuracy. </br>\n",
        "The goal is that the generator is be able to take a batch of videos as input without any error. Steps like cropping, resizing and normalization should be performed successfully."
      ]
    },
    {
      "cell_type": "code",
      "source": [
        " # generator function for creating batches of video frames for processing\n",
        " # Used during model training\n",
        "\n",
        "def generator(params, source_path, folder_list, augment=False):\n",
        "        batch_size = params.batch_size  \n",
        "        print( 'Source path = ', source_path, '; batch size =', batch_size)\n",
        "         \n",
        "      # create a list of image numbers you want to use for a particular video\n",
        "        img_idx = np.round(np.linspace(0,params.total_frames-1, params.frames_to_sample)).astype(int)\n",
        "       \n",
        "        while True:\n",
        "            # shuffle the training doc\n",
        "            t = np.random.permutation(folder_list) \n",
        "      \n",
        "            # calculate the number of batches   \n",
        "            num_batches = len(t)//batch_size          \n",
        "        \n",
        "            # for each complete batch\n",
        "            for batch in range(num_batches): \n",
        "                batch_data, batch_labels= batch_processing(params,source_path,t,batch,batch_size,img_idx,augment)\n",
        "                yield batch_data, batch_labels   # yield the batch_data and the batch_labels\n",
        "\n",
        "            # process the remaining sequence\n",
        "            pending_seq=len(t)%batch_size      \n",
        "            if (pending_seq != 0):\n",
        "                batch_data, batch_labels= batch_processing(params,source_path,t,num_batches,batch_size,img_idx,augment,pending_seq)\n",
        "                yield batch_data, batch_labels  # yield the batch_data and the batch_labels\n",
        "\n",
        "\n",
        " # Function for single batch processing\n",
        " # Used by the generator\n",
        "  \n",
        "def batch_processing(params,source_path,t,batch,batch_size,img_idx,augment=False,pending_seq=0):\n",
        "    \n",
        "        seq_len = pending_seq if pending_seq else batch_size\n",
        "    \n",
        "        batch_data = np.zeros((seq_len,len(img_idx),params.image_height,params.image_width,params.channels)) # x is the number of images you use for each video, (y,z) is the final size of the input images and 3 is the number of channels RGB\n",
        "        batch_labels = np.zeros((seq_len,params.num_classes))   # batch_labels is the one hot representation of the output\n",
        "    \n",
        "        if (augment): batch_data_aug = np.zeros((seq_len,len(img_idx),params.image_height,params.image_width,params.channels))\n",
        "\n",
        "        \n",
        "        for folder in range(seq_len): # iterate over the batch_size\n",
        "            imgs = os.listdir(source_path+'/'+ t[folder + (batch*batch_size)].split(';')[0]) # read all the images in the folder\n",
        "            for idx,item in enumerate(img_idx):  #  Iterate over the frames/images of a folder to read them in\n",
        "                image = imread(source_path+'/'+ t[folder + (batch*batch_size)].strip().split(';')[0]+'/'+imgs[item]).astype(np.float32)\n",
        "                image_resized=imresize(image,(params.image_height,params.image_width,3))\n",
        "            \n",
        "\n",
        "                batch_data[folder,idx,:,:,0] = (image_resized[:,:,0])/255   #normalise and feed in the image\n",
        "                batch_data[folder,idx,:,:,1] = (image_resized[:,:,1])/255\n",
        "                batch_data[folder,idx,:,:,2] = (image_resized[:,:,2])/255\n",
        "            \n",
        "                if (augment):\n",
        "                    shifted = cv2.warpAffine(image, \n",
        "                                             np.float32([[1, 0, np.random.randint(-30,30)],[0, 1, np.random.randint(-30,30)]]), \n",
        "                                            (image.shape[1], image.shape[0]))\n",
        "                  \n",
        "                    gray = cv2.cvtColor(shifted,cv2.COLOR_BGR2GRAY)\n",
        "\n",
        "                    x0, y0 = np.argwhere(gray > 0).min(axis=0)\n",
        "                    x1, y1 = np.argwhere(gray > 0).max(axis=0) \n",
        "                    \n",
        "                    cropped=shifted[x0:x1,y0:y1,:]\n",
        "                    \n",
        "                    image_resized=imresize(cropped,(params.image_height,params.image_width,3))\n",
        "                  \n",
        "                    batch_data_aug[folder,idx,:,:,0] = (image_resized[:,:,0])/255\n",
        "                    batch_data_aug[folder,idx,:,:,1] = (image_resized[:,:,1])/255\n",
        "                    batch_data_aug[folder,idx,:,:,2] = (image_resized[:,:,2])/255\n",
        "                \n",
        "            \n",
        "            batch_labels[folder, int(t[folder + (batch*batch_size)].strip().split(';')[2])] = 1\n",
        "            \n",
        "    \n",
        "        if (augment):\n",
        "            batch_data=np.concatenate([batch_data,batch_data_aug])\n",
        "            batch_labels=np.concatenate([batch_labels,batch_labels])\n",
        "\n",
        "        \n",
        "        return(batch_data,batch_labels)                "
      ],
      "metadata": {
        "id": "T2nnaezPIaWy"
      },
      "execution_count": null,
      "outputs": []
    },
    {
      "cell_type": "markdown",
      "metadata": {
        "id": "QQfthQfh_NI_"
      },
      "source": [
        "## **Model**\n",
        "Here we make the model using different functionalities that Keras provides. We will be using `Conv3D` and `MaxPooling3D` and not `Conv2D` and `Maxpooling2D` for a 3D convolution model. We would use `TimeDistributed` while building a Conv2D + RNN model. Also, the last layer is the softmax. </br>\n",
        "The goal is to design the network in such a way that the model is able to give good accuracy on the least number of parameters so that it can fit in the memory of the webcam."
      ]
    },
    {
      "cell_type": "markdown",
      "source": [
        "### **Loading the libraries**"
      ],
      "metadata": {
        "id": "P7gPX89u3DVk"
      }
    },
    {
      "cell_type": "code",
      "execution_count": null,
      "metadata": {
        "id": "4SKsNsh1_NJB"
      },
      "outputs": [],
      "source": [
        "from keras.models import Sequential, Model\n",
        "from keras.layers import Dense, GRU, Flatten, TimeDistributed, Flatten, BatchNormalization, Activation\n",
        "from keras.layers.convolutional import Conv3D, MaxPooling3D, Conv2D, MaxPooling2D\n",
        "from keras.callbacks import ModelCheckpoint, ReduceLROnPlateau\n",
        "from keras import optimizers\n",
        "from keras.layers.recurrent import LSTM\n",
        "from keras.layers import Dropout\n",
        "import abc\n",
        "from sys import getsizeof"
      ]
    },
    {
      "cell_type": "markdown",
      "source": [
        "### **Abstract Class: ModelBuilder**\n"
      ],
      "metadata": {
        "id": "NbMtuBvyVKdx"
      }
    },
    {
      "cell_type": "code",
      "source": [
        "# Abstract class to define the basic functionalities for each model class \n",
        "class ModelBuilder(metaclass= abc.ABCMeta):\n",
        "\n",
        "# Setting the parameters\n",
        "  def __init__(self, params):\n",
        "    self.params = params\n",
        "\n",
        "# Training the model\n",
        "  def train_model(self, model, augment_data=False):\n",
        "        train_generator = generator(params, params.train_path, params.train_doc, augment=augment_data)\n",
        "        val_generator = generator(params, params.val_path, params.val_doc)\n",
        "\n",
        "        model_name = 'model_init' + '_' + str(datetime.datetime.now()).replace(' ','').replace(':','_') + '/'\n",
        "    \n",
        "        if not os.path.exists(model_name):\n",
        "            os.mkdir(model_name)\n",
        "        \n",
        "        filepath = model_name + 'model-{epoch:05d}-{loss:.5f}-{categorical_accuracy:.5f}-{val_loss:.5f}-{val_categorical_accuracy:.5f}.h5'\n",
        "\n",
        "   # Let us now fit the model. This will start training the model and with the help of the checkpoints, you'll be able to save the model at the end of each epoch.\n",
        "        checkpoint = ModelCheckpoint(filepath, monitor='val_loss', verbose=1, save_best_only=False, save_weights_only=False, mode='auto', period=1)\n",
        "        LR = ReduceLROnPlateau(monitor='val_loss', factor=0.2, verbose=1, patience=4)\n",
        "        callbacks_list = [checkpoint, LR]\n",
        "\n",
        "   # The steps_per_epoch and validation_steps are used by fit_generator to decide the number of next() calls it need to make.\n",
        "        if (params.num_train_sequences%params.batch_size) == 0:\n",
        "            steps_per_epoch = int(params.num_train_sequences/params.batch_size)\n",
        "        else:\n",
        "            steps_per_epoch = (params.num_train_sequences//params.batch_size) + 1\n",
        "\n",
        "        if (params.num_val_sequences%params.batch_size) == 0:\n",
        "            validation_steps = int(params.num_val_sequences/params.batch_size)\n",
        "        else:\n",
        "            validation_steps = (params.num_val_sequences//params.batch_size) + 1\n",
        "\n",
        "    # Model fitting\n",
        "        history=model.fit_generator(train_generator, steps_per_epoch=steps_per_epoch, epochs=params.num_epochs, verbose=1, \n",
        "                            callbacks=callbacks_list, validation_data=val_generator, \n",
        "                            validation_steps=validation_steps, class_weight=None, workers=1, initial_epoch=0)\n",
        "        return history\n",
        "\n",
        "  @abc.abstractmethod\n",
        "  def define_model(self):\n",
        "        pass        "
      ],
      "metadata": {
        "id": "aqLg6isUVJ47"
      },
      "execution_count": null,
      "outputs": []
    },
    {
      "cell_type": "markdown",
      "source": [
        "### **Basic 3DConv Model**"
      ],
      "metadata": {
        "id": "UcfZh5w93K-F"
      }
    },
    {
      "cell_type": "markdown",
      "source": [
        "3D Conv model with (3,3,3) filter. </br>\n",
        "4 convolution layers followed by flattening and fully connected dense layers. </br>\n",
        "Finally, a softmax layer with 5 neurons."
      ],
      "metadata": {
        "id": "TW7pkysViWgA"
      }
    },
    {
      "cell_type": "markdown",
      "source": [
        "#### Define the Model"
      ],
      "metadata": {
        "id": "b-7KnuuY3lhh"
      }
    },
    {
      "cell_type": "code",
      "source": [
        "class ModelConv3D(ModelBuilder):\n",
        "    \n",
        "    def define_model(self):\n",
        "    \n",
        "     # define the model\n",
        "        model = Sequential()\n",
        "        model.add(Conv3D(16, (3, 3, 3), padding='same',\n",
        "                 input_shape=(params.frames_to_sample,params.image_height,params.image_width,params.channels)))\n",
        "        model.add(Activation('relu'))\n",
        "        model.add(BatchNormalization())\n",
        "        model.add(MaxPooling3D(pool_size=(2, 2, 2)))\n",
        "\n",
        "        model.add(Conv3D(32, (2, 2, 2), padding='same'))\n",
        "        model.add(Activation('relu'))\n",
        "        model.add(BatchNormalization())\n",
        "        model.add(MaxPooling3D(pool_size=(2, 2, 2)))\n",
        "\n",
        "        model.add(Conv3D(64, (2, 2, 2), padding='same'))\n",
        "        model.add(Activation('relu'))\n",
        "        model.add(BatchNormalization())\n",
        "        model.add(MaxPooling3D(pool_size=(2, 2, 2)))\n",
        "\n",
        "        model.add(Conv3D(128, (2, 2, 2), padding='same'))\n",
        "        model.add(Activation('relu'))\n",
        "        model.add(BatchNormalization())\n",
        "        model.add(MaxPooling3D(pool_size=(2, 2, 2)))\n",
        "\n",
        "        model.add(Flatten())\n",
        "        model.add(Dense(128,activation='relu'))\n",
        "        model.add(BatchNormalization())\n",
        "        model.add(Dropout(0.5))\n",
        "\n",
        "        model.add(Dense(64,activation='relu'))\n",
        "        model.add(BatchNormalization())\n",
        "        model.add(Dropout(0.25))\n",
        "\n",
        "        model.add(Dense(params.num_classes,activation='softmax'))\n",
        "\n",
        "    # compile the model\n",
        "        optimiser = tf.optimizers.Adam()\n",
        "        model.compile(optimizer=optimiser, loss='categorical_crossentropy', metrics=['categorical_accuracy'])\n",
        "  \n",
        "        print (model.summary())   # when we print the summary we will see the number of parameters to train\n",
        "        return model\n"
      ],
      "metadata": {
        "id": "IspI0nO93oNS"
      },
      "execution_count": null,
      "outputs": []
    },
    {
      "cell_type": "markdown",
      "source": [
        "#### Build the Model"
      ],
      "metadata": {
        "id": "5OiOzI0AaV1j"
      }
    },
    {
      "cell_type": "code",
      "source": [
        "# set the parameters for the model\n",
        "params = InitParameters()\n",
        "params.initialize_path(project_folder)\n",
        "params.initialize_image_properties(image_height=160,image_width=160)\n",
        "params.initialize_hyperparams(frames_to_sample=30,batch_size=40,num_epochs=1)\n",
        "\n",
        "print(params)\n",
        "\n",
        "# build the model\n",
        "conv_3d = ModelConv3D(params)\n",
        "conv_3d_model = conv_3d.define_model()"
      ],
      "metadata": {
        "id": "9RNHW8dwU1Mm",
        "colab": {
          "base_uri": "https://localhost:8080/"
        },
        "outputId": "22030c9c-c9f6-47c8-98fb-da33ad07eb70"
      },
      "execution_count": null,
      "outputs": [
        {
          "output_type": "stream",
          "name": "stdout",
          "text": [
            "<__main__.InitParameters object at 0x7eff306f7dd0>\n",
            "Model: \"sequential\"\n",
            "_________________________________________________________________\n",
            " Layer (type)                Output Shape              Param #   \n",
            "=================================================================\n",
            " conv3d (Conv3D)             (None, 30, 160, 160, 16)  1312      \n",
            "                                                                 \n",
            " activation (Activation)     (None, 30, 160, 160, 16)  0         \n",
            "                                                                 \n",
            " batch_normalization (BatchN  (None, 30, 160, 160, 16)  64       \n",
            " ormalization)                                                   \n",
            "                                                                 \n",
            " max_pooling3d (MaxPooling3D  (None, 15, 80, 80, 16)   0         \n",
            " )                                                               \n",
            "                                                                 \n",
            " conv3d_1 (Conv3D)           (None, 15, 80, 80, 32)    4128      \n",
            "                                                                 \n",
            " activation_1 (Activation)   (None, 15, 80, 80, 32)    0         \n",
            "                                                                 \n",
            " batch_normalization_1 (Batc  (None, 15, 80, 80, 32)   128       \n",
            " hNormalization)                                                 \n",
            "                                                                 \n",
            " max_pooling3d_1 (MaxPooling  (None, 7, 40, 40, 32)    0         \n",
            " 3D)                                                             \n",
            "                                                                 \n",
            " conv3d_2 (Conv3D)           (None, 7, 40, 40, 64)     16448     \n",
            "                                                                 \n",
            " activation_2 (Activation)   (None, 7, 40, 40, 64)     0         \n",
            "                                                                 \n",
            " batch_normalization_2 (Batc  (None, 7, 40, 40, 64)    256       \n",
            " hNormalization)                                                 \n",
            "                                                                 \n",
            " max_pooling3d_2 (MaxPooling  (None, 3, 20, 20, 64)    0         \n",
            " 3D)                                                             \n",
            "                                                                 \n",
            " conv3d_3 (Conv3D)           (None, 3, 20, 20, 128)    65664     \n",
            "                                                                 \n",
            " activation_3 (Activation)   (None, 3, 20, 20, 128)    0         \n",
            "                                                                 \n",
            " batch_normalization_3 (Batc  (None, 3, 20, 20, 128)   512       \n",
            " hNormalization)                                                 \n",
            "                                                                 \n",
            " max_pooling3d_3 (MaxPooling  (None, 1, 10, 10, 128)   0         \n",
            " 3D)                                                             \n",
            "                                                                 \n",
            " flatten (Flatten)           (None, 12800)             0         \n",
            "                                                                 \n",
            " dense (Dense)               (None, 128)               1638528   \n",
            "                                                                 \n",
            " batch_normalization_4 (Batc  (None, 128)              512       \n",
            " hNormalization)                                                 \n",
            "                                                                 \n",
            " dropout (Dropout)           (None, 128)               0         \n",
            "                                                                 \n",
            " dense_1 (Dense)             (None, 64)                8256      \n",
            "                                                                 \n",
            " batch_normalization_5 (Batc  (None, 64)               256       \n",
            " hNormalization)                                                 \n",
            "                                                                 \n",
            " dropout_1 (Dropout)         (None, 64)                0         \n",
            "                                                                 \n",
            " dense_2 (Dense)             (None, 5)                 325       \n",
            "                                                                 \n",
            "=================================================================\n",
            "Total params: 1,736,389\n",
            "Trainable params: 1,735,525\n",
            "Non-trainable params: 864\n",
            "_________________________________________________________________\n",
            "None\n"
          ]
        }
      ]
    },
    {
      "cell_type": "markdown",
      "source": [
        "#### Memory Utilization"
      ],
      "metadata": {
        "id": "43doOAmVqgMs"
      }
    },
    {
      "cell_type": "code",
      "source": [
        "print(\"Memory utilization is {:4.2f} GB\". format(getsizeof(np.zeros((40,16,30,160,160)))/(1024*1024*1024)))"
      ],
      "metadata": {
        "id": "C5Nj_Mxfg6Op",
        "colab": {
          "base_uri": "https://localhost:8080/"
        },
        "outputId": "6afcf5b8-0fc4-4420-a28e-cf3bb762d13b"
      },
      "execution_count": null,
      "outputs": [
        {
          "output_type": "stream",
          "name": "stdout",
          "text": [
            "Memory utilization is 3.66 GB\n"
          ]
        }
      ]
    },
    {
      "cell_type": "markdown",
      "source": [
        "###**Selecting the batch size**"
      ],
      "metadata": {
        "id": "50SuuB69RcXF"
      }
    },
    {
      "cell_type": "code",
      "source": [
        "# Batch size 60, frames 30, Image 160x160\n",
        "# setting params\n",
        "params = InitParameters()\n",
        "params.initialize_path(project_folder)\n",
        "params.initialize_image_properties(image_height=160,image_width=160)\n",
        "params.initialize_hyperparams(frames_to_sample=30,batch_size=60,num_epochs=2)\n",
        "\n",
        "\n",
        "conv_3d_b1=ModelConv3D(params)\n",
        "conv_3d_b1_model=conv_3d_b1.define_model()\n",
        "print(\"Total Params:\", conv_3d_b1_model.count_params())\n",
        "conv_3d_b1.train_model(conv_3d_b1_model)"
      ],
      "metadata": {
        "id": "hyQGvltcRkSf",
        "colab": {
          "base_uri": "https://localhost:8080/",
          "height": 1000
        },
        "outputId": "20c1d87d-7e1d-43a4-85d7-2fc9ecd22c54"
      },
      "execution_count": null,
      "outputs": [
        {
          "output_type": "stream",
          "name": "stdout",
          "text": [
            "Model: \"sequential_1\"\n",
            "_________________________________________________________________\n",
            " Layer (type)                Output Shape              Param #   \n",
            "=================================================================\n",
            " conv3d_4 (Conv3D)           (None, 30, 160, 160, 16)  1312      \n",
            "                                                                 \n",
            " activation_4 (Activation)   (None, 30, 160, 160, 16)  0         \n",
            "                                                                 \n",
            " batch_normalization_6 (Batc  (None, 30, 160, 160, 16)  64       \n",
            " hNormalization)                                                 \n",
            "                                                                 \n",
            " max_pooling3d_4 (MaxPooling  (None, 15, 80, 80, 16)   0         \n",
            " 3D)                                                             \n",
            "                                                                 \n",
            " conv3d_5 (Conv3D)           (None, 15, 80, 80, 32)    4128      \n",
            "                                                                 \n",
            " activation_5 (Activation)   (None, 15, 80, 80, 32)    0         \n",
            "                                                                 \n",
            " batch_normalization_7 (Batc  (None, 15, 80, 80, 32)   128       \n",
            " hNormalization)                                                 \n",
            "                                                                 \n",
            " max_pooling3d_5 (MaxPooling  (None, 7, 40, 40, 32)    0         \n",
            " 3D)                                                             \n",
            "                                                                 \n",
            " conv3d_6 (Conv3D)           (None, 7, 40, 40, 64)     16448     \n",
            "                                                                 \n",
            " activation_6 (Activation)   (None, 7, 40, 40, 64)     0         \n",
            "                                                                 \n",
            " batch_normalization_8 (Batc  (None, 7, 40, 40, 64)    256       \n",
            " hNormalization)                                                 \n",
            "                                                                 \n",
            " max_pooling3d_6 (MaxPooling  (None, 3, 20, 20, 64)    0         \n",
            " 3D)                                                             \n",
            "                                                                 \n",
            " conv3d_7 (Conv3D)           (None, 3, 20, 20, 128)    65664     \n",
            "                                                                 \n",
            " activation_7 (Activation)   (None, 3, 20, 20, 128)    0         \n",
            "                                                                 \n",
            " batch_normalization_9 (Batc  (None, 3, 20, 20, 128)   512       \n",
            " hNormalization)                                                 \n",
            "                                                                 \n",
            " max_pooling3d_7 (MaxPooling  (None, 1, 10, 10, 128)   0         \n",
            " 3D)                                                             \n",
            "                                                                 \n",
            " flatten_1 (Flatten)         (None, 12800)             0         \n",
            "                                                                 \n",
            " dense_3 (Dense)             (None, 128)               1638528   \n",
            "                                                                 \n",
            " batch_normalization_10 (Bat  (None, 128)              512       \n",
            " chNormalization)                                                \n",
            "                                                                 \n",
            " dropout_2 (Dropout)         (None, 128)               0         \n",
            "                                                                 \n",
            " dense_4 (Dense)             (None, 64)                8256      \n",
            "                                                                 \n",
            " batch_normalization_11 (Bat  (None, 64)               256       \n",
            " chNormalization)                                                \n",
            "                                                                 \n",
            " dropout_3 (Dropout)         (None, 64)                0         \n",
            "                                                                 \n",
            " dense_5 (Dense)             (None, 5)                 325       \n",
            "                                                                 \n",
            "=================================================================\n",
            "Total params: 1,736,389\n",
            "Trainable params: 1,735,525\n",
            "Non-trainable params: 864\n",
            "_________________________________________________________________\n"
          ]
        },
        {
          "output_type": "stream",
          "name": "stderr",
          "text": [
            "WARNING:tensorflow:`period` argument is deprecated. Please use `save_freq` to specify the frequency in number of batches seen.\n"
          ]
        },
        {
          "output_type": "stream",
          "name": "stdout",
          "text": [
            "None\n",
            "Total Params: 1736389\n",
            "Source path =  Project_data/train ; batch size = 60\n",
            "Epoch 1/2\n"
          ]
        },
        {
          "output_type": "error",
          "ename": "ResourceExhaustedError",
          "evalue": "ignored",
          "traceback": [
            "\u001b[0;31m---------------------------------------------------------------------------\u001b[0m",
            "\u001b[0;31mResourceExhaustedError\u001b[0m                    Traceback (most recent call last)",
            "\u001b[0;32m<ipython-input-21-3fa2a52dea37>\u001b[0m in \u001b[0;36m<module>\u001b[0;34m\u001b[0m\n\u001b[1;32m     10\u001b[0m \u001b[0mconv_3d_b1_model\u001b[0m\u001b[0;34m=\u001b[0m\u001b[0mconv_3d_b1\u001b[0m\u001b[0;34m.\u001b[0m\u001b[0mdefine_model\u001b[0m\u001b[0;34m(\u001b[0m\u001b[0;34m)\u001b[0m\u001b[0;34m\u001b[0m\u001b[0;34m\u001b[0m\u001b[0m\n\u001b[1;32m     11\u001b[0m \u001b[0mprint\u001b[0m\u001b[0;34m(\u001b[0m\u001b[0;34m\"Total Params:\"\u001b[0m\u001b[0;34m,\u001b[0m \u001b[0mconv_3d_b1_model\u001b[0m\u001b[0;34m.\u001b[0m\u001b[0mcount_params\u001b[0m\u001b[0;34m(\u001b[0m\u001b[0;34m)\u001b[0m\u001b[0;34m)\u001b[0m\u001b[0;34m\u001b[0m\u001b[0;34m\u001b[0m\u001b[0m\n\u001b[0;32m---> 12\u001b[0;31m \u001b[0mconv_3d_b1\u001b[0m\u001b[0;34m.\u001b[0m\u001b[0mtrain_model\u001b[0m\u001b[0;34m(\u001b[0m\u001b[0mconv_3d_b1_model\u001b[0m\u001b[0;34m)\u001b[0m\u001b[0;34m\u001b[0m\u001b[0;34m\u001b[0m\u001b[0m\n\u001b[0m",
            "\u001b[0;32m<ipython-input-16-41ff360b2540>\u001b[0m in \u001b[0;36mtrain_model\u001b[0;34m(self, model, augment_data)\u001b[0m\n\u001b[1;32m     37\u001b[0m         history=model.fit_generator(train_generator, steps_per_epoch=steps_per_epoch, epochs=params.num_epochs, verbose=1, \n\u001b[1;32m     38\u001b[0m                             \u001b[0mcallbacks\u001b[0m\u001b[0;34m=\u001b[0m\u001b[0mcallbacks_list\u001b[0m\u001b[0;34m,\u001b[0m \u001b[0mvalidation_data\u001b[0m\u001b[0;34m=\u001b[0m\u001b[0mval_generator\u001b[0m\u001b[0;34m,\u001b[0m\u001b[0;34m\u001b[0m\u001b[0;34m\u001b[0m\u001b[0m\n\u001b[0;32m---> 39\u001b[0;31m                             validation_steps=validation_steps, class_weight=None, workers=1, initial_epoch=0)\n\u001b[0m\u001b[1;32m     40\u001b[0m         \u001b[0;32mreturn\u001b[0m \u001b[0mhistory\u001b[0m\u001b[0;34m\u001b[0m\u001b[0;34m\u001b[0m\u001b[0m\n\u001b[1;32m     41\u001b[0m \u001b[0;34m\u001b[0m\u001b[0m\n",
            "\u001b[0;32m/usr/local/lib/python3.7/dist-packages/keras/engine/training.py\u001b[0m in \u001b[0;36mfit_generator\u001b[0;34m(self, generator, steps_per_epoch, epochs, verbose, callbacks, validation_data, validation_steps, validation_freq, class_weight, max_queue_size, workers, use_multiprocessing, shuffle, initial_epoch)\u001b[0m\n\u001b[1;32m   2221\u001b[0m         \u001b[0muse_multiprocessing\u001b[0m\u001b[0;34m=\u001b[0m\u001b[0muse_multiprocessing\u001b[0m\u001b[0;34m,\u001b[0m\u001b[0;34m\u001b[0m\u001b[0;34m\u001b[0m\u001b[0m\n\u001b[1;32m   2222\u001b[0m         \u001b[0mshuffle\u001b[0m\u001b[0;34m=\u001b[0m\u001b[0mshuffle\u001b[0m\u001b[0;34m,\u001b[0m\u001b[0;34m\u001b[0m\u001b[0;34m\u001b[0m\u001b[0m\n\u001b[0;32m-> 2223\u001b[0;31m         initial_epoch=initial_epoch)\n\u001b[0m\u001b[1;32m   2224\u001b[0m \u001b[0;34m\u001b[0m\u001b[0m\n\u001b[1;32m   2225\u001b[0m   \u001b[0;34m@\u001b[0m\u001b[0mdoc_controls\u001b[0m\u001b[0;34m.\u001b[0m\u001b[0mdo_not_generate_docs\u001b[0m\u001b[0;34m\u001b[0m\u001b[0;34m\u001b[0m\u001b[0m\n",
            "\u001b[0;32m/usr/local/lib/python3.7/dist-packages/keras/utils/traceback_utils.py\u001b[0m in \u001b[0;36merror_handler\u001b[0;34m(*args, **kwargs)\u001b[0m\n\u001b[1;32m     65\u001b[0m     \u001b[0;32mexcept\u001b[0m \u001b[0mException\u001b[0m \u001b[0;32mas\u001b[0m \u001b[0me\u001b[0m\u001b[0;34m:\u001b[0m  \u001b[0;31m# pylint: disable=broad-except\u001b[0m\u001b[0;34m\u001b[0m\u001b[0;34m\u001b[0m\u001b[0m\n\u001b[1;32m     66\u001b[0m       \u001b[0mfiltered_tb\u001b[0m \u001b[0;34m=\u001b[0m \u001b[0m_process_traceback_frames\u001b[0m\u001b[0;34m(\u001b[0m\u001b[0me\u001b[0m\u001b[0;34m.\u001b[0m\u001b[0m__traceback__\u001b[0m\u001b[0;34m)\u001b[0m\u001b[0;34m\u001b[0m\u001b[0;34m\u001b[0m\u001b[0m\n\u001b[0;32m---> 67\u001b[0;31m       \u001b[0;32mraise\u001b[0m \u001b[0me\u001b[0m\u001b[0;34m.\u001b[0m\u001b[0mwith_traceback\u001b[0m\u001b[0;34m(\u001b[0m\u001b[0mfiltered_tb\u001b[0m\u001b[0;34m)\u001b[0m \u001b[0;32mfrom\u001b[0m \u001b[0;32mNone\u001b[0m\u001b[0;34m\u001b[0m\u001b[0;34m\u001b[0m\u001b[0m\n\u001b[0m\u001b[1;32m     68\u001b[0m     \u001b[0;32mfinally\u001b[0m\u001b[0;34m:\u001b[0m\u001b[0;34m\u001b[0m\u001b[0;34m\u001b[0m\u001b[0m\n\u001b[1;32m     69\u001b[0m       \u001b[0;32mdel\u001b[0m \u001b[0mfiltered_tb\u001b[0m\u001b[0;34m\u001b[0m\u001b[0;34m\u001b[0m\u001b[0m\n",
            "\u001b[0;32m/usr/local/lib/python3.7/dist-packages/tensorflow/python/eager/execute.py\u001b[0m in \u001b[0;36mquick_execute\u001b[0;34m(op_name, num_outputs, inputs, attrs, ctx, name)\u001b[0m\n\u001b[1;32m     53\u001b[0m     \u001b[0mctx\u001b[0m\u001b[0;34m.\u001b[0m\u001b[0mensure_initialized\u001b[0m\u001b[0;34m(\u001b[0m\u001b[0;34m)\u001b[0m\u001b[0;34m\u001b[0m\u001b[0;34m\u001b[0m\u001b[0m\n\u001b[1;32m     54\u001b[0m     tensors = pywrap_tfe.TFE_Py_Execute(ctx._handle, device_name, op_name,\n\u001b[0;32m---> 55\u001b[0;31m                                         inputs, attrs, num_outputs)\n\u001b[0m\u001b[1;32m     56\u001b[0m   \u001b[0;32mexcept\u001b[0m \u001b[0mcore\u001b[0m\u001b[0;34m.\u001b[0m\u001b[0m_NotOkStatusException\u001b[0m \u001b[0;32mas\u001b[0m \u001b[0me\u001b[0m\u001b[0;34m:\u001b[0m\u001b[0;34m\u001b[0m\u001b[0;34m\u001b[0m\u001b[0m\n\u001b[1;32m     57\u001b[0m     \u001b[0;32mif\u001b[0m \u001b[0mname\u001b[0m \u001b[0;32mis\u001b[0m \u001b[0;32mnot\u001b[0m \u001b[0;32mNone\u001b[0m\u001b[0;34m:\u001b[0m\u001b[0;34m\u001b[0m\u001b[0;34m\u001b[0m\u001b[0m\n",
            "\u001b[0;31mResourceExhaustedError\u001b[0m: Graph execution error:\n\nDetected at node 'gradient_tape/sequential_1/max_pooling3d_4/MaxPool3D/MaxPool3DGrad' defined at (most recent call last):\n    File \"/usr/lib/python3.7/runpy.py\", line 193, in _run_module_as_main\n      \"__main__\", mod_spec)\n    File \"/usr/lib/python3.7/runpy.py\", line 85, in _run_code\n      exec(code, run_globals)\n    File \"/usr/local/lib/python3.7/dist-packages/ipykernel_launcher.py\", line 16, in <module>\n      app.launch_new_instance()\n    File \"/usr/local/lib/python3.7/dist-packages/traitlets/config/application.py\", line 846, in launch_instance\n      app.start()\n    File \"/usr/local/lib/python3.7/dist-packages/ipykernel/kernelapp.py\", line 612, in start\n      self.io_loop.start()\n    File \"/usr/local/lib/python3.7/dist-packages/tornado/platform/asyncio.py\", line 132, in start\n      self.asyncio_loop.run_forever()\n    File \"/usr/lib/python3.7/asyncio/base_events.py\", line 541, in run_forever\n      self._run_once()\n    File \"/usr/lib/python3.7/asyncio/base_events.py\", line 1786, in _run_once\n      handle._run()\n    File \"/usr/lib/python3.7/asyncio/events.py\", line 88, in _run\n      self._context.run(self._callback, *self._args)\n    File \"/usr/local/lib/python3.7/dist-packages/tornado/ioloop.py\", line 758, in _run_callback\n      ret = callback()\n    File \"/usr/local/lib/python3.7/dist-packages/tornado/stack_context.py\", line 300, in null_wrapper\n      return fn(*args, **kwargs)\n    File \"/usr/local/lib/python3.7/dist-packages/tornado/gen.py\", line 1233, in inner\n      self.run()\n    File \"/usr/local/lib/python3.7/dist-packages/tornado/gen.py\", line 1147, in run\n      yielded = self.gen.send(value)\n    File \"/usr/local/lib/python3.7/dist-packages/ipykernel/kernelbase.py\", line 365, in process_one\n      yield gen.maybe_future(dispatch(*args))\n    File \"/usr/local/lib/python3.7/dist-packages/tornado/gen.py\", line 326, in wrapper\n      yielded = next(result)\n    File \"/usr/local/lib/python3.7/dist-packages/ipykernel/kernelbase.py\", line 268, in dispatch_shell\n      yield gen.maybe_future(handler(stream, idents, msg))\n    File \"/usr/local/lib/python3.7/dist-packages/tornado/gen.py\", line 326, in wrapper\n      yielded = next(result)\n    File \"/usr/local/lib/python3.7/dist-packages/ipykernel/kernelbase.py\", line 545, in execute_request\n      user_expressions, allow_stdin,\n    File \"/usr/local/lib/python3.7/dist-packages/tornado/gen.py\", line 326, in wrapper\n      yielded = next(result)\n    File \"/usr/local/lib/python3.7/dist-packages/ipykernel/ipkernel.py\", line 306, in do_execute\n      res = shell.run_cell(code, store_history=store_history, silent=silent)\n    File \"/usr/local/lib/python3.7/dist-packages/ipykernel/zmqshell.py\", line 536, in run_cell\n      return super(ZMQInteractiveShell, self).run_cell(*args, **kwargs)\n    File \"/usr/local/lib/python3.7/dist-packages/IPython/core/interactiveshell.py\", line 2855, in run_cell\n      raw_cell, store_history, silent, shell_futures)\n    File \"/usr/local/lib/python3.7/dist-packages/IPython/core/interactiveshell.py\", line 2881, in _run_cell\n      return runner(coro)\n    File \"/usr/local/lib/python3.7/dist-packages/IPython/core/async_helpers.py\", line 68, in _pseudo_sync_runner\n      coro.send(None)\n    File \"/usr/local/lib/python3.7/dist-packages/IPython/core/interactiveshell.py\", line 3058, in run_cell_async\n      interactivity=interactivity, compiler=compiler, result=result)\n    File \"/usr/local/lib/python3.7/dist-packages/IPython/core/interactiveshell.py\", line 3249, in run_ast_nodes\n      if (await self.run_code(code, result,  async_=asy)):\n    File \"/usr/local/lib/python3.7/dist-packages/IPython/core/interactiveshell.py\", line 3326, in run_code\n      exec(code_obj, self.user_global_ns, self.user_ns)\n    File \"<ipython-input-21-3fa2a52dea37>\", line 12, in <module>\n      conv_3d_b1.train_model(conv_3d_b1_model)\n    File \"<ipython-input-16-41ff360b2540>\", line 39, in train_model\n      validation_steps=validation_steps, class_weight=None, workers=1, initial_epoch=0)\n    File \"/usr/local/lib/python3.7/dist-packages/keras/engine/training.py\", line 2223, in fit_generator\n      initial_epoch=initial_epoch)\n    File \"/usr/local/lib/python3.7/dist-packages/keras/utils/traceback_utils.py\", line 64, in error_handler\n      return fn(*args, **kwargs)\n    File \"/usr/local/lib/python3.7/dist-packages/keras/engine/training.py\", line 1384, in fit\n      tmp_logs = self.train_function(iterator)\n    File \"/usr/local/lib/python3.7/dist-packages/keras/engine/training.py\", line 1021, in train_function\n      return step_function(self, iterator)\n    File \"/usr/local/lib/python3.7/dist-packages/keras/engine/training.py\", line 1010, in step_function\n      outputs = model.distribute_strategy.run(run_step, args=(data,))\n    File \"/usr/local/lib/python3.7/dist-packages/keras/engine/training.py\", line 1000, in run_step\n      outputs = model.train_step(data)\n    File \"/usr/local/lib/python3.7/dist-packages/keras/engine/training.py\", line 863, in train_step\n      self.optimizer.minimize(loss, self.trainable_variables, tape=tape)\n    File \"/usr/local/lib/python3.7/dist-packages/keras/optimizer_v2/optimizer_v2.py\", line 531, in minimize\n      loss, var_list=var_list, grad_loss=grad_loss, tape=tape)\n    File \"/usr/local/lib/python3.7/dist-packages/keras/optimizer_v2/optimizer_v2.py\", line 583, in _compute_gradients\n      grads_and_vars = self._get_gradients(tape, loss, var_list, grad_loss)\n    File \"/usr/local/lib/python3.7/dist-packages/keras/optimizer_v2/optimizer_v2.py\", line 464, in _get_gradients\n      grads = tape.gradient(loss, var_list, grad_loss)\nNode: 'gradient_tape/sequential_1/max_pooling3d_4/MaxPool3D/MaxPool3DGrad'\nOOM when allocating tensor with shape[60,16,30,160,160] and type float on /job:localhost/replica:0/task:0/device:GPU:0 by allocator GPU_0_bfc\n\t [[{{node gradient_tape/sequential_1/max_pooling3d_4/MaxPool3D/MaxPool3DGrad}}]]\nHint: If you want to see a list of allocated tensors when OOM happens, add report_tensor_allocations_upon_oom to RunOptions for current allocation info. This isn't available when running in Eager mode.\n [Op:__inference_train_function_2663]"
          ]
        }
      ]
    },
    {
      "cell_type": "code",
      "source": [
        "# Batch size 60, frames 20, Image 100x100\n",
        "# setting params\n",
        "params = InitParameters()\n",
        "params.initialize_path(project_folder)\n",
        "params.initialize_image_properties(image_height=100,image_width=100)\n",
        "params.initialize_hyperparams(frames_to_sample=20,batch_size=60,num_epochs=2)\n",
        "\n",
        "conv_3d_b2=ModelConv3D(params)\n",
        "conv_3d_b2_model=conv_3d_b2.define_model()\n",
        "print(\"Total Params:\", conv_3d_b2_model.count_params())\n",
        "conv_3d_b2.train_model(conv_3d_b2_model)"
      ],
      "metadata": {
        "id": "xnR1QrD3SNIk",
        "colab": {
          "base_uri": "https://localhost:8080/"
        },
        "outputId": "344664ed-2234-4a9c-b03b-e270f1fa3e52"
      },
      "execution_count": null,
      "outputs": [
        {
          "output_type": "stream",
          "name": "stdout",
          "text": [
            "Model: \"sequential_2\"\n",
            "_________________________________________________________________\n",
            " Layer (type)                Output Shape              Param #   \n",
            "=================================================================\n",
            " conv3d_8 (Conv3D)           (None, 20, 100, 100, 16)  1312      \n",
            "                                                                 \n",
            " activation_8 (Activation)   (None, 20, 100, 100, 16)  0         \n",
            "                                                                 \n",
            " batch_normalization_12 (Bat  (None, 20, 100, 100, 16)  64       \n",
            " chNormalization)                                                \n",
            "                                                                 \n",
            " max_pooling3d_8 (MaxPooling  (None, 10, 50, 50, 16)   0         \n",
            " 3D)                                                             \n",
            "                                                                 \n",
            " conv3d_9 (Conv3D)           (None, 10, 50, 50, 32)    4128      \n",
            "                                                                 \n",
            " activation_9 (Activation)   (None, 10, 50, 50, 32)    0         \n",
            "                                                                 \n",
            " batch_normalization_13 (Bat  (None, 10, 50, 50, 32)   128       \n",
            " chNormalization)                                                \n",
            "                                                                 \n",
            " max_pooling3d_9 (MaxPooling  (None, 5, 25, 25, 32)    0         \n",
            " 3D)                                                             \n",
            "                                                                 \n",
            " conv3d_10 (Conv3D)          (None, 5, 25, 25, 64)     16448     \n",
            "                                                                 \n",
            " activation_10 (Activation)  (None, 5, 25, 25, 64)     0         \n",
            "                                                                 \n",
            " batch_normalization_14 (Bat  (None, 5, 25, 25, 64)    256       \n",
            " chNormalization)                                                \n",
            "                                                                 \n",
            " max_pooling3d_10 (MaxPoolin  (None, 2, 12, 12, 64)    0         \n",
            " g3D)                                                            \n",
            "                                                                 \n",
            " conv3d_11 (Conv3D)          (None, 2, 12, 12, 128)    65664     \n",
            "                                                                 \n",
            " activation_11 (Activation)  (None, 2, 12, 12, 128)    0         \n",
            "                                                                 \n",
            " batch_normalization_15 (Bat  (None, 2, 12, 12, 128)   512       \n",
            " chNormalization)                                                \n",
            "                                                                 \n",
            " max_pooling3d_11 (MaxPoolin  (None, 1, 6, 6, 128)     0         \n",
            " g3D)                                                            \n",
            "                                                                 \n",
            " flatten_2 (Flatten)         (None, 4608)              0         \n",
            "                                                                 \n",
            " dense_6 (Dense)             (None, 128)               589952    \n",
            "                                                                 \n",
            " batch_normalization_16 (Bat  (None, 128)              512       \n",
            " chNormalization)                                                \n",
            "                                                                 \n",
            " dropout_4 (Dropout)         (None, 128)               0         \n",
            "                                                                 \n",
            " dense_7 (Dense)             (None, 64)                8256      \n",
            "                                                                 \n",
            " batch_normalization_17 (Bat  (None, 64)               256       \n",
            " chNormalization)                                                \n",
            "                                                                 \n",
            " dropout_5 (Dropout)         (None, 64)                0         \n",
            "                                                                 \n",
            " dense_8 (Dense)             (None, 5)                 325       \n",
            "                                                                 \n",
            "=================================================================\n",
            "Total params: 687,813\n",
            "Trainable params: 686,949\n",
            "Non-trainable params: 864\n",
            "_________________________________________________________________\n"
          ]
        },
        {
          "output_type": "stream",
          "name": "stderr",
          "text": [
            "WARNING:tensorflow:`period` argument is deprecated. Please use `save_freq` to specify the frequency in number of batches seen.\n"
          ]
        },
        {
          "output_type": "stream",
          "name": "stdout",
          "text": [
            "None\n",
            "Total Params: 687813\n",
            "Source path =  Project_data/train ; batch size = 60\n",
            "Epoch 1/2\n",
            "12/12 [==============================] - ETA: 0s - loss: 1.7196 - categorical_accuracy: 0.3665Source path =  Project_data/val ; batch size = 60\n",
            "\n",
            "Epoch 1: saving model to model_init_2022-09-1410_38_33.681369/model-00001-1.71963-0.36652-1.56383-0.29000.h5\n",
            "12/12 [==============================] - 63s 6s/step - loss: 1.7196 - categorical_accuracy: 0.3665 - val_loss: 1.5638 - val_categorical_accuracy: 0.2900 - lr: 0.0010\n",
            "Epoch 2/2\n",
            "11/12 [==========================>...] - ETA: 3s - loss: 1.2011 - categorical_accuracy: 0.5364\n",
            "Epoch 2: saving model to model_init_2022-09-1410_38_33.681369/model-00002-1.20627-0.53695-2.37723-0.18000.h5\n",
            "12/12 [==============================] - 53s 5s/step - loss: 1.2063 - categorical_accuracy: 0.5370 - val_loss: 2.3772 - val_categorical_accuracy: 0.1800 - lr: 0.0010\n"
          ]
        },
        {
          "output_type": "execute_result",
          "data": {
            "text/plain": [
              "<keras.callbacks.History at 0x7f7ac953eb90>"
            ]
          },
          "metadata": {},
          "execution_count": 22
        }
      ]
    },
    {
      "cell_type": "code",
      "source": [
        "# Batch size 30, frames 30, Image 160x160\n",
        "# setting params\n",
        "params = InitParameters()\n",
        "params.initialize_path(project_folder)\n",
        "params.initialize_image_properties(image_height=160,image_width=160)\n",
        "params.initialize_hyperparams(frames_to_sample=30,batch_size=30,num_epochs=2)\n",
        "\n",
        "\n",
        "conv_3d_b3=ModelConv3D(params)\n",
        "conv_3d_b3_model=conv_3d_b3.define_model()\n",
        "print(\"Total Params:\", conv_3d_b3_model.count_params())\n",
        "conv_3d_b3.train_model(conv_3d_b3_model)"
      ],
      "metadata": {
        "id": "Je4R2C9oSxrr",
        "colab": {
          "base_uri": "https://localhost:8080/"
        },
        "outputId": "1c543f2c-c095-46b8-9a27-d80c080e46ca"
      },
      "execution_count": null,
      "outputs": [
        {
          "output_type": "stream",
          "name": "stdout",
          "text": [
            "Model: \"sequential_3\"\n",
            "_________________________________________________________________\n",
            " Layer (type)                Output Shape              Param #   \n",
            "=================================================================\n",
            " conv3d_12 (Conv3D)          (None, 30, 160, 160, 16)  1312      \n",
            "                                                                 \n",
            " activation_12 (Activation)  (None, 30, 160, 160, 16)  0         \n",
            "                                                                 \n",
            " batch_normalization_18 (Bat  (None, 30, 160, 160, 16)  64       \n",
            " chNormalization)                                                \n",
            "                                                                 \n",
            " max_pooling3d_12 (MaxPoolin  (None, 15, 80, 80, 16)   0         \n",
            " g3D)                                                            \n",
            "                                                                 \n",
            " conv3d_13 (Conv3D)          (None, 15, 80, 80, 32)    4128      \n",
            "                                                                 \n",
            " activation_13 (Activation)  (None, 15, 80, 80, 32)    0         \n",
            "                                                                 \n",
            " batch_normalization_19 (Bat  (None, 15, 80, 80, 32)   128       \n",
            " chNormalization)                                                \n",
            "                                                                 \n",
            " max_pooling3d_13 (MaxPoolin  (None, 7, 40, 40, 32)    0         \n",
            " g3D)                                                            \n",
            "                                                                 \n",
            " conv3d_14 (Conv3D)          (None, 7, 40, 40, 64)     16448     \n",
            "                                                                 \n",
            " activation_14 (Activation)  (None, 7, 40, 40, 64)     0         \n",
            "                                                                 \n",
            " batch_normalization_20 (Bat  (None, 7, 40, 40, 64)    256       \n",
            " chNormalization)                                                \n",
            "                                                                 \n",
            " max_pooling3d_14 (MaxPoolin  (None, 3, 20, 20, 64)    0         \n",
            " g3D)                                                            \n",
            "                                                                 \n",
            " conv3d_15 (Conv3D)          (None, 3, 20, 20, 128)    65664     \n",
            "                                                                 \n",
            " activation_15 (Activation)  (None, 3, 20, 20, 128)    0         \n",
            "                                                                 \n",
            " batch_normalization_21 (Bat  (None, 3, 20, 20, 128)   512       \n",
            " chNormalization)                                                \n",
            "                                                                 \n",
            " max_pooling3d_15 (MaxPoolin  (None, 1, 10, 10, 128)   0         \n",
            " g3D)                                                            \n",
            "                                                                 \n",
            " flatten_3 (Flatten)         (None, 12800)             0         \n",
            "                                                                 \n",
            " dense_9 (Dense)             (None, 128)               1638528   \n",
            "                                                                 \n",
            " batch_normalization_22 (Bat  (None, 128)              512       \n",
            " chNormalization)                                                \n",
            "                                                                 \n",
            " dropout_6 (Dropout)         (None, 128)               0         \n",
            "                                                                 \n",
            " dense_10 (Dense)            (None, 64)                8256      \n",
            "                                                                 \n",
            " batch_normalization_23 (Bat  (None, 64)               256       \n",
            " chNormalization)                                                \n",
            "                                                                 \n",
            " dropout_7 (Dropout)         (None, 64)                0         \n",
            "                                                                 \n",
            " dense_11 (Dense)            (None, 5)                 325       \n",
            "                                                                 \n",
            "=================================================================\n",
            "Total params: 1,736,389\n",
            "Trainable params: 1,735,525\n",
            "Non-trainable params: 864\n",
            "_________________________________________________________________\n"
          ]
        },
        {
          "output_type": "stream",
          "name": "stderr",
          "text": [
            "WARNING:tensorflow:`period` argument is deprecated. Please use `save_freq` to specify the frequency in number of batches seen.\n"
          ]
        },
        {
          "output_type": "stream",
          "name": "stdout",
          "text": [
            "None\n",
            "Total Params: 1736389\n",
            "Source path =  Project_data/train ; batch size = 30\n",
            "Epoch 1/2\n",
            "23/23 [==============================] - ETA: 0s - loss: 1.6825 - categorical_accuracy: 0.3906Source path =  Project_data/val ; batch size = 30\n",
            "\n",
            "Epoch 1: saving model to model_init_2022-09-1410_47_03.271951/model-00001-1.68247-0.39065-3.51809-0.16000.h5\n",
            "23/23 [==============================] - 120s 5s/step - loss: 1.6825 - categorical_accuracy: 0.3906 - val_loss: 3.5181 - val_categorical_accuracy: 0.1600 - lr: 0.0010\n",
            "Epoch 2/2\n",
            "23/23 [==============================] - ETA: 0s - loss: 1.0008 - categorical_accuracy: 0.6561\n",
            "Epoch 2: saving model to model_init_2022-09-1410_47_03.271951/model-00002-1.00077-0.65611-6.58420-0.24000.h5\n",
            "23/23 [==============================] - 109s 5s/step - loss: 1.0008 - categorical_accuracy: 0.6561 - val_loss: 6.5842 - val_categorical_accuracy: 0.2400 - lr: 0.0010\n"
          ]
        },
        {
          "output_type": "execute_result",
          "data": {
            "text/plain": [
              "<keras.callbacks.History at 0x7f7ac81068d0>"
            ]
          },
          "metadata": {},
          "execution_count": 24
        }
      ]
    },
    {
      "cell_type": "code",
      "source": [
        "# Batch size 30, frames 20, Image 100x100\n",
        "# setting params\n",
        "params = InitParameters()\n",
        "params.initialize_path(project_folder)\n",
        "params.initialize_image_properties(image_height=100,image_width=100)\n",
        "params.initialize_hyperparams(frames_to_sample=20,batch_size=30,num_epochs=2)\n",
        "\n",
        "conv_3d_b4=ModelConv3D(params)\n",
        "conv_3d_b4_model=conv_3d_b4.define_model()\n",
        "print(\"Total Params:\", conv_3d_b4_model.count_params())\n",
        "conv_3d_b4.train_model(conv_3d_b4_model)"
      ],
      "metadata": {
        "id": "7_xB5wHGS77c",
        "colab": {
          "base_uri": "https://localhost:8080/"
        },
        "outputId": "4956ccc6-b56c-43e4-d46a-fd7c1ecb7756"
      },
      "execution_count": null,
      "outputs": [
        {
          "output_type": "stream",
          "name": "stdout",
          "text": [
            "Model: \"sequential_4\"\n",
            "_________________________________________________________________\n",
            " Layer (type)                Output Shape              Param #   \n",
            "=================================================================\n",
            " conv3d_16 (Conv3D)          (None, 20, 100, 100, 16)  1312      \n",
            "                                                                 \n",
            " activation_16 (Activation)  (None, 20, 100, 100, 16)  0         \n",
            "                                                                 \n",
            " batch_normalization_24 (Bat  (None, 20, 100, 100, 16)  64       \n",
            " chNormalization)                                                \n",
            "                                                                 \n",
            " max_pooling3d_16 (MaxPoolin  (None, 10, 50, 50, 16)   0         \n",
            " g3D)                                                            \n",
            "                                                                 \n",
            " conv3d_17 (Conv3D)          (None, 10, 50, 50, 32)    4128      \n",
            "                                                                 \n",
            " activation_17 (Activation)  (None, 10, 50, 50, 32)    0         \n",
            "                                                                 \n",
            " batch_normalization_25 (Bat  (None, 10, 50, 50, 32)   128       \n",
            " chNormalization)                                                \n",
            "                                                                 \n",
            " max_pooling3d_17 (MaxPoolin  (None, 5, 25, 25, 32)    0         \n",
            " g3D)                                                            \n",
            "                                                                 \n",
            " conv3d_18 (Conv3D)          (None, 5, 25, 25, 64)     16448     \n",
            "                                                                 \n",
            " activation_18 (Activation)  (None, 5, 25, 25, 64)     0         \n",
            "                                                                 \n",
            " batch_normalization_26 (Bat  (None, 5, 25, 25, 64)    256       \n",
            " chNormalization)                                                \n",
            "                                                                 \n",
            " max_pooling3d_18 (MaxPoolin  (None, 2, 12, 12, 64)    0         \n",
            " g3D)                                                            \n",
            "                                                                 \n",
            " conv3d_19 (Conv3D)          (None, 2, 12, 12, 128)    65664     \n",
            "                                                                 \n",
            " activation_19 (Activation)  (None, 2, 12, 12, 128)    0         \n",
            "                                                                 \n",
            " batch_normalization_27 (Bat  (None, 2, 12, 12, 128)   512       \n",
            " chNormalization)                                                \n",
            "                                                                 \n",
            " max_pooling3d_19 (MaxPoolin  (None, 1, 6, 6, 128)     0         \n",
            " g3D)                                                            \n",
            "                                                                 \n",
            " flatten_4 (Flatten)         (None, 4608)              0         \n",
            "                                                                 \n",
            " dense_12 (Dense)            (None, 128)               589952    \n",
            "                                                                 \n",
            " batch_normalization_28 (Bat  (None, 128)              512       \n",
            " chNormalization)                                                \n",
            "                                                                 \n",
            " dropout_8 (Dropout)         (None, 128)               0         \n",
            "                                                                 \n",
            " dense_13 (Dense)            (None, 64)                8256      \n",
            "                                                                 \n",
            " batch_normalization_29 (Bat  (None, 64)               256       \n",
            " chNormalization)                                                \n",
            "                                                                 \n",
            " dropout_9 (Dropout)         (None, 64)                0         \n",
            "                                                                 \n",
            " dense_14 (Dense)            (None, 5)                 325       \n",
            "                                                                 \n",
            "=================================================================\n",
            "Total params: 687,813\n",
            "Trainable params: 686,949\n",
            "Non-trainable params: 864\n",
            "_________________________________________________________________\n"
          ]
        },
        {
          "output_type": "stream",
          "name": "stderr",
          "text": [
            "WARNING:tensorflow:`period` argument is deprecated. Please use `save_freq` to specify the frequency in number of batches seen.\n"
          ]
        },
        {
          "output_type": "stream",
          "name": "stdout",
          "text": [
            "None\n",
            "Total Params: 687813\n",
            "Source path =  Project_data/train ; batch size = 30\n",
            "Epoch 1/2\n",
            "23/23 [==============================] - ETA: 0s - loss: 1.6163 - categorical_accuracy: 0.3906Source path =  Project_data/val ; batch size = 30\n",
            "\n",
            "Epoch 1: saving model to model_init_2022-09-1410_51_39.752142/model-00001-1.61626-0.39065-1.75698-0.16000.h5\n",
            "23/23 [==============================] - 64s 3s/step - loss: 1.6163 - categorical_accuracy: 0.3906 - val_loss: 1.7570 - val_categorical_accuracy: 0.1600 - lr: 0.0010\n",
            "Epoch 2/2\n",
            "22/23 [===========================>..] - ETA: 1s - loss: 1.1666 - categorical_accuracy: 0.5258\n",
            "Epoch 2: saving model to model_init_2022-09-1410_51_39.752142/model-00002-1.17094-0.52489-3.04493-0.11000.h5\n",
            "23/23 [==============================] - 53s 2s/step - loss: 1.1709 - categorical_accuracy: 0.5249 - val_loss: 3.0449 - val_categorical_accuracy: 0.1100 - lr: 0.0010\n"
          ]
        },
        {
          "output_type": "execute_result",
          "data": {
            "text/plain": [
              "<keras.callbacks.History at 0x7f781c535050>"
            ]
          },
          "metadata": {},
          "execution_count": 25
        }
      ]
    },
    {
      "cell_type": "code",
      "source": [
        "# Batch size 15, frames 30, Image 160x160\n",
        "# setting params\n",
        "params = InitParameters()\n",
        "params.initialize_path(project_folder)\n",
        "params.initialize_image_properties(image_height=160,image_width=160)\n",
        "params.initialize_hyperparams(frames_to_sample=30,batch_size=15,num_epochs=2)\n",
        "\n",
        "\n",
        "conv_3d_b5=ModelConv3D(params)\n",
        "conv_3d_b5_model=conv_3d_b5.define_model()\n",
        "print(\"Total Params:\", conv_3d_b5_model.count_params())\n",
        "conv_3d_b5.train_model(conv_3d_b5_model)"
      ],
      "metadata": {
        "id": "0LS85PviTEig",
        "colab": {
          "base_uri": "https://localhost:8080/"
        },
        "outputId": "d5eb3551-20d8-4100-93b9-65bbbd71a35b"
      },
      "execution_count": null,
      "outputs": [
        {
          "output_type": "stream",
          "name": "stdout",
          "text": [
            "Model: \"sequential_5\"\n",
            "_________________________________________________________________\n",
            " Layer (type)                Output Shape              Param #   \n",
            "=================================================================\n",
            " conv3d_20 (Conv3D)          (None, 30, 160, 160, 16)  1312      \n",
            "                                                                 \n",
            " activation_20 (Activation)  (None, 30, 160, 160, 16)  0         \n",
            "                                                                 \n",
            " batch_normalization_30 (Bat  (None, 30, 160, 160, 16)  64       \n",
            " chNormalization)                                                \n",
            "                                                                 \n",
            " max_pooling3d_20 (MaxPoolin  (None, 15, 80, 80, 16)   0         \n",
            " g3D)                                                            \n",
            "                                                                 \n",
            " conv3d_21 (Conv3D)          (None, 15, 80, 80, 32)    4128      \n",
            "                                                                 \n",
            " activation_21 (Activation)  (None, 15, 80, 80, 32)    0         \n",
            "                                                                 \n",
            " batch_normalization_31 (Bat  (None, 15, 80, 80, 32)   128       \n",
            " chNormalization)                                                \n",
            "                                                                 \n",
            " max_pooling3d_21 (MaxPoolin  (None, 7, 40, 40, 32)    0         \n",
            " g3D)                                                            \n",
            "                                                                 \n",
            " conv3d_22 (Conv3D)          (None, 7, 40, 40, 64)     16448     \n",
            "                                                                 \n",
            " activation_22 (Activation)  (None, 7, 40, 40, 64)     0         \n",
            "                                                                 \n",
            " batch_normalization_32 (Bat  (None, 7, 40, 40, 64)    256       \n",
            " chNormalization)                                                \n",
            "                                                                 \n",
            " max_pooling3d_22 (MaxPoolin  (None, 3, 20, 20, 64)    0         \n",
            " g3D)                                                            \n",
            "                                                                 \n",
            " conv3d_23 (Conv3D)          (None, 3, 20, 20, 128)    65664     \n",
            "                                                                 \n",
            " activation_23 (Activation)  (None, 3, 20, 20, 128)    0         \n",
            "                                                                 \n",
            " batch_normalization_33 (Bat  (None, 3, 20, 20, 128)   512       \n",
            " chNormalization)                                                \n",
            "                                                                 \n",
            " max_pooling3d_23 (MaxPoolin  (None, 1, 10, 10, 128)   0         \n",
            " g3D)                                                            \n",
            "                                                                 \n",
            " flatten_5 (Flatten)         (None, 12800)             0         \n",
            "                                                                 \n",
            " dense_15 (Dense)            (None, 128)               1638528   \n",
            "                                                                 \n",
            " batch_normalization_34 (Bat  (None, 128)              512       \n",
            " chNormalization)                                                \n",
            "                                                                 \n",
            " dropout_10 (Dropout)        (None, 128)               0         \n",
            "                                                                 \n",
            " dense_16 (Dense)            (None, 64)                8256      \n",
            "                                                                 \n",
            " batch_normalization_35 (Bat  (None, 64)               256       \n",
            " chNormalization)                                                \n",
            "                                                                 \n",
            " dropout_11 (Dropout)        (None, 64)                0         \n",
            "                                                                 \n",
            " dense_17 (Dense)            (None, 5)                 325       \n",
            "                                                                 \n",
            "=================================================================\n",
            "Total params: 1,736,389\n",
            "Trainable params: 1,735,525\n",
            "Non-trainable params: 864\n",
            "_________________________________________________________________\n"
          ]
        },
        {
          "output_type": "stream",
          "name": "stderr",
          "text": [
            "WARNING:tensorflow:`period` argument is deprecated. Please use `save_freq` to specify the frequency in number of batches seen.\n"
          ]
        },
        {
          "output_type": "stream",
          "name": "stdout",
          "text": [
            "None\n",
            "Total Params: 1736389\n",
            "Source path =  Project_data/train ; batch size = 15\n",
            "Epoch 1/2\n",
            "45/45 [==============================] - ETA: 0s - loss: 1.6808 - categorical_accuracy: 0.3650Source path =  Project_data/val ; batch size = 15\n",
            "\n",
            "Epoch 1: saving model to model_init_2022-09-1410_53_40.335488/model-00001-1.68078-0.36501-11.71057-0.16000.h5\n",
            "45/45 [==============================] - 112s 3s/step - loss: 1.6808 - categorical_accuracy: 0.3650 - val_loss: 11.7106 - val_categorical_accuracy: 0.1600 - lr: 0.0010\n",
            "Epoch 2/2\n",
            "45/45 [==============================] - ETA: 0s - loss: 1.3449 - categorical_accuracy: 0.4887\n",
            "Epoch 2: saving model to model_init_2022-09-1410_53_40.335488/model-00002-1.34488-0.48869-14.96702-0.16000.h5\n",
            "45/45 [==============================] - 111s 3s/step - loss: 1.3449 - categorical_accuracy: 0.4887 - val_loss: 14.9670 - val_categorical_accuracy: 0.1600 - lr: 0.0010\n"
          ]
        },
        {
          "output_type": "execute_result",
          "data": {
            "text/plain": [
              "<keras.callbacks.History at 0x7f781c1038d0>"
            ]
          },
          "metadata": {},
          "execution_count": 26
        }
      ]
    },
    {
      "cell_type": "code",
      "source": [
        "# Batch size 15, frames 20, Image 100x100\n",
        "# setting params\n",
        "params = InitParameters()\n",
        "params.initialize_path(project_folder)\n",
        "params.initialize_image_properties(image_height=100,image_width=100)\n",
        "params.initialize_hyperparams(frames_to_sample=20,batch_size=15,num_epochs=2)\n",
        "\n",
        "\n",
        "conv_3d_b6=ModelConv3D(params)\n",
        "conv_3d_b6_model=conv_3d_b6.define_model()\n",
        "print(\"Total Params:\", conv_3d_b6_model.count_params())\n",
        "conv_3d_b6.train_model(conv_3d_b6_model)"
      ],
      "metadata": {
        "id": "6R31T9HcTHvh",
        "colab": {
          "base_uri": "https://localhost:8080/"
        },
        "outputId": "b7a41b4a-0186-44ec-ad96-2d0de131633a"
      },
      "execution_count": null,
      "outputs": [
        {
          "output_type": "stream",
          "name": "stdout",
          "text": [
            "Model: \"sequential_6\"\n",
            "_________________________________________________________________\n",
            " Layer (type)                Output Shape              Param #   \n",
            "=================================================================\n",
            " conv3d_24 (Conv3D)          (None, 20, 100, 100, 16)  1312      \n",
            "                                                                 \n",
            " activation_24 (Activation)  (None, 20, 100, 100, 16)  0         \n",
            "                                                                 \n",
            " batch_normalization_36 (Bat  (None, 20, 100, 100, 16)  64       \n",
            " chNormalization)                                                \n",
            "                                                                 \n",
            " max_pooling3d_24 (MaxPoolin  (None, 10, 50, 50, 16)   0         \n",
            " g3D)                                                            \n",
            "                                                                 \n",
            " conv3d_25 (Conv3D)          (None, 10, 50, 50, 32)    4128      \n",
            "                                                                 \n",
            " activation_25 (Activation)  (None, 10, 50, 50, 32)    0         \n",
            "                                                                 \n",
            " batch_normalization_37 (Bat  (None, 10, 50, 50, 32)   128       \n",
            " chNormalization)                                                \n",
            "                                                                 \n",
            " max_pooling3d_25 (MaxPoolin  (None, 5, 25, 25, 32)    0         \n",
            " g3D)                                                            \n",
            "                                                                 \n",
            " conv3d_26 (Conv3D)          (None, 5, 25, 25, 64)     16448     \n",
            "                                                                 \n",
            " activation_26 (Activation)  (None, 5, 25, 25, 64)     0         \n",
            "                                                                 \n",
            " batch_normalization_38 (Bat  (None, 5, 25, 25, 64)    256       \n",
            " chNormalization)                                                \n",
            "                                                                 \n",
            " max_pooling3d_26 (MaxPoolin  (None, 2, 12, 12, 64)    0         \n",
            " g3D)                                                            \n",
            "                                                                 \n",
            " conv3d_27 (Conv3D)          (None, 2, 12, 12, 128)    65664     \n",
            "                                                                 \n",
            " activation_27 (Activation)  (None, 2, 12, 12, 128)    0         \n",
            "                                                                 \n",
            " batch_normalization_39 (Bat  (None, 2, 12, 12, 128)   512       \n",
            " chNormalization)                                                \n",
            "                                                                 \n",
            " max_pooling3d_27 (MaxPoolin  (None, 1, 6, 6, 128)     0         \n",
            " g3D)                                                            \n",
            "                                                                 \n",
            " flatten_6 (Flatten)         (None, 4608)              0         \n",
            "                                                                 \n",
            " dense_18 (Dense)            (None, 128)               589952    \n",
            "                                                                 \n",
            " batch_normalization_40 (Bat  (None, 128)              512       \n",
            " chNormalization)                                                \n",
            "                                                                 \n",
            " dropout_12 (Dropout)        (None, 128)               0         \n",
            "                                                                 \n",
            " dense_19 (Dense)            (None, 64)                8256      \n",
            "                                                                 \n",
            " batch_normalization_41 (Bat  (None, 64)               256       \n",
            " chNormalization)                                                \n",
            "                                                                 \n",
            " dropout_13 (Dropout)        (None, 64)                0         \n",
            "                                                                 \n",
            " dense_20 (Dense)            (None, 5)                 325       \n",
            "                                                                 \n",
            "=================================================================\n",
            "Total params: 687,813\n",
            "Trainable params: 686,949\n",
            "Non-trainable params: 864\n",
            "_________________________________________________________________\n"
          ]
        },
        {
          "output_type": "stream",
          "name": "stderr",
          "text": [
            "WARNING:tensorflow:`period` argument is deprecated. Please use `save_freq` to specify the frequency in number of batches seen.\n"
          ]
        },
        {
          "output_type": "stream",
          "name": "stdout",
          "text": [
            "None\n",
            "Total Params: 687813\n",
            "Source path =  Project_data/train ; batch size = 15\n",
            "Epoch 1/2\n",
            "45/45 [==============================] - ETA: 0s - loss: 1.5737 - categorical_accuracy: 0.3771Source path =  Project_data/val ; batch size = 15\n",
            "\n",
            "Epoch 1: saving model to model_init_2022-09-1410_57_25.902276/model-00001-1.57367-0.37707-3.91703-0.25000.h5\n",
            "45/45 [==============================] - 73s 2s/step - loss: 1.5737 - categorical_accuracy: 0.3771 - val_loss: 3.9170 - val_categorical_accuracy: 0.2500 - lr: 0.0010\n",
            "Epoch 2/2\n",
            "45/45 [==============================] - ETA: 0s - loss: 1.1449 - categorical_accuracy: 0.5490\n",
            "Epoch 2: saving model to model_init_2022-09-1410_57_25.902276/model-00002-1.14486-0.54902-6.75913-0.17000.h5\n",
            "45/45 [==============================] - 67s 2s/step - loss: 1.1449 - categorical_accuracy: 0.5490 - val_loss: 6.7591 - val_categorical_accuracy: 0.1700 - lr: 0.0010\n"
          ]
        },
        {
          "output_type": "execute_result",
          "data": {
            "text/plain": [
              "<keras.callbacks.History at 0x7f781c09c810>"
            ]
          },
          "metadata": {},
          "execution_count": 27
        }
      ]
    },
    {
      "cell_type": "markdown",
      "source": [
        "Image resolution and number of frames in sequence have more impact on training time than batch_size.\n",
        "Keeping batch size fixed around 15-40 and changing the image parameters based on the device memory constraints . Models will be designed such that their memory foot print is not huge."
      ],
      "metadata": {
        "id": "tJgGA4SNdiQG"
      }
    },
    {
      "cell_type": "markdown",
      "source": [
        "### **Model 1: Base Model with no Augmentation and Batch Size: 40, Epochs = 15**"
      ],
      "metadata": {
        "id": "Nd2O7g0vkbjL"
      }
    },
    {
      "cell_type": "markdown",
      "source": [
        "#### Define the Model"
      ],
      "metadata": {
        "id": "U7qj1y43WoXV"
      }
    },
    {
      "cell_type": "code",
      "source": [
        "class ModelConv3D1(ModelBuilder):\n",
        "    \n",
        "    def define_model(self,filtersize=(3,3,3),dense_neurons=64,dropout=0.25):\n",
        "\n",
        "        model = Sequential()\n",
        "        model.add(Conv3D(16, filtersize, padding='same',\n",
        "                 input_shape=(params.frames_to_sample,params.image_height,params.image_width,params.channels)))\n",
        "        model.add(Activation('relu'))\n",
        "        model.add(BatchNormalization())\n",
        "        model.add(MaxPooling3D(pool_size=(2, 2, 2)))\n",
        "\n",
        "        model.add(Conv3D(32, filtersize, padding='same'))\n",
        "        model.add(Activation('relu'))\n",
        "        model.add(BatchNormalization())\n",
        "        model.add(MaxPooling3D(pool_size=(2, 2, 2)))\n",
        "\n",
        "        model.add(Conv3D(64, filtersize, padding='same'))\n",
        "        model.add(Activation('relu'))\n",
        "        model.add(BatchNormalization())\n",
        "        model.add(MaxPooling3D(pool_size=(2, 2, 2)))\n",
        "\n",
        "        model.add(Conv3D(128, filtersize, padding='same'))\n",
        "        model.add(Activation('relu'))\n",
        "        model.add(BatchNormalization())\n",
        "        model.add(MaxPooling3D(pool_size=(2, 2, 2)))\n",
        "\n",
        "        model.add(Flatten())\n",
        "        model.add(Dense(dense_neurons,activation='relu'))\n",
        "        model.add(BatchNormalization())\n",
        "        model.add(Dropout(dropout))\n",
        "\n",
        "        model.add(Dense(dense_neurons,activation='relu'))\n",
        "        model.add(BatchNormalization())\n",
        "        model.add(Dropout(dropout))\n",
        "\n",
        "\n",
        "        model.add(Dense(params.num_classes,activation='softmax'))\n",
        "\n",
        "      # compile the model\n",
        "        optimiser = tf.optimizers.Adam()\n",
        "        model.compile(optimizer=optimiser, loss='categorical_crossentropy', metrics=['categorical_accuracy'])\n",
        "        model.summary()\n",
        "        return model"
      ],
      "metadata": {
        "id": "J0hhiSo8WqWQ"
      },
      "execution_count": null,
      "outputs": []
    },
    {
      "cell_type": "markdown",
      "source": [
        "#### Build the Model"
      ],
      "metadata": {
        "id": "BRBHQQFwqpf2"
      }
    },
    {
      "cell_type": "code",
      "source": [
        "# set the parameters for the model\n",
        "params = InitParameters()\n",
        "params.initialize_path(project_folder)\n",
        "params.initialize_image_properties(image_height=160,image_width=160)\n",
        "params.initialize_hyperparams(frames_to_sample=20,batch_size=40,num_epochs=15)\n",
        "\n",
        "print(params)\n",
        "# create the model\n",
        "conv_3d1=ModelConv3D1(params)\n",
        "conv_3d1_model=conv_3d1.define_model()"
      ],
      "metadata": {
        "id": "N4ZQn7h6mBcr",
        "colab": {
          "base_uri": "https://localhost:8080/"
        },
        "outputId": "bf4f139d-13b4-4073-f8f6-5f59df8df416"
      },
      "execution_count": null,
      "outputs": [
        {
          "output_type": "stream",
          "name": "stdout",
          "text": [
            "<__main__.InitParameters object at 0x7eff30535d10>\n",
            "Model: \"sequential_1\"\n",
            "_________________________________________________________________\n",
            " Layer (type)                Output Shape              Param #   \n",
            "=================================================================\n",
            " conv3d_4 (Conv3D)           (None, 20, 160, 160, 16)  1312      \n",
            "                                                                 \n",
            " activation_4 (Activation)   (None, 20, 160, 160, 16)  0         \n",
            "                                                                 \n",
            " batch_normalization_6 (Batc  (None, 20, 160, 160, 16)  64       \n",
            " hNormalization)                                                 \n",
            "                                                                 \n",
            " max_pooling3d_4 (MaxPooling  (None, 10, 80, 80, 16)   0         \n",
            " 3D)                                                             \n",
            "                                                                 \n",
            " conv3d_5 (Conv3D)           (None, 10, 80, 80, 32)    13856     \n",
            "                                                                 \n",
            " activation_5 (Activation)   (None, 10, 80, 80, 32)    0         \n",
            "                                                                 \n",
            " batch_normalization_7 (Batc  (None, 10, 80, 80, 32)   128       \n",
            " hNormalization)                                                 \n",
            "                                                                 \n",
            " max_pooling3d_5 (MaxPooling  (None, 5, 40, 40, 32)    0         \n",
            " 3D)                                                             \n",
            "                                                                 \n",
            " conv3d_6 (Conv3D)           (None, 5, 40, 40, 64)     55360     \n",
            "                                                                 \n",
            " activation_6 (Activation)   (None, 5, 40, 40, 64)     0         \n",
            "                                                                 \n",
            " batch_normalization_8 (Batc  (None, 5, 40, 40, 64)    256       \n",
            " hNormalization)                                                 \n",
            "                                                                 \n",
            " max_pooling3d_6 (MaxPooling  (None, 2, 20, 20, 64)    0         \n",
            " 3D)                                                             \n",
            "                                                                 \n",
            " conv3d_7 (Conv3D)           (None, 2, 20, 20, 128)    221312    \n",
            "                                                                 \n",
            " activation_7 (Activation)   (None, 2, 20, 20, 128)    0         \n",
            "                                                                 \n",
            " batch_normalization_9 (Batc  (None, 2, 20, 20, 128)   512       \n",
            " hNormalization)                                                 \n",
            "                                                                 \n",
            " max_pooling3d_7 (MaxPooling  (None, 1, 10, 10, 128)   0         \n",
            " 3D)                                                             \n",
            "                                                                 \n",
            " flatten_1 (Flatten)         (None, 12800)             0         \n",
            "                                                                 \n",
            " dense_3 (Dense)             (None, 64)                819264    \n",
            "                                                                 \n",
            " batch_normalization_10 (Bat  (None, 64)               256       \n",
            " chNormalization)                                                \n",
            "                                                                 \n",
            " dropout_2 (Dropout)         (None, 64)                0         \n",
            "                                                                 \n",
            " dense_4 (Dense)             (None, 64)                4160      \n",
            "                                                                 \n",
            " batch_normalization_11 (Bat  (None, 64)               256       \n",
            " chNormalization)                                                \n",
            "                                                                 \n",
            " dropout_3 (Dropout)         (None, 64)                0         \n",
            "                                                                 \n",
            " dense_5 (Dense)             (None, 5)                 325       \n",
            "                                                                 \n",
            "=================================================================\n",
            "Total params: 1,117,061\n",
            "Trainable params: 1,116,325\n",
            "Non-trainable params: 736\n",
            "_________________________________________________________________\n"
          ]
        }
      ]
    },
    {
      "cell_type": "markdown",
      "source": [
        "#### Train the Model"
      ],
      "metadata": {
        "id": "Lyz4k_SKqm6v"
      }
    },
    {
      "cell_type": "code",
      "source": [
        "print(conv_3d1_model)\n",
        "print(\"Total Params:\", conv_3d1_model.count_params())\n",
        "history_model1 = conv_3d1.train_model(conv_3d1_model)"
      ],
      "metadata": {
        "id": "MAhtScw-nB-J",
        "colab": {
          "base_uri": "https://localhost:8080/"
        },
        "outputId": "2eb46e2e-c47b-40a7-f20b-1e79b576aac0"
      },
      "execution_count": null,
      "outputs": [
        {
          "output_type": "stream",
          "name": "stderr",
          "text": [
            "WARNING:tensorflow:`period` argument is deprecated. Please use `save_freq` to specify the frequency in number of batches seen.\n"
          ]
        },
        {
          "output_type": "stream",
          "name": "stdout",
          "text": [
            "<keras.engine.sequential.Sequential object at 0x7eff30566190>\n",
            "Total Params: 1117061\n",
            "Source path =  Project_data/train ; batch size = 40\n",
            "Epoch 1/15\n",
            "17/17 [==============================] - ETA: 0s - loss: 1.6093 - categorical_accuracy: 0.3922Source path =  Project_data/val ; batch size = 40\n",
            "\n",
            "Epoch 1: saving model to model_init_2022-09-1411_16_15.172404/model-00001-1.60928-0.39216-1.65031-0.23000.h5\n",
            "17/17 [==============================] - 90s 5s/step - loss: 1.6093 - categorical_accuracy: 0.3922 - val_loss: 1.6503 - val_categorical_accuracy: 0.2300 - lr: 0.0010\n",
            "Epoch 2/15\n",
            "17/17 [==============================] - ETA: 0s - loss: 1.0376 - categorical_accuracy: 0.5897\n",
            "Epoch 2: saving model to model_init_2022-09-1411_16_15.172404/model-00002-1.03758-0.58974-1.71913-0.24000.h5\n",
            "17/17 [==============================] - 70s 4s/step - loss: 1.0376 - categorical_accuracy: 0.5897 - val_loss: 1.7191 - val_categorical_accuracy: 0.2400 - lr: 0.0010\n",
            "Epoch 3/15\n",
            "17/17 [==============================] - ETA: 0s - loss: 0.8614 - categorical_accuracy: 0.6531\n",
            "Epoch 3: saving model to model_init_2022-09-1411_16_15.172404/model-00003-0.86144-0.65309-2.89302-0.14000.h5\n",
            "17/17 [==============================] - 60s 4s/step - loss: 0.8614 - categorical_accuracy: 0.6531 - val_loss: 2.8930 - val_categorical_accuracy: 0.1400 - lr: 0.0010\n",
            "Epoch 4/15\n",
            "17/17 [==============================] - ETA: 0s - loss: 0.7094 - categorical_accuracy: 0.7270\n",
            "Epoch 4: saving model to model_init_2022-09-1411_16_15.172404/model-00004-0.70937-0.72700-3.15829-0.16000.h5\n",
            "17/17 [==============================] - 62s 4s/step - loss: 0.7094 - categorical_accuracy: 0.7270 - val_loss: 3.1583 - val_categorical_accuracy: 0.1600 - lr: 0.0010\n",
            "Epoch 5/15\n",
            "17/17 [==============================] - ETA: 0s - loss: 0.5318 - categorical_accuracy: 0.8175\n",
            "Epoch 5: saving model to model_init_2022-09-1411_16_15.172404/model-00005-0.53180-0.81750-3.40487-0.14000.h5\n",
            "\n",
            "Epoch 5: ReduceLROnPlateau reducing learning rate to 0.00020000000949949026.\n",
            "17/17 [==============================] - 62s 4s/step - loss: 0.5318 - categorical_accuracy: 0.8175 - val_loss: 3.4049 - val_categorical_accuracy: 0.1400 - lr: 0.0010\n",
            "Epoch 6/15\n",
            "17/17 [==============================] - ETA: 0s - loss: 0.3743 - categorical_accuracy: 0.8733\n",
            "Epoch 6: saving model to model_init_2022-09-1411_16_15.172404/model-00006-0.37430-0.87330-3.50197-0.20000.h5\n",
            "17/17 [==============================] - 68s 4s/step - loss: 0.3743 - categorical_accuracy: 0.8733 - val_loss: 3.5020 - val_categorical_accuracy: 0.2000 - lr: 2.0000e-04\n",
            "Epoch 7/15\n",
            "17/17 [==============================] - ETA: 0s - loss: 0.3689 - categorical_accuracy: 0.8824\n",
            "Epoch 7: saving model to model_init_2022-09-1411_16_15.172404/model-00007-0.36889-0.88235-3.98752-0.16000.h5\n",
            "17/17 [==============================] - 62s 4s/step - loss: 0.3689 - categorical_accuracy: 0.8824 - val_loss: 3.9875 - val_categorical_accuracy: 0.1600 - lr: 2.0000e-04\n",
            "Epoch 8/15\n",
            "17/17 [==============================] - ETA: 0s - loss: 0.3077 - categorical_accuracy: 0.8944\n",
            "Epoch 8: saving model to model_init_2022-09-1411_16_15.172404/model-00008-0.30769-0.89442-4.42253-0.12000.h5\n",
            "17/17 [==============================] - 68s 4s/step - loss: 0.3077 - categorical_accuracy: 0.8944 - val_loss: 4.4225 - val_categorical_accuracy: 0.1200 - lr: 2.0000e-04\n",
            "Epoch 9/15\n",
            "17/17 [==============================] - ETA: 0s - loss: 0.2500 - categorical_accuracy: 0.9231\n",
            "Epoch 9: saving model to model_init_2022-09-1411_16_15.172404/model-00009-0.25000-0.92308-4.73047-0.16000.h5\n",
            "\n",
            "Epoch 9: ReduceLROnPlateau reducing learning rate to 4.0000001899898055e-05.\n",
            "17/17 [==============================] - 68s 4s/step - loss: 0.2500 - categorical_accuracy: 0.9231 - val_loss: 4.7305 - val_categorical_accuracy: 0.1600 - lr: 2.0000e-04\n",
            "Epoch 10/15\n",
            "17/17 [==============================] - ETA: 0s - loss: 0.2488 - categorical_accuracy: 0.9231\n",
            "Epoch 10: saving model to model_init_2022-09-1411_16_15.172404/model-00010-0.24875-0.92308-4.73368-0.16000.h5\n",
            "17/17 [==============================] - 64s 4s/step - loss: 0.2488 - categorical_accuracy: 0.9231 - val_loss: 4.7337 - val_categorical_accuracy: 0.1600 - lr: 4.0000e-05\n",
            "Epoch 11/15\n",
            "17/17 [==============================] - ETA: 0s - loss: 0.2170 - categorical_accuracy: 0.9412\n",
            "Epoch 11: saving model to model_init_2022-09-1411_16_15.172404/model-00011-0.21695-0.94118-5.31437-0.12000.h5\n",
            "17/17 [==============================] - 76s 5s/step - loss: 0.2170 - categorical_accuracy: 0.9412 - val_loss: 5.3144 - val_categorical_accuracy: 0.1200 - lr: 4.0000e-05\n",
            "Epoch 12/15\n",
            "17/17 [==============================] - ETA: 0s - loss: 0.2110 - categorical_accuracy: 0.9427\n",
            "Epoch 12: saving model to model_init_2022-09-1411_16_15.172404/model-00012-0.21095-0.94268-5.02494-0.21000.h5\n",
            "17/17 [==============================] - 69s 4s/step - loss: 0.2110 - categorical_accuracy: 0.9427 - val_loss: 5.0249 - val_categorical_accuracy: 0.2100 - lr: 4.0000e-05\n",
            "Epoch 13/15\n",
            "17/17 [==============================] - ETA: 0s - loss: 0.2051 - categorical_accuracy: 0.9351\n",
            "Epoch 13: saving model to model_init_2022-09-1411_16_15.172404/model-00013-0.20510-0.93514-5.09700-0.22000.h5\n",
            "\n",
            "Epoch 13: ReduceLROnPlateau reducing learning rate to 8.000000525498762e-06.\n",
            "17/17 [==============================] - 62s 4s/step - loss: 0.2051 - categorical_accuracy: 0.9351 - val_loss: 5.0970 - val_categorical_accuracy: 0.2200 - lr: 4.0000e-05\n",
            "Epoch 14/15\n",
            "17/17 [==============================] - ETA: 0s - loss: 0.2143 - categorical_accuracy: 0.9412\n",
            "Epoch 14: saving model to model_init_2022-09-1411_16_15.172404/model-00014-0.21428-0.94118-4.70256-0.27000.h5\n",
            "17/17 [==============================] - 62s 4s/step - loss: 0.2143 - categorical_accuracy: 0.9412 - val_loss: 4.7026 - val_categorical_accuracy: 0.2700 - lr: 8.0000e-06\n",
            "Epoch 15/15\n",
            "17/17 [==============================] - ETA: 0s - loss: 0.2115 - categorical_accuracy: 0.9532\n",
            "Epoch 15: saving model to model_init_2022-09-1411_16_15.172404/model-00015-0.21149-0.95324-4.96053-0.27000.h5\n",
            "17/17 [==============================] - 60s 4s/step - loss: 0.2115 - categorical_accuracy: 0.9532 - val_loss: 4.9605 - val_categorical_accuracy: 0.2700 - lr: 8.0000e-06\n"
          ]
        }
      ]
    },
    {
      "cell_type": "markdown",
      "source": [
        "#### Accuracy Plot"
      ],
      "metadata": {
        "id": "h_qe7UluquT-"
      }
    },
    {
      "cell_type": "code",
      "source": [
        "plot(history_model1)"
      ],
      "metadata": {
        "id": "buSVQZyhUvPb",
        "colab": {
          "base_uri": "https://localhost:8080/",
          "height": 265
        },
        "outputId": "5ce36572-8100-4ccc-c66a-d40dce6eac99"
      },
      "execution_count": null,
      "outputs": [
        {
          "output_type": "display_data",
          "data": {
            "text/plain": [
              "<Figure size 1080x288 with 2 Axes>"
            ],
            "image/png": "[encoded data removed]"
          },
          "metadata": {
            "needs_background": "light"
          }
        }
      ]
    },
    {
      "cell_type": "markdown",
      "source": [
        "The model is overfitting and the validation accuracy is very low."
      ],
      "metadata": {
        "id": "m3ln7iEXA3xE"
      }
    },
    {
      "cell_type": "markdown",
      "source": [
        "### **Model 2: (3,3,3) Filter and 160x160 Image for Conv 3D**"
      ],
      "metadata": {
        "id": "CvGDqnY9Ix3j"
      }
    },
    {
      "cell_type": "markdown",
      "source": [
        "#### Build the Model"
      ],
      "metadata": {
        "id": "HYU2-qkgI8by"
      }
    },
    {
      "cell_type": "code",
      "source": [
        "# set the parameters for the model\n",
        "params = InitParameters()\n",
        "params.initialize_path(project_folder)\n",
        "params.initialize_image_properties(image_height=160,image_width=160)\n",
        "params.initialize_hyperparams(frames_to_sample=20,batch_size=20,num_epochs=25)\n",
        "\n",
        "# model building\n",
        "conv_3d2=ModelConv3D1(params)\n",
        "conv_3d2_model=conv_3d2.define_model(dense_neurons=256,dropout=0.5)"
      ],
      "metadata": {
        "id": "R85ojoB9I5hm",
        "colab": {
          "base_uri": "https://localhost:8080/"
        },
        "outputId": "9d0ee6e7-7296-4335-b329-8c21a1bb3dfb"
      },
      "execution_count": null,
      "outputs": [
        {
          "output_type": "stream",
          "name": "stdout",
          "text": [
            "Model: \"sequential_2\"\n",
            "_________________________________________________________________\n",
            " Layer (type)                Output Shape              Param #   \n",
            "=================================================================\n",
            " conv3d_8 (Conv3D)           (None, 20, 160, 160, 16)  1312      \n",
            "                                                                 \n",
            " activation_8 (Activation)   (None, 20, 160, 160, 16)  0         \n",
            "                                                                 \n",
            " batch_normalization_12 (Bat  (None, 20, 160, 160, 16)  64       \n",
            " chNormalization)                                                \n",
            "                                                                 \n",
            " max_pooling3d_8 (MaxPooling  (None, 10, 80, 80, 16)   0         \n",
            " 3D)                                                             \n",
            "                                                                 \n",
            " conv3d_9 (Conv3D)           (None, 10, 80, 80, 32)    13856     \n",
            "                                                                 \n",
            " activation_9 (Activation)   (None, 10, 80, 80, 32)    0         \n",
            "                                                                 \n",
            " batch_normalization_13 (Bat  (None, 10, 80, 80, 32)   128       \n",
            " chNormalization)                                                \n",
            "                                                                 \n",
            " max_pooling3d_9 (MaxPooling  (None, 5, 40, 40, 32)    0         \n",
            " 3D)                                                             \n",
            "                                                                 \n",
            " conv3d_10 (Conv3D)          (None, 5, 40, 40, 64)     55360     \n",
            "                                                                 \n",
            " activation_10 (Activation)  (None, 5, 40, 40, 64)     0         \n",
            "                                                                 \n",
            " batch_normalization_14 (Bat  (None, 5, 40, 40, 64)    256       \n",
            " chNormalization)                                                \n",
            "                                                                 \n",
            " max_pooling3d_10 (MaxPoolin  (None, 2, 20, 20, 64)    0         \n",
            " g3D)                                                            \n",
            "                                                                 \n",
            " conv3d_11 (Conv3D)          (None, 2, 20, 20, 128)    221312    \n",
            "                                                                 \n",
            " activation_11 (Activation)  (None, 2, 20, 20, 128)    0         \n",
            "                                                                 \n",
            " batch_normalization_15 (Bat  (None, 2, 20, 20, 128)   512       \n",
            " chNormalization)                                                \n",
            "                                                                 \n",
            " max_pooling3d_11 (MaxPoolin  (None, 1, 10, 10, 128)   0         \n",
            " g3D)                                                            \n",
            "                                                                 \n",
            " flatten_2 (Flatten)         (None, 12800)             0         \n",
            "                                                                 \n",
            " dense_6 (Dense)             (None, 256)               3277056   \n",
            "                                                                 \n",
            " batch_normalization_16 (Bat  (None, 256)              1024      \n",
            " chNormalization)                                                \n",
            "                                                                 \n",
            " dropout_4 (Dropout)         (None, 256)               0         \n",
            "                                                                 \n",
            " dense_7 (Dense)             (None, 256)               65792     \n",
            "                                                                 \n",
            " batch_normalization_17 (Bat  (None, 256)              1024      \n",
            " chNormalization)                                                \n",
            "                                                                 \n",
            " dropout_5 (Dropout)         (None, 256)               0         \n",
            "                                                                 \n",
            " dense_8 (Dense)             (None, 5)                 1285      \n",
            "                                                                 \n",
            "=================================================================\n",
            "Total params: 3,638,981\n",
            "Trainable params: 3,637,477\n",
            "Non-trainable params: 1,504\n",
            "_________________________________________________________________\n"
          ]
        }
      ]
    },
    {
      "cell_type": "markdown",
      "source": [
        "#### Train the Model"
      ],
      "metadata": {
        "id": "v4UVmsZJI-nc"
      }
    },
    {
      "cell_type": "code",
      "source": [
        "print(\"Total Params:\", conv_3d2_model.count_params())\n",
        "history_model2=conv_3d2.train_model(conv_3d2_model,augment_data=True)"
      ],
      "metadata": {
        "id": "ZCzLYIvYJAXw",
        "colab": {
          "base_uri": "https://localhost:8080/"
        },
        "outputId": "578698d8-b0f1-484c-d80c-39baa6aecb0c"
      },
      "execution_count": null,
      "outputs": [
        {
          "output_type": "stream",
          "name": "stderr",
          "text": [
            "WARNING:tensorflow:`period` argument is deprecated. Please use `save_freq` to specify the frequency in number of batches seen.\n"
          ]
        },
        {
          "output_type": "stream",
          "name": "stdout",
          "text": [
            "Total Params: 3638981\n",
            "Source path =  Project_data/train ; batch size = 20\n",
            "Epoch 1/25\n",
            "34/34 [==============================] - ETA: 0s - loss: 1.9481 - categorical_accuracy: 0.3688Source path =  Project_data/val ; batch size = 20\n",
            "\n",
            "Epoch 1: saving model to model_init_2022-09-1411_33_11.911712/model-00001-1.94812-0.36878-1.83599-0.25000.h5\n",
            "34/34 [==============================] - 118s 4s/step - loss: 1.9481 - categorical_accuracy: 0.3688 - val_loss: 1.8360 - val_categorical_accuracy: 0.2500 - lr: 0.0010\n",
            "Epoch 2/25\n",
            "34/34 [==============================] - ETA: 0s - loss: 1.6266 - categorical_accuracy: 0.4404\n",
            "Epoch 2: saving model to model_init_2022-09-1411_33_11.911712/model-00002-1.62664-0.44042-1.63614-0.32000.h5\n",
            "34/34 [==============================] - 122s 4s/step - loss: 1.6266 - categorical_accuracy: 0.4404 - val_loss: 1.6361 - val_categorical_accuracy: 0.3200 - lr: 0.0010\n",
            "Epoch 3/25\n",
            "34/34 [==============================] - ETA: 0s - loss: 1.2128 - categorical_accuracy: 0.5777\n",
            "Epoch 3: saving model to model_init_2022-09-1411_33_11.911712/model-00003-1.21281-0.57768-3.55208-0.19000.h5\n",
            "34/34 [==============================] - 113s 3s/step - loss: 1.2128 - categorical_accuracy: 0.5777 - val_loss: 3.5521 - val_categorical_accuracy: 0.1900 - lr: 0.0010\n",
            "Epoch 4/25\n",
            "34/34 [==============================] - ETA: 0s - loss: 1.0075 - categorical_accuracy: 0.6471\n",
            "Epoch 4: saving model to model_init_2022-09-1411_33_11.911712/model-00004-1.00754-0.64706-3.72432-0.22000.h5\n",
            "34/34 [==============================] - 114s 3s/step - loss: 1.0075 - categorical_accuracy: 0.6471 - val_loss: 3.7243 - val_categorical_accuracy: 0.2200 - lr: 0.0010\n",
            "Epoch 5/25\n",
            "34/34 [==============================] - ETA: 0s - loss: 1.0284 - categorical_accuracy: 0.6282\n",
            "Epoch 5: saving model to model_init_2022-09-1411_33_11.911712/model-00005-1.02844-0.62821-8.78724-0.22000.h5\n",
            "34/34 [==============================] - 125s 4s/step - loss: 1.0284 - categorical_accuracy: 0.6282 - val_loss: 8.7872 - val_categorical_accuracy: 0.2200 - lr: 0.0010\n",
            "Epoch 6/25\n",
            "34/34 [==============================] - ETA: 0s - loss: 0.8888 - categorical_accuracy: 0.6667\n",
            "Epoch 6: saving model to model_init_2022-09-1411_33_11.911712/model-00006-0.88877-0.66667-5.63342-0.16000.h5\n",
            "\n",
            "Epoch 6: ReduceLROnPlateau reducing learning rate to 0.00020000000949949026.\n",
            "34/34 [==============================] - 123s 4s/step - loss: 0.8888 - categorical_accuracy: 0.6667 - val_loss: 5.6334 - val_categorical_accuracy: 0.1600 - lr: 0.0010\n",
            "Epoch 7/25\n",
            "34/34 [==============================] - ETA: 0s - loss: 0.7643 - categorical_accuracy: 0.7149\n",
            "Epoch 7: saving model to model_init_2022-09-1411_33_11.911712/model-00007-0.76429-0.71493-5.06371-0.33000.h5\n",
            "34/34 [==============================] - 115s 3s/step - loss: 0.7643 - categorical_accuracy: 0.7149 - val_loss: 5.0637 - val_categorical_accuracy: 0.3300 - lr: 2.0000e-04\n",
            "Epoch 8/25\n",
            "34/34 [==============================] - ETA: 0s - loss: 0.6047 - categorical_accuracy: 0.7753\n",
            "Epoch 8: saving model to model_init_2022-09-1411_33_11.911712/model-00008-0.60465-0.77526-4.50208-0.27000.h5\n",
            "34/34 [==============================] - 115s 3s/step - loss: 0.6047 - categorical_accuracy: 0.7753 - val_loss: 4.5021 - val_categorical_accuracy: 0.2700 - lr: 2.0000e-04\n",
            "Epoch 9/25\n",
            "34/34 [==============================] - ETA: 0s - loss: 0.6677 - categorical_accuracy: 0.7489\n",
            "Epoch 9: saving model to model_init_2022-09-1411_33_11.911712/model-00009-0.66773-0.74887-4.00989-0.32000.h5\n",
            "34/34 [==============================] - 122s 4s/step - loss: 0.6677 - categorical_accuracy: 0.7489 - val_loss: 4.0099 - val_categorical_accuracy: 0.3200 - lr: 2.0000e-04\n",
            "Epoch 10/25\n",
            "34/34 [==============================] - ETA: 0s - loss: 0.5940 - categorical_accuracy: 0.7707\n",
            "Epoch 10: saving model to model_init_2022-09-1411_33_11.911712/model-00010-0.59398-0.77074-3.57728-0.32000.h5\n",
            "\n",
            "Epoch 10: ReduceLROnPlateau reducing learning rate to 4.0000001899898055e-05.\n",
            "34/34 [==============================] - 116s 3s/step - loss: 0.5940 - categorical_accuracy: 0.7707 - val_loss: 3.5773 - val_categorical_accuracy: 0.3200 - lr: 2.0000e-04\n",
            "Epoch 11/25\n",
            "34/34 [==============================] - ETA: 0s - loss: 0.5307 - categorical_accuracy: 0.8084\n",
            "Epoch 11: saving model to model_init_2022-09-1411_33_11.911712/model-00011-0.53070-0.80845-3.26476-0.32000.h5\n",
            "34/34 [==============================] - 122s 4s/step - loss: 0.5307 - categorical_accuracy: 0.8084 - val_loss: 3.2648 - val_categorical_accuracy: 0.3200 - lr: 4.0000e-05\n",
            "Epoch 12/25\n",
            "34/34 [==============================] - ETA: 0s - loss: 0.5211 - categorical_accuracy: 0.7986\n",
            "Epoch 12: saving model to model_init_2022-09-1411_33_11.911712/model-00012-0.52110-0.79864-3.36764-0.30000.h5\n",
            "34/34 [==============================] - 114s 3s/step - loss: 0.5211 - categorical_accuracy: 0.7986 - val_loss: 3.3676 - val_categorical_accuracy: 0.3000 - lr: 4.0000e-05\n",
            "Epoch 13/25\n",
            "34/34 [==============================] - ETA: 0s - loss: 0.5500 - categorical_accuracy: 0.7896\n",
            "Epoch 13: saving model to model_init_2022-09-1411_33_11.911712/model-00013-0.55001-0.78959-2.29463-0.39000.h5\n",
            "34/34 [==============================] - 123s 4s/step - loss: 0.5500 - categorical_accuracy: 0.7896 - val_loss: 2.2946 - val_categorical_accuracy: 0.3900 - lr: 4.0000e-05\n",
            "Epoch 14/25\n",
            "34/34 [==============================] - ETA: 0s - loss: 0.5158 - categorical_accuracy: 0.7866\n",
            "Epoch 14: saving model to model_init_2022-09-1411_33_11.911712/model-00014-0.51578-0.78658-2.61689-0.32000.h5\n",
            "\n",
            "Epoch 14: ReduceLROnPlateau reducing learning rate to 8.000000525498762e-06.\n",
            "34/34 [==============================] - 113s 3s/step - loss: 0.5158 - categorical_accuracy: 0.7866 - val_loss: 2.6169 - val_categorical_accuracy: 0.3200 - lr: 4.0000e-05\n",
            "Epoch 15/25\n",
            "34/34 [==============================] - ETA: 0s - loss: 0.5170 - categorical_accuracy: 0.8130\n",
            "Epoch 15: saving model to model_init_2022-09-1411_33_11.911712/model-00015-0.51704-0.81297-1.86086-0.43000.h5\n",
            "34/34 [==============================] - 115s 3s/step - loss: 0.5170 - categorical_accuracy: 0.8130 - val_loss: 1.8609 - val_categorical_accuracy: 0.4300 - lr: 8.0000e-06\n",
            "Epoch 16/25\n",
            "34/34 [==============================] - ETA: 0s - loss: 0.5455 - categorical_accuracy: 0.7919\n",
            "Epoch 16: saving model to model_init_2022-09-1411_33_11.911712/model-00016-0.54554-0.79186-1.69939-0.48000.h5\n",
            "34/34 [==============================] - 123s 4s/step - loss: 0.5455 - categorical_accuracy: 0.7919 - val_loss: 1.6994 - val_categorical_accuracy: 0.4800 - lr: 8.0000e-06\n",
            "Epoch 17/25\n",
            "34/34 [==============================] - ETA: 0s - loss: 0.5178 - categorical_accuracy: 0.8002\n",
            "Epoch 17: saving model to model_init_2022-09-1411_33_11.911712/model-00017-0.51776-0.80015-1.19001-0.56000.h5\n",
            "34/34 [==============================] - 121s 4s/step - loss: 0.5178 - categorical_accuracy: 0.8002 - val_loss: 1.1900 - val_categorical_accuracy: 0.5600 - lr: 8.0000e-06\n",
            "Epoch 18/25\n",
            "34/34 [==============================] - ETA: 0s - loss: 0.5381 - categorical_accuracy: 0.7926\n",
            "Epoch 18: saving model to model_init_2022-09-1411_33_11.911712/model-00018-0.53813-0.79261-1.31924-0.56000.h5\n",
            "34/34 [==============================] - 121s 4s/step - loss: 0.5381 - categorical_accuracy: 0.7926 - val_loss: 1.3192 - val_categorical_accuracy: 0.5600 - lr: 8.0000e-06\n",
            "Epoch 19/25\n",
            "34/34 [==============================] - ETA: 0s - loss: 0.5021 - categorical_accuracy: 0.8062\n",
            "Epoch 19: saving model to model_init_2022-09-1411_33_11.911712/model-00019-0.50208-0.80618-1.01432-0.66000.h5\n",
            "34/34 [==============================] - 122s 4s/step - loss: 0.5021 - categorical_accuracy: 0.8062 - val_loss: 1.0143 - val_categorical_accuracy: 0.6600 - lr: 8.0000e-06\n",
            "Epoch 20/25\n",
            "34/34 [==============================] - ETA: 0s - loss: 0.5260 - categorical_accuracy: 0.8122\n",
            "Epoch 20: saving model to model_init_2022-09-1411_33_11.911712/model-00020-0.52605-0.81222-0.94807-0.66000.h5\n",
            "34/34 [==============================] - 122s 4s/step - loss: 0.5260 - categorical_accuracy: 0.8122 - val_loss: 0.9481 - val_categorical_accuracy: 0.6600 - lr: 8.0000e-06\n",
            "Epoch 21/25\n",
            "34/34 [==============================] - ETA: 0s - loss: 0.5210 - categorical_accuracy: 0.7994\n",
            "Epoch 21: saving model to model_init_2022-09-1411_33_11.911712/model-00021-0.52105-0.79940-0.78048-0.70000.h5\n",
            "34/34 [==============================] - 114s 3s/step - loss: 0.5210 - categorical_accuracy: 0.7994 - val_loss: 0.7805 - val_categorical_accuracy: 0.7000 - lr: 8.0000e-06\n",
            "Epoch 22/25\n",
            "34/34 [==============================] - ETA: 0s - loss: 0.4771 - categorical_accuracy: 0.8130\n",
            "Epoch 22: saving model to model_init_2022-09-1411_33_11.911712/model-00022-0.47707-0.81297-0.65085-0.74000.h5\n",
            "34/34 [==============================] - 112s 3s/step - loss: 0.4771 - categorical_accuracy: 0.8130 - val_loss: 0.6508 - val_categorical_accuracy: 0.7400 - lr: 8.0000e-06\n",
            "Epoch 23/25\n",
            "34/34 [==============================] - ETA: 0s - loss: 0.5059 - categorical_accuracy: 0.8084\n",
            "Epoch 23: saving model to model_init_2022-09-1411_33_11.911712/model-00023-0.50589-0.80845-0.65594-0.73000.h5\n",
            "34/34 [==============================] - 122s 4s/step - loss: 0.5059 - categorical_accuracy: 0.8084 - val_loss: 0.6559 - val_categorical_accuracy: 0.7300 - lr: 8.0000e-06\n",
            "Epoch 24/25\n",
            "34/34 [==============================] - ETA: 0s - loss: 0.4992 - categorical_accuracy: 0.8130\n",
            "Epoch 24: saving model to model_init_2022-09-1411_33_11.911712/model-00024-0.49917-0.81297-0.62692-0.75000.h5\n",
            "34/34 [==============================] - 114s 3s/step - loss: 0.4992 - categorical_accuracy: 0.8130 - val_loss: 0.6269 - val_categorical_accuracy: 0.7500 - lr: 8.0000e-06\n",
            "Epoch 25/25\n",
            "34/34 [==============================] - ETA: 0s - loss: 0.5556 - categorical_accuracy: 0.7873\n",
            "Epoch 25: saving model to model_init_2022-09-1411_33_11.911712/model-00025-0.55565-0.78733-0.60431-0.76000.h5\n",
            "34/34 [==============================] - 113s 3s/step - loss: 0.5556 - categorical_accuracy: 0.7873 - val_loss: 0.6043 - val_categorical_accuracy: 0.7600 - lr: 8.0000e-06\n"
          ]
        }
      ]
    },
    {
      "cell_type": "markdown",
      "source": [
        "#### Accuracy Plot"
      ],
      "metadata": {
        "id": "UsZIO7bLJBE4"
      }
    },
    {
      "cell_type": "code",
      "source": [
        "plot(history_model2)"
      ],
      "metadata": {
        "id": "3HdmAgS0JC-4",
        "colab": {
          "base_uri": "https://localhost:8080/",
          "height": 265
        },
        "outputId": "0054138a-3de6-4e91-ef69-d44bc2af7439"
      },
      "execution_count": null,
      "outputs": [
        {
          "output_type": "display_data",
          "data": {
            "text/plain": [
              "<Figure size 1080x288 with 2 Axes>"
            ],
            "image/png": "[encoded data removed]"
          },
          "metadata": {
            "needs_background": "light"
          }
        }
      ]
    },
    {
      "cell_type": "markdown",
      "source": [
        "### **Model 3: (2,2,2) Filter and 120x120 Image with Conv3D**"
      ],
      "metadata": {
        "id": "mqFIybUmJ8Nj"
      }
    },
    {
      "cell_type": "markdown",
      "source": [
        "#### Define the Model"
      ],
      "metadata": {
        "id": "VISZAeFiKFNt"
      }
    },
    {
      "cell_type": "code",
      "source": [
        "class ModelConv3D3(ModelBuilder):\n",
        "    \n",
        "    def define_model(self,filtersize=(3,3,3),dense_neurons=64,dropout=0.25):\n",
        "\n",
        "        model = Sequential()\n",
        "        model.add(Conv3D(16, filtersize, padding='same',\n",
        "                 input_shape=(params.frames_to_sample,params.image_height,params.image_width,params.channels)))\n",
        "        model.add(Activation('relu'))\n",
        "        model.add(BatchNormalization())\n",
        "        model.add(MaxPooling3D(pool_size=(2, 2, 2)))\n",
        "\n",
        "        model.add(Conv3D(32, filtersize, padding='same'))\n",
        "        model.add(Activation('relu'))\n",
        "        model.add(BatchNormalization())\n",
        "        model.add(MaxPooling3D(pool_size=(2, 2, 2)))\n",
        "\n",
        "        model.add(Conv3D(64, filtersize, padding='same'))\n",
        "        model.add(Activation('relu'))\n",
        "        model.add(BatchNormalization())\n",
        "        model.add(MaxPooling3D(pool_size=(2, 2, 2)))\n",
        "\n",
        "        model.add(Conv3D(128, filtersize, padding='same'))\n",
        "        model.add(Activation('relu'))\n",
        "        model.add(BatchNormalization())\n",
        "        model.add(MaxPooling3D(pool_size=(2, 2, 2)))\n",
        "\n",
        "        model.add(Flatten())\n",
        "        model.add(Dense(dense_neurons,activation='relu'))\n",
        "        model.add(BatchNormalization())\n",
        "        model.add(Dropout(dropout))\n",
        "\n",
        "        model.add(Dense(dense_neurons,activation='relu'))\n",
        "        model.add(BatchNormalization())\n",
        "        model.add(Dropout(dropout))\n",
        "\n",
        "\n",
        "        model.add(Dense(params.num_classes,activation='softmax'))\n",
        "\n",
        "      # compile the model\n",
        "        optimiser = tf.optimizers.Adam(lr=0.0002)\n",
        "        model.compile(optimizer=optimiser, loss='categorical_crossentropy', metrics=['categorical_accuracy'])\n",
        "        model.summary()\n",
        "        return model"
      ],
      "metadata": {
        "id": "dDAJRKbrKG6N"
      },
      "execution_count": null,
      "outputs": []
    },
    {
      "cell_type": "markdown",
      "source": [
        "#### Build the Model"
      ],
      "metadata": {
        "id": "ShmjX2s5KHYm"
      }
    },
    {
      "cell_type": "code",
      "source": [
        "# parameter setting\n",
        "params = InitParameters()\n",
        "params.initialize_path(project_folder)\n",
        "params.initialize_image_properties(image_height=120,image_width=120)\n",
        "params.initialize_hyperparams(frames_to_sample=16,batch_size=30,num_epochs=30)\n",
        "\n",
        "# model building\n",
        "conv_3d3=ModelConv3D3(params)\n",
        "conv_3d3_model=conv_3d3.define_model(filtersize=(2,2,2),dense_neurons=256,dropout=0.5)\n"
      ],
      "metadata": {
        "id": "iuCp2_WWKJkK",
        "colab": {
          "base_uri": "https://localhost:8080/"
        },
        "outputId": "c3c94f39-1c5f-47ab-aa4e-515ce3c27a7e"
      },
      "execution_count": null,
      "outputs": [
        {
          "output_type": "stream",
          "name": "stdout",
          "text": [
            "Model: \"sequential_18\"\n",
            "_________________________________________________________________\n",
            " Layer (type)                Output Shape              Param #   \n",
            "=================================================================\n",
            " conv3d_56 (Conv3D)          (None, 16, 120, 120, 16)  400       \n",
            "                                                                 \n",
            " activation_56 (Activation)  (None, 16, 120, 120, 16)  0         \n",
            "                                                                 \n",
            " batch_normalization_96 (Bat  (None, 16, 120, 120, 16)  64       \n",
            " chNormalization)                                                \n",
            "                                                                 \n",
            " max_pooling3d_56 (MaxPoolin  (None, 8, 60, 60, 16)    0         \n",
            " g3D)                                                            \n",
            "                                                                 \n",
            " conv3d_57 (Conv3D)          (None, 8, 60, 60, 32)     4128      \n",
            "                                                                 \n",
            " activation_57 (Activation)  (None, 8, 60, 60, 32)     0         \n",
            "                                                                 \n",
            " batch_normalization_97 (Bat  (None, 8, 60, 60, 32)    128       \n",
            " chNormalization)                                                \n",
            "                                                                 \n",
            " max_pooling3d_57 (MaxPoolin  (None, 4, 30, 30, 32)    0         \n",
            " g3D)                                                            \n",
            "                                                                 \n",
            " conv3d_58 (Conv3D)          (None, 4, 30, 30, 64)     16448     \n",
            "                                                                 \n",
            " activation_58 (Activation)  (None, 4, 30, 30, 64)     0         \n",
            "                                                                 \n",
            " batch_normalization_98 (Bat  (None, 4, 30, 30, 64)    256       \n",
            " chNormalization)                                                \n",
            "                                                                 \n",
            " max_pooling3d_58 (MaxPoolin  (None, 2, 15, 15, 64)    0         \n",
            " g3D)                                                            \n",
            "                                                                 \n",
            " conv3d_59 (Conv3D)          (None, 2, 15, 15, 128)    65664     \n",
            "                                                                 \n",
            " activation_59 (Activation)  (None, 2, 15, 15, 128)    0         \n",
            "                                                                 \n",
            " batch_normalization_99 (Bat  (None, 2, 15, 15, 128)   512       \n",
            " chNormalization)                                                \n",
            "                                                                 \n",
            " max_pooling3d_59 (MaxPoolin  (None, 1, 7, 7, 128)     0         \n",
            " g3D)                                                            \n",
            "                                                                 \n",
            " flatten_18 (Flatten)        (None, 6272)              0         \n",
            "                                                                 \n",
            " dense_50 (Dense)            (None, 256)               1605888   \n",
            "                                                                 \n",
            " batch_normalization_100 (Ba  (None, 256)              1024      \n",
            " tchNormalization)                                               \n",
            "                                                                 \n",
            " dropout_36 (Dropout)        (None, 256)               0         \n",
            "                                                                 \n",
            " dense_51 (Dense)            (None, 256)               65792     \n",
            "                                                                 \n",
            " batch_normalization_101 (Ba  (None, 256)              1024      \n",
            " tchNormalization)                                               \n",
            "                                                                 \n",
            " dropout_37 (Dropout)        (None, 256)               0         \n",
            "                                                                 \n",
            " dense_52 (Dense)            (None, 5)                 1285      \n",
            "                                                                 \n",
            "=================================================================\n",
            "Total params: 1,762,613\n",
            "Trainable params: 1,761,109\n",
            "Non-trainable params: 1,504\n",
            "_________________________________________________________________\n"
          ]
        }
      ]
    },
    {
      "cell_type": "markdown",
      "source": [
        "#### Train the Model "
      ],
      "metadata": {
        "id": "_p1xu-qvKJ9c"
      }
    },
    {
      "cell_type": "code",
      "source": [
        "print(\"Total Params:\", conv_3d3_model.count_params())\n",
        "history_model3=conv_3d3.train_model(conv_3d3_model,augment_data=True)"
      ],
      "metadata": {
        "id": "rC9EQvD0KRO9",
        "colab": {
          "base_uri": "https://localhost:8080/"
        },
        "outputId": "a23f6612-4302-41c0-935a-2ea778de19d0"
      },
      "execution_count": null,
      "outputs": [
        {
          "output_type": "stream",
          "name": "stderr",
          "text": [
            "WARNING:tensorflow:`period` argument is deprecated. Please use `save_freq` to specify the frequency in number of batches seen.\n"
          ]
        },
        {
          "output_type": "stream",
          "name": "stdout",
          "text": [
            "Total Params: 1762613\n",
            "Source path =  Project_data/train ; batch size = 30\n",
            "Epoch 1/30\n",
            "23/23 [==============================] - ETA: 0s - loss: 2.0572 - categorical_accuracy: 0.3462Source path =  Project_data/val ; batch size = 30\n",
            "\n",
            "Epoch 1: saving model to model_init_2022-09-1414_31_37.591367/model-00001-2.05725-0.34615-2.13908-0.16000.h5\n",
            "23/23 [==============================] - 87s 4s/step - loss: 2.0572 - categorical_accuracy: 0.3462 - val_loss: 2.1391 - val_categorical_accuracy: 0.1600 - lr: 2.0000e-04\n",
            "Epoch 2/30\n",
            "23/23 [==============================] - ETA: 0s - loss: 1.5294 - categorical_accuracy: 0.4713\n",
            "Epoch 2: saving model to model_init_2022-09-1414_31_37.591367/model-00002-1.52940-0.47134-3.66390-0.15000.h5\n",
            "23/23 [==============================] - 80s 4s/step - loss: 1.5294 - categorical_accuracy: 0.4713 - val_loss: 3.6639 - val_categorical_accuracy: 0.1500 - lr: 2.0000e-04\n",
            "Epoch 3/30\n",
            "22/23 [===========================>..] - ETA: 3s - loss: 1.2893 - categorical_accuracy: 0.5280\n",
            "Epoch 3: saving model to model_init_2022-09-1414_31_37.591367/model-00003-1.29202-0.52640-5.15175-0.12000.h5\n",
            "23/23 [==============================] - 79s 4s/step - loss: 1.2920 - categorical_accuracy: 0.5264 - val_loss: 5.1518 - val_categorical_accuracy: 0.1200 - lr: 2.0000e-04\n",
            "Epoch 4/30\n",
            "23/23 [==============================] - ETA: 0s - loss: 1.2141 - categorical_accuracy: 0.5664\n",
            "Epoch 4: saving model to model_init_2022-09-1414_31_37.591367/model-00004-1.21413-0.56637-5.77585-0.19000.h5\n",
            "23/23 [==============================] - 80s 4s/step - loss: 1.2141 - categorical_accuracy: 0.5664 - val_loss: 5.7758 - val_categorical_accuracy: 0.1900 - lr: 2.0000e-04\n",
            "Epoch 5/30\n",
            "23/23 [==============================] - ETA: 0s - loss: 1.1592 - categorical_accuracy: 0.5867\n",
            "Epoch 5: saving model to model_init_2022-09-1414_31_37.591367/model-00005-1.15920-0.58673-7.04126-0.16000.h5\n",
            "\n",
            "Epoch 5: ReduceLROnPlateau reducing learning rate to 3.9999998989515007e-05.\n",
            "23/23 [==============================] - 79s 4s/step - loss: 1.1592 - categorical_accuracy: 0.5867 - val_loss: 7.0413 - val_categorical_accuracy: 0.1600 - lr: 2.0000e-04\n",
            "Epoch 6/30\n",
            "22/23 [===========================>..] - ETA: 3s - loss: 1.0040 - categorical_accuracy: 0.6371\n",
            "Epoch 6: saving model to model_init_2022-09-1414_31_37.591367/model-00006-1.00622-0.63650-7.76033-0.17000.h5\n",
            "23/23 [==============================] - 81s 4s/step - loss: 1.0062 - categorical_accuracy: 0.6365 - val_loss: 7.7603 - val_categorical_accuracy: 0.1700 - lr: 4.0000e-05\n",
            "Epoch 7/30\n",
            "23/23 [==============================] - ETA: 0s - loss: 0.9576 - categorical_accuracy: 0.6410\n",
            "Epoch 7: saving model to model_init_2022-09-1414_31_37.591367/model-00007-0.95758-0.64103-8.73061-0.15000.h5\n",
            "23/23 [==============================] - 79s 4s/step - loss: 0.9576 - categorical_accuracy: 0.6410 - val_loss: 8.7306 - val_categorical_accuracy: 0.1500 - lr: 4.0000e-05\n",
            "Epoch 8/30\n",
            "23/23 [==============================] - ETA: 0s - loss: 0.9284 - categorical_accuracy: 0.6478\n",
            "Epoch 8: saving model to model_init_2022-09-1414_31_37.591367/model-00008-0.92837-0.64781-8.45347-0.18000.h5\n",
            "23/23 [==============================] - 78s 4s/step - loss: 0.9284 - categorical_accuracy: 0.6478 - val_loss: 8.4535 - val_categorical_accuracy: 0.1800 - lr: 4.0000e-05\n",
            "Epoch 9/30\n",
            "23/23 [==============================] - ETA: 0s - loss: 0.9299 - categorical_accuracy: 0.6576\n",
            "Epoch 9: saving model to model_init_2022-09-1414_31_37.591367/model-00009-0.92988-0.65762-9.04080-0.16000.h5\n",
            "\n",
            "Epoch 9: ReduceLROnPlateau reducing learning rate to 7.999999797903002e-06.\n",
            "23/23 [==============================] - 81s 4s/step - loss: 0.9299 - categorical_accuracy: 0.6576 - val_loss: 9.0408 - val_categorical_accuracy: 0.1600 - lr: 4.0000e-05\n",
            "Epoch 10/30\n",
            "23/23 [==============================] - ETA: 0s - loss: 0.9227 - categorical_accuracy: 0.6817\n",
            "Epoch 10: saving model to model_init_2022-09-1414_31_37.591367/model-00010-0.92268-0.68175-8.68848-0.19000.h5\n",
            "23/23 [==============================] - 79s 4s/step - loss: 0.9227 - categorical_accuracy: 0.6817 - val_loss: 8.6885 - val_categorical_accuracy: 0.1900 - lr: 8.0000e-06\n",
            "Epoch 11/30\n",
            "23/23 [==============================] - ETA: 0s - loss: 0.8960 - categorical_accuracy: 0.6659\n",
            "Epoch 11: saving model to model_init_2022-09-1414_31_37.591367/model-00011-0.89604-0.66591-9.41906-0.17000.h5\n",
            "23/23 [==============================] - 79s 4s/step - loss: 0.8960 - categorical_accuracy: 0.6659 - val_loss: 9.4191 - val_categorical_accuracy: 0.1700 - lr: 8.0000e-06\n",
            "Epoch 12/30\n",
            "23/23 [==============================] - ETA: 0s - loss: 0.8888 - categorical_accuracy: 0.6780\n",
            "Epoch 12: saving model to model_init_2022-09-1414_31_37.591367/model-00012-0.88879-0.67798-9.14081-0.17000.h5\n",
            "23/23 [==============================] - 79s 4s/step - loss: 0.8888 - categorical_accuracy: 0.6780 - val_loss: 9.1408 - val_categorical_accuracy: 0.1700 - lr: 8.0000e-06\n",
            "Epoch 13/30\n",
            "23/23 [==============================] - ETA: 0s - loss: 0.8470 - categorical_accuracy: 0.6765\n",
            "Epoch 13: saving model to model_init_2022-09-1414_31_37.591367/model-00013-0.84697-0.67647-8.66120-0.16000.h5\n",
            "\n",
            "Epoch 13: ReduceLROnPlateau reducing learning rate to 1.5999999959603884e-06.\n",
            "23/23 [==============================] - 79s 4s/step - loss: 0.8470 - categorical_accuracy: 0.6765 - val_loss: 8.6612 - val_categorical_accuracy: 0.1600 - lr: 8.0000e-06\n",
            "Epoch 14/30\n",
            "22/23 [===========================>..] - ETA: 3s - loss: 0.9144 - categorical_accuracy: 0.6492\n",
            "Epoch 14: saving model to model_init_2022-09-1414_31_37.591367/model-00014-0.91757-0.64781-7.80228-0.21000.h5\n",
            "23/23 [==============================] - 80s 4s/step - loss: 0.9176 - categorical_accuracy: 0.6478 - val_loss: 7.8023 - val_categorical_accuracy: 0.2100 - lr: 1.6000e-06\n",
            "Epoch 15/30\n",
            "23/23 [==============================] - ETA: 0s - loss: 0.9122 - categorical_accuracy: 0.6712\n",
            "Epoch 15: saving model to model_init_2022-09-1414_31_37.591367/model-00015-0.91220-0.67119-7.74900-0.16000.h5\n",
            "23/23 [==============================] - 80s 4s/step - loss: 0.9122 - categorical_accuracy: 0.6712 - val_loss: 7.7490 - val_categorical_accuracy: 0.1600 - lr: 1.6000e-06\n",
            "Epoch 16/30\n",
            "23/23 [==============================] - ETA: 0s - loss: 0.8527 - categorical_accuracy: 0.6848\n",
            "Epoch 16: saving model to model_init_2022-09-1414_31_37.591367/model-00016-0.85275-0.68477-7.07781-0.13000.h5\n",
            "23/23 [==============================] - 78s 4s/step - loss: 0.8527 - categorical_accuracy: 0.6848 - val_loss: 7.0778 - val_categorical_accuracy: 0.1300 - lr: 1.6000e-06\n",
            "Epoch 17/30\n",
            "22/23 [===========================>..] - ETA: 3s - loss: 0.8715 - categorical_accuracy: 0.6682\n",
            "Epoch 17: saving model to model_init_2022-09-1414_31_37.591367/model-00017-0.87010-0.66893-6.06195-0.16000.h5\n",
            "\n",
            "Epoch 17: ReduceLROnPlateau reducing learning rate to 3.200000037395512e-07.\n",
            "23/23 [==============================] - 81s 4s/step - loss: 0.8701 - categorical_accuracy: 0.6689 - val_loss: 6.0620 - val_categorical_accuracy: 0.1600 - lr: 1.6000e-06\n",
            "Epoch 18/30\n",
            "22/23 [===========================>..] - ETA: 3s - loss: 0.8933 - categorical_accuracy: 0.6674\n",
            "Epoch 18: saving model to model_init_2022-09-1414_31_37.591367/model-00018-0.89066-0.66893-5.61515-0.14000.h5\n",
            "23/23 [==============================] - 80s 4s/step - loss: 0.8907 - categorical_accuracy: 0.6689 - val_loss: 5.6152 - val_categorical_accuracy: 0.1400 - lr: 3.2000e-07\n",
            "Epoch 19/30\n",
            "23/23 [==============================] - ETA: 0s - loss: 0.8919 - categorical_accuracy: 0.6795\n",
            "Epoch 19: saving model to model_init_2022-09-1414_31_37.591367/model-00019-0.89190-0.67949-4.63710-0.16000.h5\n",
            "23/23 [==============================] - 80s 4s/step - loss: 0.8919 - categorical_accuracy: 0.6795 - val_loss: 4.6371 - val_categorical_accuracy: 0.1600 - lr: 3.2000e-07\n",
            "Epoch 20/30\n",
            "23/23 [==============================] - ETA: 0s - loss: 0.8682 - categorical_accuracy: 0.6629\n",
            "Epoch 20: saving model to model_init_2022-09-1414_31_37.591367/model-00020-0.86824-0.66290-4.21876-0.17000.h5\n",
            "23/23 [==============================] - 80s 4s/step - loss: 0.8682 - categorical_accuracy: 0.6629 - val_loss: 4.2188 - val_categorical_accuracy: 0.1700 - lr: 3.2000e-07\n",
            "Epoch 21/30\n",
            "23/23 [==============================] - ETA: 0s - loss: 0.9117 - categorical_accuracy: 0.6629\n",
            "Epoch 21: saving model to model_init_2022-09-1414_31_37.591367/model-00021-0.91174-0.66290-3.62248-0.24000.h5\n",
            "\n",
            "Epoch 21: ReduceLROnPlateau reducing learning rate to 6.399999961104187e-08.\n",
            "23/23 [==============================] - 79s 4s/step - loss: 0.9117 - categorical_accuracy: 0.6629 - val_loss: 3.6225 - val_categorical_accuracy: 0.2400 - lr: 3.2000e-07\n",
            "Epoch 22/30\n",
            "23/23 [==============================] - ETA: 0s - loss: 0.8787 - categorical_accuracy: 0.6840\n",
            "Epoch 22: saving model to model_init_2022-09-1414_31_37.591367/model-00022-0.87874-0.68401-3.08389-0.30000.h5\n",
            "23/23 [==============================] - 80s 4s/step - loss: 0.8787 - categorical_accuracy: 0.6840 - val_loss: 3.0839 - val_categorical_accuracy: 0.3000 - lr: 6.4000e-08\n",
            "Epoch 23/30\n",
            "23/23 [==============================] - ETA: 0s - loss: 0.9314 - categorical_accuracy: 0.6606\n",
            "Epoch 23: saving model to model_init_2022-09-1414_31_37.591367/model-00023-0.93140-0.66063-2.47630-0.39000.h5\n",
            "23/23 [==============================] - 81s 4s/step - loss: 0.9314 - categorical_accuracy: 0.6606 - val_loss: 2.4763 - val_categorical_accuracy: 0.3900 - lr: 6.4000e-08\n",
            "Epoch 24/30\n",
            "23/23 [==============================] - ETA: 0s - loss: 0.9043 - categorical_accuracy: 0.6689\n",
            "Epoch 24: saving model to model_init_2022-09-1414_31_37.591367/model-00024-0.90433-0.66893-2.34046-0.37000.h5\n",
            "23/23 [==============================] - 78s 4s/step - loss: 0.9043 - categorical_accuracy: 0.6689 - val_loss: 2.3405 - val_categorical_accuracy: 0.3700 - lr: 6.4000e-08\n",
            "Epoch 25/30\n",
            "22/23 [===========================>..] - ETA: 3s - loss: 0.8876 - categorical_accuracy: 0.6629\n",
            "Epoch 25: saving model to model_init_2022-09-1414_31_37.591367/model-00025-0.89283-0.66139-2.00453-0.41000.h5\n",
            "23/23 [==============================] - 80s 4s/step - loss: 0.8928 - categorical_accuracy: 0.6614 - val_loss: 2.0045 - val_categorical_accuracy: 0.4100 - lr: 6.4000e-08\n",
            "Epoch 26/30\n",
            "23/23 [==============================] - ETA: 0s - loss: 0.8999 - categorical_accuracy: 0.6712\n",
            "Epoch 26: saving model to model_init_2022-09-1414_31_37.591367/model-00026-0.89986-0.67119-1.74618-0.43000.h5\n",
            "23/23 [==============================] - 81s 4s/step - loss: 0.8999 - categorical_accuracy: 0.6712 - val_loss: 1.7462 - val_categorical_accuracy: 0.4300 - lr: 6.4000e-08\n",
            "Epoch 27/30\n",
            "23/23 [==============================] - ETA: 0s - loss: 0.9043 - categorical_accuracy: 0.6689\n",
            "Epoch 27: saving model to model_init_2022-09-1414_31_37.591367/model-00027-0.90428-0.66893-1.69876-0.46000.h5\n",
            "23/23 [==============================] - 79s 4s/step - loss: 0.9043 - categorical_accuracy: 0.6689 - val_loss: 1.6988 - val_categorical_accuracy: 0.4600 - lr: 6.4000e-08\n",
            "Epoch 28/30\n",
            "23/23 [==============================] - ETA: 0s - loss: 0.8943 - categorical_accuracy: 0.6727\n",
            "Epoch 28: saving model to model_init_2022-09-1414_31_37.591367/model-00028-0.89432-0.67270-1.33978-0.53000.h5\n",
            "23/23 [==============================] - 78s 4s/step - loss: 0.8943 - categorical_accuracy: 0.6727 - val_loss: 1.3398 - val_categorical_accuracy: 0.5300 - lr: 6.4000e-08\n",
            "Epoch 29/30\n",
            "23/23 [==============================] - ETA: 0s - loss: 0.9096 - categorical_accuracy: 0.6599\n",
            "Epoch 29: saving model to model_init_2022-09-1414_31_37.591367/model-00029-0.90965-0.65988-1.22806-0.56000.h5\n",
            "23/23 [==============================] - 81s 4s/step - loss: 0.9096 - categorical_accuracy: 0.6599 - val_loss: 1.2281 - val_categorical_accuracy: 0.5600 - lr: 6.4000e-08\n",
            "Epoch 30/30\n",
            "23/23 [==============================] - ETA: 0s - loss: 0.8450 - categorical_accuracy: 0.6900\n",
            "Epoch 30: saving model to model_init_2022-09-1414_31_37.591367/model-00030-0.84503-0.69005-1.06293-0.63000.h5\n",
            "23/23 [==============================] - 79s 4s/step - loss: 0.8450 - categorical_accuracy: 0.6900 - val_loss: 1.0629 - val_categorical_accuracy: 0.6300 - lr: 6.4000e-08\n"
          ]
        }
      ]
    },
    {
      "cell_type": "markdown",
      "source": [
        "#### Accuracy Plot"
      ],
      "metadata": {
        "id": "BqYuSF-HKRpR"
      }
    },
    {
      "cell_type": "code",
      "source": [
        "plot(history_model3)"
      ],
      "metadata": {
        "id": "Yk_tie6XKTaQ",
        "colab": {
          "base_uri": "https://localhost:8080/",
          "height": 265
        },
        "outputId": "6fc37268-22bc-40e4-87f4-6619dcf2c6de"
      },
      "execution_count": null,
      "outputs": [
        {
          "output_type": "display_data",
          "data": {
            "text/plain": [
              "<Figure size 1080x288 with 2 Axes>"
            ],
            "image/png": "[encoded data removed]"
          },
          "metadata": {
            "needs_background": "light"
          }
        }
      ]
    },
    {
      "cell_type": "markdown",
      "source": [
        "### **Model 4: Reducing the parameters for Conv3D**"
      ],
      "metadata": {
        "id": "ecx3ywGjGoWK"
      }
    },
    {
      "cell_type": "markdown",
      "source": [
        "#### Define the Model"
      ],
      "metadata": {
        "id": "33BDI2AHX0m-"
      }
    },
    {
      "cell_type": "code",
      "source": [
        "class ModelConv3D4(ModelBuilder):\n",
        "    \n",
        "    def define_model(self,dense_neurons=64,dropout=0.25):\n",
        "\n",
        "        model = Sequential()\n",
        "        model.add(Conv3D(16, (3, 3, 3), padding='same',\n",
        "                 input_shape=(params.frames_to_sample,params.image_height,params.image_width,params.channels)))\n",
        "        model.add(Activation('relu'))\n",
        "        model.add(BatchNormalization())\n",
        "        model.add(MaxPooling3D(pool_size=(2, 2, 2)))\n",
        "\n",
        "        model.add(Conv3D(32, (2, 2, 2), padding='same'))\n",
        "        model.add(Activation('relu'))\n",
        "        model.add(BatchNormalization())\n",
        "        model.add(MaxPooling3D(pool_size=(2, 2, 2)))\n",
        "\n",
        "        model.add(Conv3D(64, (2, 2, 2), padding='same'))\n",
        "        model.add(Activation('relu'))\n",
        "        model.add(BatchNormalization())\n",
        "        model.add(MaxPooling3D(pool_size=(2, 2, 2)))\n",
        "\n",
        "        model.add(Conv3D(128, (2, 2, 2), padding='same'))\n",
        "        model.add(Activation('relu'))\n",
        "        model.add(BatchNormalization())\n",
        "        model.add(MaxPooling3D(pool_size=(2, 2, 2)))\n",
        "        \n",
        "        model.add(Flatten())\n",
        "        model.add(Dense(dense_neurons,activation='relu'))\n",
        "        model.add(BatchNormalization())\n",
        "        model.add(Dropout(dropout))\n",
        "\n",
        "        model.add(Dense(dense_neurons,activation='relu'))\n",
        "        model.add(BatchNormalization())\n",
        "        model.add(Dropout(dropout))\n",
        "\n",
        "        model.add(Dense(params.num_classes,activation='softmax'))\n",
        "\n",
        "      # compile the model\n",
        "        optimiser = tf.optimizers.Adam(lr=0.0002)\n",
        "        model.compile(optimizer=optimiser, loss='categorical_crossentropy', metrics=['categorical_accuracy'])\n",
        "        model.summary()\n",
        "        return model"
      ],
      "metadata": {
        "id": "KbS8zDQ2X1UA"
      },
      "execution_count": null,
      "outputs": []
    },
    {
      "cell_type": "markdown",
      "source": [
        "#### Build the Model"
      ],
      "metadata": {
        "id": "VbbkqkzPX1zy"
      }
    },
    {
      "cell_type": "code",
      "source": [
        "# set the parameters for the model\n",
        "params = InitParameters()\n",
        "params.initialize_path(project_folder)\n",
        "params.initialize_image_properties(image_height=100,image_width=100)\n",
        "params.initialize_hyperparams(frames_to_sample=16,batch_size=20,num_epochs=30)\n",
        "\n",
        "# model building\n",
        "conv_3d4=ModelConv3D4(params)\n",
        "conv_3d4_model=conv_3d4.define_model(dense_neurons=128,dropout=0.25)\n",
        "conv_3d4_model.summary()"
      ],
      "metadata": {
        "id": "wo8ElUOAX2eU",
        "colab": {
          "base_uri": "https://localhost:8080/"
        },
        "outputId": "8f6f4027-d72e-47cb-f4f0-6b13bd9841a2"
      },
      "execution_count": null,
      "outputs": [
        {
          "output_type": "stream",
          "name": "stdout",
          "text": [
            "Model: \"sequential_5\"\n",
            "_________________________________________________________________\n",
            " Layer (type)                Output Shape              Param #   \n",
            "=================================================================\n",
            " conv3d_20 (Conv3D)          (None, 16, 100, 100, 16)  1312      \n",
            "                                                                 \n",
            " activation_20 (Activation)  (None, 16, 100, 100, 16)  0         \n",
            "                                                                 \n",
            " batch_normalization_30 (Bat  (None, 16, 100, 100, 16)  64       \n",
            " chNormalization)                                                \n",
            "                                                                 \n",
            " max_pooling3d_20 (MaxPoolin  (None, 8, 50, 50, 16)    0         \n",
            " g3D)                                                            \n",
            "                                                                 \n",
            " conv3d_21 (Conv3D)          (None, 8, 50, 50, 32)     4128      \n",
            "                                                                 \n",
            " activation_21 (Activation)  (None, 8, 50, 50, 32)     0         \n",
            "                                                                 \n",
            " batch_normalization_31 (Bat  (None, 8, 50, 50, 32)    128       \n",
            " chNormalization)                                                \n",
            "                                                                 \n",
            " max_pooling3d_21 (MaxPoolin  (None, 4, 25, 25, 32)    0         \n",
            " g3D)                                                            \n",
            "                                                                 \n",
            " conv3d_22 (Conv3D)          (None, 4, 25, 25, 64)     16448     \n",
            "                                                                 \n",
            " activation_22 (Activation)  (None, 4, 25, 25, 64)     0         \n",
            "                                                                 \n",
            " batch_normalization_32 (Bat  (None, 4, 25, 25, 64)    256       \n",
            " chNormalization)                                                \n",
            "                                                                 \n",
            " max_pooling3d_22 (MaxPoolin  (None, 2, 12, 12, 64)    0         \n",
            " g3D)                                                            \n",
            "                                                                 \n",
            " conv3d_23 (Conv3D)          (None, 2, 12, 12, 128)    65664     \n",
            "                                                                 \n",
            " activation_23 (Activation)  (None, 2, 12, 12, 128)    0         \n",
            "                                                                 \n",
            " batch_normalization_33 (Bat  (None, 2, 12, 12, 128)   512       \n",
            " chNormalization)                                                \n",
            "                                                                 \n",
            " max_pooling3d_23 (MaxPoolin  (None, 1, 6, 6, 128)     0         \n",
            " g3D)                                                            \n",
            "                                                                 \n",
            " flatten_5 (Flatten)         (None, 4608)              0         \n",
            "                                                                 \n",
            " dense_15 (Dense)            (None, 128)               589952    \n",
            "                                                                 \n",
            " batch_normalization_34 (Bat  (None, 128)              512       \n",
            " chNormalization)                                                \n",
            "                                                                 \n",
            " dropout_10 (Dropout)        (None, 128)               0         \n",
            "                                                                 \n",
            " dense_16 (Dense)            (None, 128)               16512     \n",
            "                                                                 \n",
            " batch_normalization_35 (Bat  (None, 128)              512       \n",
            " chNormalization)                                                \n",
            "                                                                 \n",
            " dropout_11 (Dropout)        (None, 128)               0         \n",
            "                                                                 \n",
            " dense_17 (Dense)            (None, 5)                 645       \n",
            "                                                                 \n",
            "=================================================================\n",
            "Total params: 696,645\n",
            "Trainable params: 695,653\n",
            "Non-trainable params: 992\n",
            "_________________________________________________________________\n",
            "Model: \"sequential_5\"\n",
            "_________________________________________________________________\n",
            " Layer (type)                Output Shape              Param #   \n",
            "=================================================================\n",
            " conv3d_20 (Conv3D)          (None, 16, 100, 100, 16)  1312      \n",
            "                                                                 \n",
            " activation_20 (Activation)  (None, 16, 100, 100, 16)  0         \n",
            "                                                                 \n",
            " batch_normalization_30 (Bat  (None, 16, 100, 100, 16)  64       \n",
            " chNormalization)                                                \n",
            "                                                                 \n",
            " max_pooling3d_20 (MaxPoolin  (None, 8, 50, 50, 16)    0         \n",
            " g3D)                                                            \n",
            "                                                                 \n",
            " conv3d_21 (Conv3D)          (None, 8, 50, 50, 32)     4128      \n",
            "                                                                 \n",
            " activation_21 (Activation)  (None, 8, 50, 50, 32)     0         \n",
            "                                                                 \n",
            " batch_normalization_31 (Bat  (None, 8, 50, 50, 32)    128       \n",
            " chNormalization)                                                \n",
            "                                                                 \n",
            " max_pooling3d_21 (MaxPoolin  (None, 4, 25, 25, 32)    0         \n",
            " g3D)                                                            \n",
            "                                                                 \n",
            " conv3d_22 (Conv3D)          (None, 4, 25, 25, 64)     16448     \n",
            "                                                                 \n",
            " activation_22 (Activation)  (None, 4, 25, 25, 64)     0         \n",
            "                                                                 \n",
            " batch_normalization_32 (Bat  (None, 4, 25, 25, 64)    256       \n",
            " chNormalization)                                                \n",
            "                                                                 \n",
            " max_pooling3d_22 (MaxPoolin  (None, 2, 12, 12, 64)    0         \n",
            " g3D)                                                            \n",
            "                                                                 \n",
            " conv3d_23 (Conv3D)          (None, 2, 12, 12, 128)    65664     \n",
            "                                                                 \n",
            " activation_23 (Activation)  (None, 2, 12, 12, 128)    0         \n",
            "                                                                 \n",
            " batch_normalization_33 (Bat  (None, 2, 12, 12, 128)   512       \n",
            " chNormalization)                                                \n",
            "                                                                 \n",
            " max_pooling3d_23 (MaxPoolin  (None, 1, 6, 6, 128)     0         \n",
            " g3D)                                                            \n",
            "                                                                 \n",
            " flatten_5 (Flatten)         (None, 4608)              0         \n",
            "                                                                 \n",
            " dense_15 (Dense)            (None, 128)               589952    \n",
            "                                                                 \n",
            " batch_normalization_34 (Bat  (None, 128)              512       \n",
            " chNormalization)                                                \n",
            "                                                                 \n",
            " dropout_10 (Dropout)        (None, 128)               0         \n",
            "                                                                 \n",
            " dense_16 (Dense)            (None, 128)               16512     \n",
            "                                                                 \n",
            " batch_normalization_35 (Bat  (None, 128)              512       \n",
            " chNormalization)                                                \n",
            "                                                                 \n",
            " dropout_11 (Dropout)        (None, 128)               0         \n",
            "                                                                 \n",
            " dense_17 (Dense)            (None, 5)                 645       \n",
            "                                                                 \n",
            "=================================================================\n",
            "Total params: 696,645\n",
            "Trainable params: 695,653\n",
            "Non-trainable params: 992\n",
            "_________________________________________________________________\n"
          ]
        }
      ]
    },
    {
      "cell_type": "markdown",
      "source": [
        "#### Train the Model"
      ],
      "metadata": {
        "id": "4p7Z6g31X29z"
      }
    },
    {
      "cell_type": "code",
      "source": [
        "print(\"Total Params:\", conv_3d4_model.count_params())\n",
        "history_model4=conv_3d4.train_model(conv_3d4_model,augment_data=True)"
      ],
      "metadata": {
        "id": "-UuzeGZUX3lS",
        "colab": {
          "base_uri": "https://localhost:8080/"
        },
        "outputId": "29dd253f-0e3f-4094-b139-26f50e79297c"
      },
      "execution_count": null,
      "outputs": [
        {
          "output_type": "stream",
          "name": "stderr",
          "text": [
            "WARNING:tensorflow:`period` argument is deprecated. Please use `save_freq` to specify the frequency in number of batches seen.\n"
          ]
        },
        {
          "output_type": "stream",
          "name": "stdout",
          "text": [
            "Total Params: 696645\n",
            "Source path =  Project_data/train ; batch size = 20\n",
            "Epoch 1/30\n",
            "34/34 [==============================] - ETA: 0s - loss: 2.0105 - categorical_accuracy: 0.3009Source path =  Project_data/val ; batch size = 20\n",
            "\n",
            "Epoch 1: saving model to model_init_2022-09-1412_29_03.220393/model-00001-2.01050-0.30090-1.93392-0.16000.h5\n",
            "34/34 [==============================] - 86s 3s/step - loss: 2.0105 - categorical_accuracy: 0.3009 - val_loss: 1.9339 - val_categorical_accuracy: 0.1600 - lr: 2.0000e-04\n",
            "Epoch 2/30\n",
            "34/34 [==============================] - ETA: 0s - loss: 1.4562 - categorical_accuracy: 0.4593\n",
            "Epoch 2: saving model to model_init_2022-09-1412_29_03.220393/model-00002-1.45617-0.45928-2.84293-0.16000.h5\n",
            "34/34 [==============================] - 78s 2s/step - loss: 1.4562 - categorical_accuracy: 0.4593 - val_loss: 2.8429 - val_categorical_accuracy: 0.1600 - lr: 2.0000e-04\n",
            "Epoch 3/30\n",
            "34/34 [==============================] - ETA: 0s - loss: 1.1568 - categorical_accuracy: 0.5603\n",
            "Epoch 3: saving model to model_init_2022-09-1412_29_03.220393/model-00003-1.15684-0.56033-3.28612-0.16000.h5\n",
            "34/34 [==============================] - 77s 2s/step - loss: 1.1568 - categorical_accuracy: 0.5603 - val_loss: 3.2861 - val_categorical_accuracy: 0.1600 - lr: 2.0000e-04\n",
            "Epoch 4/30\n",
            "34/34 [==============================] - ETA: 0s - loss: 1.0348 - categorical_accuracy: 0.6071\n",
            "Epoch 4: saving model to model_init_2022-09-1412_29_03.220393/model-00004-1.03478-0.60709-4.10829-0.12000.h5\n",
            "34/34 [==============================] - 78s 2s/step - loss: 1.0348 - categorical_accuracy: 0.6071 - val_loss: 4.1083 - val_categorical_accuracy: 0.1200 - lr: 2.0000e-04\n",
            "Epoch 5/30\n",
            "34/34 [==============================] - ETA: 0s - loss: 0.9067 - categorical_accuracy: 0.6637\n",
            "Epoch 5: saving model to model_init_2022-09-1412_29_03.220393/model-00005-0.90666-0.66365-4.97364-0.15000.h5\n",
            "\n",
            "Epoch 5: ReduceLROnPlateau reducing learning rate to 3.9999998989515007e-05.\n",
            "34/34 [==============================] - 77s 2s/step - loss: 0.9067 - categorical_accuracy: 0.6637 - val_loss: 4.9736 - val_categorical_accuracy: 0.1500 - lr: 2.0000e-04\n",
            "Epoch 6/30\n",
            "34/34 [==============================] - ETA: 0s - loss: 0.8104 - categorical_accuracy: 0.6923\n",
            "Epoch 6: saving model to model_init_2022-09-1412_29_03.220393/model-00006-0.81037-0.69231-5.47307-0.16000.h5\n",
            "34/34 [==============================] - 79s 2s/step - loss: 0.8104 - categorical_accuracy: 0.6923 - val_loss: 5.4731 - val_categorical_accuracy: 0.1600 - lr: 4.0000e-05\n",
            "Epoch 7/30\n",
            "34/34 [==============================] - ETA: 0s - loss: 0.7980 - categorical_accuracy: 0.6893\n",
            "Epoch 7: saving model to model_init_2022-09-1412_29_03.220393/model-00007-0.79798-0.68929-6.08253-0.15000.h5\n",
            "34/34 [==============================] - 78s 2s/step - loss: 0.7980 - categorical_accuracy: 0.6893 - val_loss: 6.0825 - val_categorical_accuracy: 0.1500 - lr: 4.0000e-05\n",
            "Epoch 8/30\n",
            "34/34 [==============================] - ETA: 0s - loss: 0.7276 - categorical_accuracy: 0.7262\n",
            "Epoch 8: saving model to model_init_2022-09-1412_29_03.220393/model-00008-0.72763-0.72624-5.89490-0.18000.h5\n",
            "34/34 [==============================] - 78s 2s/step - loss: 0.7276 - categorical_accuracy: 0.7262 - val_loss: 5.8949 - val_categorical_accuracy: 0.1800 - lr: 4.0000e-05\n",
            "Epoch 9/30\n",
            "34/34 [==============================] - ETA: 0s - loss: 0.7205 - categorical_accuracy: 0.7376\n",
            "Epoch 9: saving model to model_init_2022-09-1412_29_03.220393/model-00009-0.72052-0.73756-5.97074-0.12000.h5\n",
            "\n",
            "Epoch 9: ReduceLROnPlateau reducing learning rate to 7.999999797903002e-06.\n",
            "34/34 [==============================] - 83s 3s/step - loss: 0.7205 - categorical_accuracy: 0.7376 - val_loss: 5.9707 - val_categorical_accuracy: 0.1200 - lr: 4.0000e-05\n",
            "Epoch 10/30\n",
            "34/34 [==============================] - ETA: 0s - loss: 0.7316 - categorical_accuracy: 0.7164\n",
            "Epoch 10: saving model to model_init_2022-09-1412_29_03.220393/model-00010-0.73158-0.71644-5.52901-0.19000.h5\n",
            "34/34 [==============================] - 80s 2s/step - loss: 0.7316 - categorical_accuracy: 0.7164 - val_loss: 5.5290 - val_categorical_accuracy: 0.1900 - lr: 8.0000e-06\n",
            "Epoch 11/30\n",
            "34/34 [==============================] - ETA: 0s - loss: 0.7378 - categorical_accuracy: 0.7127\n",
            "Epoch 11: saving model to model_init_2022-09-1412_29_03.220393/model-00011-0.73778-0.71267-4.98903-0.16000.h5\n",
            "34/34 [==============================] - 77s 2s/step - loss: 0.7378 - categorical_accuracy: 0.7127 - val_loss: 4.9890 - val_categorical_accuracy: 0.1600 - lr: 8.0000e-06\n",
            "Epoch 12/30\n",
            "34/34 [==============================] - ETA: 0s - loss: 0.7100 - categorical_accuracy: 0.7466\n",
            "Epoch 12: saving model to model_init_2022-09-1412_29_03.220393/model-00012-0.70995-0.74661-4.17390-0.14000.h5\n",
            "34/34 [==============================] - 96s 3s/step - loss: 0.7100 - categorical_accuracy: 0.7466 - val_loss: 4.1739 - val_categorical_accuracy: 0.1400 - lr: 8.0000e-06\n",
            "Epoch 13/30\n",
            "34/34 [==============================] - ETA: 0s - loss: 0.7005 - categorical_accuracy: 0.7368\n",
            "Epoch 13: saving model to model_init_2022-09-1412_29_03.220393/model-00013-0.70045-0.73680-3.68596-0.18000.h5\n",
            "\n",
            "Epoch 13: ReduceLROnPlateau reducing learning rate to 1.5999999959603884e-06.\n",
            "34/34 [==============================] - 87s 3s/step - loss: 0.7005 - categorical_accuracy: 0.7368 - val_loss: 3.6860 - val_categorical_accuracy: 0.1800 - lr: 8.0000e-06\n",
            "Epoch 14/30\n",
            "34/34 [==============================] - ETA: 0s - loss: 0.7159 - categorical_accuracy: 0.7383\n",
            "Epoch 14: saving model to model_init_2022-09-1412_29_03.220393/model-00014-0.71585-0.73831-2.85006-0.27000.h5\n",
            "34/34 [==============================] - 85s 3s/step - loss: 0.7159 - categorical_accuracy: 0.7383 - val_loss: 2.8501 - val_categorical_accuracy: 0.2700 - lr: 1.6000e-06\n",
            "Epoch 15/30\n",
            "34/34 [==============================] - ETA: 0s - loss: 0.6987 - categorical_accuracy: 0.7353\n",
            "Epoch 15: saving model to model_init_2022-09-1412_29_03.220393/model-00015-0.69872-0.73529-2.30936-0.24000.h5\n",
            "34/34 [==============================] - 85s 3s/step - loss: 0.6987 - categorical_accuracy: 0.7353 - val_loss: 2.3094 - val_categorical_accuracy: 0.2400 - lr: 1.6000e-06\n",
            "Epoch 16/30\n",
            "34/34 [==============================] - ETA: 0s - loss: 0.6588 - categorical_accuracy: 0.7541\n",
            "Epoch 16: saving model to model_init_2022-09-1412_29_03.220393/model-00016-0.65878-0.75415-1.91641-0.36000.h5\n",
            "34/34 [==============================] - 83s 3s/step - loss: 0.6588 - categorical_accuracy: 0.7541 - val_loss: 1.9164 - val_categorical_accuracy: 0.3600 - lr: 1.6000e-06\n",
            "Epoch 17/30\n",
            "34/34 [==============================] - ETA: 0s - loss: 0.6404 - categorical_accuracy: 0.7640\n",
            "Epoch 17: saving model to model_init_2022-09-1412_29_03.220393/model-00017-0.64036-0.76395-1.59647-0.42000.h5\n",
            "34/34 [==============================] - 86s 3s/step - loss: 0.6404 - categorical_accuracy: 0.7640 - val_loss: 1.5965 - val_categorical_accuracy: 0.4200 - lr: 1.6000e-06\n",
            "Epoch 18/30\n",
            "34/34 [==============================] - ETA: 0s - loss: 0.6712 - categorical_accuracy: 0.7594\n",
            "Epoch 18: saving model to model_init_2022-09-1412_29_03.220393/model-00018-0.67123-0.75943-1.44293-0.50000.h5\n",
            "34/34 [==============================] - 80s 2s/step - loss: 0.6712 - categorical_accuracy: 0.7594 - val_loss: 1.4429 - val_categorical_accuracy: 0.5000 - lr: 1.6000e-06\n",
            "Epoch 19/30\n",
            "34/34 [==============================] - ETA: 0s - loss: 0.7248 - categorical_accuracy: 0.7293\n",
            "Epoch 19: saving model to model_init_2022-09-1412_29_03.220393/model-00019-0.72479-0.72926-1.12962-0.57000.h5\n",
            "34/34 [==============================] - 76s 2s/step - loss: 0.7248 - categorical_accuracy: 0.7293 - val_loss: 1.1296 - val_categorical_accuracy: 0.5700 - lr: 1.6000e-06\n",
            "Epoch 20/30\n",
            "34/34 [==============================] - ETA: 0s - loss: 0.7072 - categorical_accuracy: 0.7376\n",
            "Epoch 20: saving model to model_init_2022-09-1412_29_03.220393/model-00020-0.70716-0.73756-1.05765-0.64000.h5\n",
            "34/34 [==============================] - 79s 2s/step - loss: 0.7072 - categorical_accuracy: 0.7376 - val_loss: 1.0577 - val_categorical_accuracy: 0.6400 - lr: 1.6000e-06\n",
            "Epoch 21/30\n",
            "34/34 [==============================] - ETA: 0s - loss: 0.6997 - categorical_accuracy: 0.7345\n",
            "Epoch 21: saving model to model_init_2022-09-1412_29_03.220393/model-00021-0.69967-0.73454-1.00715-0.66000.h5\n",
            "34/34 [==============================] - 77s 2s/step - loss: 0.6997 - categorical_accuracy: 0.7345 - val_loss: 1.0072 - val_categorical_accuracy: 0.6600 - lr: 1.6000e-06\n",
            "Epoch 22/30\n",
            "34/34 [==============================] - ETA: 0s - loss: 0.7018 - categorical_accuracy: 0.7504\n",
            "Epoch 22: saving model to model_init_2022-09-1412_29_03.220393/model-00022-0.70182-0.75038-1.01408-0.65000.h5\n",
            "34/34 [==============================] - 78s 2s/step - loss: 0.7018 - categorical_accuracy: 0.7504 - val_loss: 1.0141 - val_categorical_accuracy: 0.6500 - lr: 1.6000e-06\n",
            "Epoch 23/30\n",
            "34/34 [==============================] - ETA: 0s - loss: 0.7068 - categorical_accuracy: 0.7278\n",
            "Epoch 23: saving model to model_init_2022-09-1412_29_03.220393/model-00023-0.70684-0.72775-0.90404-0.72000.h5\n",
            "34/34 [==============================] - 77s 2s/step - loss: 0.7068 - categorical_accuracy: 0.7278 - val_loss: 0.9040 - val_categorical_accuracy: 0.7200 - lr: 1.6000e-06\n",
            "Epoch 24/30\n",
            "34/34 [==============================] - ETA: 0s - loss: 0.6980 - categorical_accuracy: 0.7436\n",
            "Epoch 24: saving model to model_init_2022-09-1412_29_03.220393/model-00024-0.69801-0.74359-0.91518-0.67000.h5\n",
            "34/34 [==============================] - 77s 2s/step - loss: 0.6980 - categorical_accuracy: 0.7436 - val_loss: 0.9152 - val_categorical_accuracy: 0.6700 - lr: 1.6000e-06\n",
            "Epoch 25/30\n",
            "34/34 [==============================] - ETA: 0s - loss: 0.6900 - categorical_accuracy: 0.7353\n",
            "Epoch 25: saving model to model_init_2022-09-1412_29_03.220393/model-00025-0.69001-0.73529-0.97216-0.71000.h5\n",
            "34/34 [==============================] - 77s 2s/step - loss: 0.6900 - categorical_accuracy: 0.7353 - val_loss: 0.9722 - val_categorical_accuracy: 0.7100 - lr: 1.6000e-06\n",
            "Epoch 26/30\n",
            "34/34 [==============================] - ETA: 0s - loss: 0.6854 - categorical_accuracy: 0.7451\n",
            "Epoch 26: saving model to model_init_2022-09-1412_29_03.220393/model-00026-0.68536-0.74510-0.91539-0.73000.h5\n",
            "34/34 [==============================] - 77s 2s/step - loss: 0.6854 - categorical_accuracy: 0.7451 - val_loss: 0.9154 - val_categorical_accuracy: 0.7300 - lr: 1.6000e-06\n",
            "Epoch 27/30\n",
            "34/34 [==============================] - ETA: 0s - loss: 0.6844 - categorical_accuracy: 0.7345\n",
            "Epoch 27: saving model to model_init_2022-09-1412_29_03.220393/model-00027-0.68442-0.73454-0.79569-0.77000.h5\n",
            "34/34 [==============================] - 78s 2s/step - loss: 0.6844 - categorical_accuracy: 0.7345 - val_loss: 0.7957 - val_categorical_accuracy: 0.7700 - lr: 1.6000e-06\n",
            "Epoch 28/30\n",
            "34/34 [==============================] - ETA: 0s - loss: 0.6776 - categorical_accuracy: 0.7421\n",
            "Epoch 28: saving model to model_init_2022-09-1412_29_03.220393/model-00028-0.67761-0.74208-1.04073-0.65000.h5\n",
            "34/34 [==============================] - 76s 2s/step - loss: 0.6776 - categorical_accuracy: 0.7421 - val_loss: 1.0407 - val_categorical_accuracy: 0.6500 - lr: 1.6000e-06\n",
            "Epoch 29/30\n",
            "34/34 [==============================] - ETA: 0s - loss: 0.7308 - categorical_accuracy: 0.7368\n",
            "Epoch 29: saving model to model_init_2022-09-1412_29_03.220393/model-00029-0.73083-0.73680-0.84235-0.76000.h5\n",
            "34/34 [==============================] - 77s 2s/step - loss: 0.7308 - categorical_accuracy: 0.7368 - val_loss: 0.8424 - val_categorical_accuracy: 0.7600 - lr: 1.6000e-06\n",
            "Epoch 30/30\n",
            "34/34 [==============================] - ETA: 0s - loss: 0.6428 - categorical_accuracy: 0.7685\n",
            "Epoch 30: saving model to model_init_2022-09-1412_29_03.220393/model-00030-0.64283-0.76848-0.91323-0.71000.h5\n",
            "34/34 [==============================] - 77s 2s/step - loss: 0.6428 - categorical_accuracy: 0.7685 - val_loss: 0.9132 - val_categorical_accuracy: 0.7100 - lr: 1.6000e-06\n"
          ]
        }
      ]
    },
    {
      "cell_type": "markdown",
      "source": [
        "#### Accuracy Plot"
      ],
      "metadata": {
        "id": "Hx0j4XPiX_36"
      }
    },
    {
      "cell_type": "code",
      "source": [
        "plot(history_model4)"
      ],
      "metadata": {
        "id": "-heMLYjRYCh7",
        "colab": {
          "base_uri": "https://localhost:8080/",
          "height": 269
        },
        "outputId": "803a2b9c-5aa5-4af5-95db-be0856fa2e97"
      },
      "execution_count": null,
      "outputs": [
        {
          "output_type": "display_data",
          "data": {
            "text/plain": [
              "<Figure size 1080x288 with 2 Axes>"
            ],
            "image/png": "[encoded data removed]"
          },
          "metadata": {
            "needs_background": "light"
          }
        }
      ]
    },
    {
      "cell_type": "markdown",
      "source": [
        "###**Model 5: Further Reducing the parameters for Conv3D**"
      ],
      "metadata": {
        "id": "lQxcLhHpYznH"
      }
    },
    {
      "cell_type": "markdown",
      "source": [
        "#### Define the Model"
      ],
      "metadata": {
        "id": "3jUXH4JGHG1H"
      }
    },
    {
      "cell_type": "code",
      "source": [
        "class ModelConv3D5(ModelBuilder):\n",
        "    \n",
        "    def define_model(self,dense_neurons=64,dropout=0.25):\n",
        "\n",
        "      # define the model\n",
        "        model = Sequential()\n",
        "        model.add(Conv3D(8, (3, 3, 3), padding='same',\n",
        "                 input_shape=(params.frames_to_sample,params.image_height,params.image_width,params.channels)))\n",
        "        model.add(Activation('relu'))\n",
        "        model.add(BatchNormalization())\n",
        "        model.add(MaxPooling3D(pool_size=(2, 2, 2)))\n",
        "\n",
        "        model.add(Conv3D(16, (3, 3, 3), padding='same'))\n",
        "        model.add(Activation('relu'))\n",
        "        model.add(BatchNormalization())\n",
        "        model.add(MaxPooling3D(pool_size=(2, 2, 2)))\n",
        "\n",
        "        model.add(Conv3D(32, (2, 2, 2), padding='same'))\n",
        "        model.add(Activation('relu'))\n",
        "        model.add(BatchNormalization())\n",
        "        model.add(MaxPooling3D(pool_size=(2, 2, 2)))\n",
        "\n",
        "        model.add(Conv3D(64, (2, 2, 2), padding='same'))\n",
        "        model.add(Activation('relu'))\n",
        "        model.add(BatchNormalization())\n",
        "        model.add(MaxPooling3D(pool_size=(2, 2, 2)))\n",
        "        \n",
        "        model.add(Flatten())\n",
        "        model.add(Dense(dense_neurons,activation='relu'))\n",
        "        model.add(BatchNormalization())\n",
        "        model.add(Dropout(dropout))\n",
        "\n",
        "        model.add(Dense(dense_neurons,activation='relu'))\n",
        "        model.add(BatchNormalization())\n",
        "        model.add(Dropout(dropout))\n",
        "\n",
        "        model.add(Dense(params.num_classes,activation='softmax'))\n",
        "\n",
        "      # compile the model\n",
        "        optimiser = tf.optimizers.Adam(lr=0.0002)\n",
        "        model.compile(optimizer=optimiser, loss='categorical_crossentropy', metrics=['categorical_accuracy'])\n",
        "        model.summary()\n",
        "        return model"
      ],
      "metadata": {
        "id": "6SWwFo3jHKjU"
      },
      "execution_count": null,
      "outputs": []
    },
    {
      "cell_type": "markdown",
      "source": [
        "#### Build the Model"
      ],
      "metadata": {
        "id": "4f-ro9lvHLUQ"
      }
    },
    {
      "cell_type": "code",
      "source": [
        "# set the parameters for the model\n",
        "params = InitParameters()\n",
        "params.initialize_path(project_folder)\n",
        "params.initialize_image_properties(image_height=120,image_width=120)\n",
        "params.initialize_hyperparams(frames_to_sample=16,batch_size=20,num_epochs=30)\n",
        "\n",
        "# model building\n",
        "conv_3d5=ModelConv3D5(params)\n",
        "conv_3d5_model=conv_3d5.define_model(dense_neurons=64,dropout=0.25)"
      ],
      "metadata": {
        "id": "UOTBBCDWHM21",
        "colab": {
          "base_uri": "https://localhost:8080/"
        },
        "outputId": "8c44aa42-7a65-42f9-85d5-92736855e282"
      },
      "execution_count": null,
      "outputs": [
        {
          "output_type": "stream",
          "name": "stdout",
          "text": [
            "Model: \"sequential_8\"\n",
            "_________________________________________________________________\n",
            " Layer (type)                Output Shape              Param #   \n",
            "=================================================================\n",
            " conv3d_32 (Conv3D)          (None, 16, 120, 120, 8)   656       \n",
            "                                                                 \n",
            " activation_32 (Activation)  (None, 16, 120, 120, 8)   0         \n",
            "                                                                 \n",
            " batch_normalization_48 (Bat  (None, 16, 120, 120, 8)  32        \n",
            " chNormalization)                                                \n",
            "                                                                 \n",
            " max_pooling3d_32 (MaxPoolin  (None, 8, 60, 60, 8)     0         \n",
            " g3D)                                                            \n",
            "                                                                 \n",
            " conv3d_33 (Conv3D)          (None, 8, 60, 60, 16)     3472      \n",
            "                                                                 \n",
            " activation_33 (Activation)  (None, 8, 60, 60, 16)     0         \n",
            "                                                                 \n",
            " batch_normalization_49 (Bat  (None, 8, 60, 60, 16)    64        \n",
            " chNormalization)                                                \n",
            "                                                                 \n",
            " max_pooling3d_33 (MaxPoolin  (None, 4, 30, 30, 16)    0         \n",
            " g3D)                                                            \n",
            "                                                                 \n",
            " conv3d_34 (Conv3D)          (None, 4, 30, 30, 32)     4128      \n",
            "                                                                 \n",
            " activation_34 (Activation)  (None, 4, 30, 30, 32)     0         \n",
            "                                                                 \n",
            " batch_normalization_50 (Bat  (None, 4, 30, 30, 32)    128       \n",
            " chNormalization)                                                \n",
            "                                                                 \n",
            " max_pooling3d_34 (MaxPoolin  (None, 2, 15, 15, 32)    0         \n",
            " g3D)                                                            \n",
            "                                                                 \n",
            " conv3d_35 (Conv3D)          (None, 2, 15, 15, 64)     16448     \n",
            "                                                                 \n",
            " activation_35 (Activation)  (None, 2, 15, 15, 64)     0         \n",
            "                                                                 \n",
            " batch_normalization_51 (Bat  (None, 2, 15, 15, 64)    256       \n",
            " chNormalization)                                                \n",
            "                                                                 \n",
            " max_pooling3d_35 (MaxPoolin  (None, 1, 7, 7, 64)      0         \n",
            " g3D)                                                            \n",
            "                                                                 \n",
            " flatten_8 (Flatten)         (None, 3136)              0         \n",
            "                                                                 \n",
            " dense_24 (Dense)            (None, 64)                200768    \n",
            "                                                                 \n",
            " batch_normalization_52 (Bat  (None, 64)               256       \n",
            " chNormalization)                                                \n",
            "                                                                 \n",
            " dropout_16 (Dropout)        (None, 64)                0         \n",
            "                                                                 \n",
            " dense_25 (Dense)            (None, 64)                4160      \n",
            "                                                                 \n",
            " batch_normalization_53 (Bat  (None, 64)               256       \n",
            " chNormalization)                                                \n",
            "                                                                 \n",
            " dropout_17 (Dropout)        (None, 64)                0         \n",
            "                                                                 \n",
            " dense_26 (Dense)            (None, 5)                 325       \n",
            "                                                                 \n",
            "=================================================================\n",
            "Total params: 230,949\n",
            "Trainable params: 230,453\n",
            "Non-trainable params: 496\n",
            "_________________________________________________________________\n"
          ]
        }
      ]
    },
    {
      "cell_type": "markdown",
      "source": [
        "#### Train the Model"
      ],
      "metadata": {
        "id": "hwbuefApHNJd"
      }
    },
    {
      "cell_type": "code",
      "source": [
        "print(\"Total Params:\", conv_3d5_model.count_params())\n",
        "history_model5=conv_3d5.train_model(conv_3d5_model,augment_data=True)"
      ],
      "metadata": {
        "id": "xElK9LESHV5p"
      },
      "execution_count": null,
      "outputs": []
    },
    {
      "cell_type": "markdown",
      "source": [
        "#### Accuracy Plot"
      ],
      "metadata": {
        "id": "fiO-NdKuHWOm"
      }
    },
    {
      "cell_type": "code",
      "source": [
        "plot(history_model5)"
      ],
      "metadata": {
        "id": "gSLaV_6FHXwX"
      },
      "execution_count": null,
      "outputs": []
    },
    {
      "cell_type": "markdown",
      "source": [
        "### **Model 6: CNN + LSTM**"
      ],
      "metadata": {
        "id": "SpXwi_XT85rt"
      }
    },
    {
      "cell_type": "markdown",
      "source": [
        "#### Define the Model"
      ],
      "metadata": {
        "id": "r3-hVPK1-Bfn"
      }
    },
    {
      "cell_type": "code",
      "source": [
        "class RNNCNN1(ModelBuilder):\n",
        "    \n",
        "    # define the model\n",
        "    def define_model(self,lstm_cells=64,dense_neurons=64,dropout=0.25):\n",
        "\n",
        "        model = Sequential()\n",
        "\n",
        "        model.add(TimeDistributed(Conv2D(16, (3, 3) , padding='same', activation='relu'),\n",
        "                                  input_shape=(params.frames_to_sample,params.image_height,params.image_width,params.channels)))\n",
        "        model.add(TimeDistributed(BatchNormalization()))\n",
        "        model.add(TimeDistributed(MaxPooling2D((2, 2))))\n",
        "        \n",
        "        model.add(TimeDistributed(Conv2D(32, (3, 3) , padding='same', activation='relu')))\n",
        "        model.add(TimeDistributed(BatchNormalization()))\n",
        "        model.add(TimeDistributed(MaxPooling2D((2, 2))))\n",
        "        \n",
        "        model.add(TimeDistributed(Conv2D(64, (3, 3) , padding='same', activation='relu')))\n",
        "        model.add(TimeDistributed(BatchNormalization()))\n",
        "        model.add(TimeDistributed(MaxPooling2D((2, 2))))\n",
        "        \n",
        "        model.add(TimeDistributed(Conv2D(128, (3, 3) , padding='same', activation='relu')))\n",
        "        model.add(TimeDistributed(BatchNormalization()))\n",
        "        model.add(TimeDistributed(MaxPooling2D((2, 2))))\n",
        "        \n",
        "        model.add(TimeDistributed(Conv2D(256, (3, 3) , padding='same', activation='relu')))\n",
        "        model.add(TimeDistributed(BatchNormalization()))\n",
        "        model.add(TimeDistributed(MaxPooling2D((2, 2))))\n",
        "\n",
        "        model.add(TimeDistributed(Flatten()))\n",
        "\n",
        "\n",
        "        model.add(LSTM(lstm_cells))\n",
        "        model.add(Dropout(dropout))\n",
        "        \n",
        "        model.add(Dense(dense_neurons,activation='relu'))\n",
        "        model.add(Dropout(dropout))\n",
        "        \n",
        "        model.add(Dense(params.num_classes, activation='softmax'))\n",
        "\n",
        "      # compile the model  \n",
        "        optimiser = tf.optimizers.Adam()\n",
        "        model.compile(optimizer=optimiser, loss='categorical_crossentropy', metrics=['categorical_accuracy'])\n",
        "        model.summary()\n",
        "        return model"
      ],
      "metadata": {
        "id": "ELoTMcOl8_Aw"
      },
      "execution_count": null,
      "outputs": []
    },
    {
      "cell_type": "markdown",
      "source": [
        "#### Build the Model"
      ],
      "metadata": {
        "id": "VHEupGhn98z0"
      }
    },
    {
      "cell_type": "code",
      "source": [
        "# set the parameters for the model\n",
        "params = InitParameters()\n",
        "params.initialize_path(project_folder)\n",
        "params.initialize_image_properties(image_height=120,image_width=120)\n",
        "params.initialize_hyperparams(frames_to_sample=18,batch_size=20,num_epochs=20)\n",
        "\n",
        "# model building\n",
        "rnn_cnn1=RNNCNN1(params)\n",
        "rnn_cnn1_model=rnn_cnn1.define_model(lstm_cells=128,dense_neurons=128,dropout=0.25)"
      ],
      "metadata": {
        "id": "BRTFY6I_-AA_",
        "colab": {
          "base_uri": "https://localhost:8080/"
        },
        "outputId": "83f90e11-b262-42d5-cbdb-0671dbbd1e38"
      },
      "execution_count": null,
      "outputs": [
        {
          "output_type": "stream",
          "name": "stdout",
          "text": [
            "Model: \"sequential_17\"\n",
            "_________________________________________________________________\n",
            " Layer (type)                Output Shape              Param #   \n",
            "=================================================================\n",
            " time_distributed_24 (TimeDi  (None, 18, 120, 120, 16)  448      \n",
            " stributed)                                                      \n",
            "                                                                 \n",
            " time_distributed_25 (TimeDi  (None, 18, 120, 120, 16)  64       \n",
            " stributed)                                                      \n",
            "                                                                 \n",
            " time_distributed_26 (TimeDi  (None, 18, 60, 60, 16)   0         \n",
            " stributed)                                                      \n",
            "                                                                 \n",
            " time_distributed_27 (TimeDi  (None, 18, 60, 60, 32)   4640      \n",
            " stributed)                                                      \n",
            "                                                                 \n",
            " time_distributed_28 (TimeDi  (None, 18, 60, 60, 32)   128       \n",
            " stributed)                                                      \n",
            "                                                                 \n",
            " time_distributed_29 (TimeDi  (None, 18, 30, 30, 32)   0         \n",
            " stributed)                                                      \n",
            "                                                                 \n",
            " time_distributed_30 (TimeDi  (None, 18, 30, 30, 64)   18496     \n",
            " stributed)                                                      \n",
            "                                                                 \n",
            " time_distributed_31 (TimeDi  (None, 18, 30, 30, 64)   256       \n",
            " stributed)                                                      \n",
            "                                                                 \n",
            " time_distributed_32 (TimeDi  (None, 18, 15, 15, 64)   0         \n",
            " stributed)                                                      \n",
            "                                                                 \n",
            " time_distributed_33 (TimeDi  (None, 18, 15, 15, 128)  73856     \n",
            " stributed)                                                      \n",
            "                                                                 \n",
            " time_distributed_34 (TimeDi  (None, 18, 15, 15, 128)  512       \n",
            " stributed)                                                      \n",
            "                                                                 \n",
            " time_distributed_35 (TimeDi  (None, 18, 7, 7, 128)    0         \n",
            " stributed)                                                      \n",
            "                                                                 \n",
            " time_distributed_36 (TimeDi  (None, 18, 7, 7, 256)    295168    \n",
            " stributed)                                                      \n",
            "                                                                 \n",
            " time_distributed_37 (TimeDi  (None, 18, 7, 7, 256)    1024      \n",
            " stributed)                                                      \n",
            "                                                                 \n",
            " time_distributed_38 (TimeDi  (None, 18, 3, 3, 256)    0         \n",
            " stributed)                                                      \n",
            "                                                                 \n",
            " time_distributed_39 (TimeDi  (None, 18, 2304)         0         \n",
            " stributed)                                                      \n",
            "                                                                 \n",
            " lstm_2 (LSTM)               (None, 128)               1245696   \n",
            "                                                                 \n",
            " dropout_34 (Dropout)        (None, 128)               0         \n",
            "                                                                 \n",
            " dense_48 (Dense)            (None, 128)               16512     \n",
            "                                                                 \n",
            " dropout_35 (Dropout)        (None, 128)               0         \n",
            "                                                                 \n",
            " dense_49 (Dense)            (None, 5)                 645       \n",
            "                                                                 \n",
            "=================================================================\n",
            "Total params: 1,657,445\n",
            "Trainable params: 1,656,453\n",
            "Non-trainable params: 992\n",
            "_________________________________________________________________\n"
          ]
        }
      ]
    },
    {
      "cell_type": "markdown",
      "source": [
        "Train the Model"
      ],
      "metadata": {
        "id": "Q3eX7YwXd5vI"
      }
    },
    {
      "cell_type": "code",
      "source": [
        "print(\"Total Params:\", rnn_cnn1_model.count_params())\n",
        "history_model6=rnn_cnn1.train_model(rnn_cnn1_model,augment_data=True)"
      ],
      "metadata": {
        "id": "ZiHfIfSA_Z2F",
        "colab": {
          "base_uri": "https://localhost:8080/"
        },
        "outputId": "ffa1085c-2c0b-4888-8949-b7753e8e37a1"
      },
      "execution_count": null,
      "outputs": [
        {
          "output_type": "stream",
          "name": "stderr",
          "text": [
            "WARNING:tensorflow:`period` argument is deprecated. Please use `save_freq` to specify the frequency in number of batches seen.\n"
          ]
        },
        {
          "output_type": "stream",
          "name": "stdout",
          "text": [
            "Total Params: 1657445\n",
            "Source path =  Project_data/train ; batch size = 20\n",
            "Epoch 1/20\n",
            "34/34 [==============================] - ETA: 0s - loss: 1.4691 - categorical_accuracy: 0.3401Source path =  Project_data/val ; batch size = 20\n",
            "\n",
            "Epoch 1: saving model to model_init_2022-09-1413_59_12.160240/model-00001-1.46914-0.34012-1.71034-0.20000.h5\n",
            "34/34 [==============================] - 103s 3s/step - loss: 1.4691 - categorical_accuracy: 0.3401 - val_loss: 1.7103 - val_categorical_accuracy: 0.2000 - lr: 0.0010\n",
            "Epoch 2/20\n",
            "34/34 [==============================] - ETA: 0s - loss: 1.2190 - categorical_accuracy: 0.4887\n",
            "Epoch 2: saving model to model_init_2022-09-1413_59_12.160240/model-00002-1.21897-0.48869-2.57384-0.23000.h5\n",
            "34/34 [==============================] - 93s 3s/step - loss: 1.2190 - categorical_accuracy: 0.4887 - val_loss: 2.5738 - val_categorical_accuracy: 0.2300 - lr: 0.0010\n",
            "Epoch 3/20\n",
            "34/34 [==============================] - ETA: 0s - loss: 1.1479 - categorical_accuracy: 0.5309\n",
            "Epoch 3: saving model to model_init_2022-09-1413_59_12.160240/model-00003-1.14786-0.53092-2.13700-0.18000.h5\n",
            "34/34 [==============================] - 94s 3s/step - loss: 1.1479 - categorical_accuracy: 0.5309 - val_loss: 2.1370 - val_categorical_accuracy: 0.1800 - lr: 0.0010\n",
            "Epoch 4/20\n",
            "34/34 [==============================] - ETA: 0s - loss: 1.0218 - categorical_accuracy: 0.5860\n",
            "Epoch 4: saving model to model_init_2022-09-1413_59_12.160240/model-00004-1.02182-0.58597-2.61177-0.13000.h5\n",
            "34/34 [==============================] - 92s 3s/step - loss: 1.0218 - categorical_accuracy: 0.5860 - val_loss: 2.6118 - val_categorical_accuracy: 0.1300 - lr: 0.0010\n",
            "Epoch 5/20\n",
            "34/34 [==============================] - ETA: 0s - loss: 0.9710 - categorical_accuracy: 0.6071\n",
            "Epoch 5: saving model to model_init_2022-09-1413_59_12.160240/model-00005-0.97102-0.60709-2.49318-0.17000.h5\n",
            "\n",
            "Epoch 5: ReduceLROnPlateau reducing learning rate to 0.00020000000949949026.\n",
            "34/34 [==============================] - 93s 3s/step - loss: 0.9710 - categorical_accuracy: 0.6071 - val_loss: 2.4932 - val_categorical_accuracy: 0.1700 - lr: 0.0010\n",
            "Epoch 6/20\n",
            "34/34 [==============================] - ETA: 0s - loss: 0.7956 - categorical_accuracy: 0.6953\n",
            "Epoch 6: saving model to model_init_2022-09-1413_59_12.160240/model-00006-0.79559-0.69532-2.49464-0.24000.h5\n",
            "34/34 [==============================] - 91s 3s/step - loss: 0.7956 - categorical_accuracy: 0.6953 - val_loss: 2.4946 - val_categorical_accuracy: 0.2400 - lr: 2.0000e-04\n",
            "Epoch 7/20\n",
            "34/34 [==============================] - ETA: 0s - loss: 0.7062 - categorical_accuracy: 0.7489\n",
            "Epoch 7: saving model to model_init_2022-09-1413_59_12.160240/model-00007-0.70617-0.74887-2.45250-0.18000.h5\n",
            "34/34 [==============================] - 92s 3s/step - loss: 0.7062 - categorical_accuracy: 0.7489 - val_loss: 2.4525 - val_categorical_accuracy: 0.1800 - lr: 2.0000e-04\n",
            "Epoch 8/20\n",
            "34/34 [==============================] - ETA: 0s - loss: 0.6538 - categorical_accuracy: 0.7511\n",
            "Epoch 8: saving model to model_init_2022-09-1413_59_12.160240/model-00008-0.65377-0.75113-2.70152-0.24000.h5\n",
            "34/34 [==============================] - 93s 3s/step - loss: 0.6538 - categorical_accuracy: 0.7511 - val_loss: 2.7015 - val_categorical_accuracy: 0.2400 - lr: 2.0000e-04\n",
            "Epoch 9/20\n",
            "34/34 [==============================] - ETA: 0s - loss: 0.5649 - categorical_accuracy: 0.7949\n",
            "Epoch 9: saving model to model_init_2022-09-1413_59_12.160240/model-00009-0.56494-0.79487-2.67345-0.26000.h5\n",
            "\n",
            "Epoch 9: ReduceLROnPlateau reducing learning rate to 4.0000001899898055e-05.\n",
            "34/34 [==============================] - 92s 3s/step - loss: 0.5649 - categorical_accuracy: 0.7949 - val_loss: 2.6735 - val_categorical_accuracy: 0.2600 - lr: 2.0000e-04\n",
            "Epoch 10/20\n",
            "34/34 [==============================] - ETA: 0s - loss: 0.5447 - categorical_accuracy: 0.8084\n",
            "Epoch 10: saving model to model_init_2022-09-1413_59_12.160240/model-00010-0.54471-0.80845-2.36377-0.34000.h5\n",
            "34/34 [==============================] - 93s 3s/step - loss: 0.5447 - categorical_accuracy: 0.8084 - val_loss: 2.3638 - val_categorical_accuracy: 0.3400 - lr: 4.0000e-05\n",
            "Epoch 11/20\n",
            "34/34 [==============================] - ETA: 0s - loss: 0.5010 - categorical_accuracy: 0.8273\n",
            "Epoch 11: saving model to model_init_2022-09-1413_59_12.160240/model-00011-0.50099-0.82730-2.35873-0.35000.h5\n",
            "34/34 [==============================] - 92s 3s/step - loss: 0.5010 - categorical_accuracy: 0.8273 - val_loss: 2.3587 - val_categorical_accuracy: 0.3500 - lr: 4.0000e-05\n",
            "Epoch 12/20\n",
            "34/34 [==============================] - ETA: 0s - loss: 0.4727 - categorical_accuracy: 0.8379\n",
            "Epoch 12: saving model to model_init_2022-09-1413_59_12.160240/model-00012-0.47273-0.83786-2.10783-0.42000.h5\n",
            "34/34 [==============================] - 92s 3s/step - loss: 0.4727 - categorical_accuracy: 0.8379 - val_loss: 2.1078 - val_categorical_accuracy: 0.4200 - lr: 4.0000e-05\n",
            "Epoch 13/20\n",
            "34/34 [==============================] - ETA: 0s - loss: 0.4665 - categorical_accuracy: 0.8401\n",
            "Epoch 13: saving model to model_init_2022-09-1413_59_12.160240/model-00013-0.46654-0.84012-2.11055-0.35000.h5\n",
            "\n",
            "Epoch 13: ReduceLROnPlateau reducing learning rate to 8.000000525498762e-06.\n",
            "34/34 [==============================] - 92s 3s/step - loss: 0.4665 - categorical_accuracy: 0.8401 - val_loss: 2.1106 - val_categorical_accuracy: 0.3500 - lr: 4.0000e-05\n",
            "Epoch 14/20\n",
            "34/34 [==============================] - ETA: 0s - loss: 0.4660 - categorical_accuracy: 0.8296\n",
            "Epoch 14: saving model to model_init_2022-09-1413_59_12.160240/model-00014-0.46596-0.82956-1.51001-0.47000.h5\n",
            "34/34 [==============================] - 92s 3s/step - loss: 0.4660 - categorical_accuracy: 0.8296 - val_loss: 1.5100 - val_categorical_accuracy: 0.4700 - lr: 8.0000e-06\n",
            "Epoch 15/20\n",
            "34/34 [==============================] - ETA: 0s - loss: 0.4682 - categorical_accuracy: 0.8348\n",
            "Epoch 15: saving model to model_init_2022-09-1413_59_12.160240/model-00015-0.46823-0.83484-1.33918-0.50000.h5\n",
            "34/34 [==============================] - 93s 3s/step - loss: 0.4682 - categorical_accuracy: 0.8348 - val_loss: 1.3392 - val_categorical_accuracy: 0.5000 - lr: 8.0000e-06\n",
            "Epoch 16/20\n",
            "34/34 [==============================] - ETA: 0s - loss: 0.4462 - categorical_accuracy: 0.8537\n",
            "Epoch 16: saving model to model_init_2022-09-1413_59_12.160240/model-00016-0.44616-0.85370-1.09322-0.55000.h5\n",
            "34/34 [==============================] - 91s 3s/step - loss: 0.4462 - categorical_accuracy: 0.8537 - val_loss: 1.0932 - val_categorical_accuracy: 0.5500 - lr: 8.0000e-06\n",
            "Epoch 17/20\n",
            "34/34 [==============================] - ETA: 0s - loss: 0.4700 - categorical_accuracy: 0.8371\n",
            "Epoch 17: saving model to model_init_2022-09-1413_59_12.160240/model-00017-0.46997-0.83710-1.05891-0.55000.h5\n",
            "34/34 [==============================] - 93s 3s/step - loss: 0.4700 - categorical_accuracy: 0.8371 - val_loss: 1.0589 - val_categorical_accuracy: 0.5500 - lr: 8.0000e-06\n",
            "Epoch 18/20\n",
            "34/34 [==============================] - ETA: 0s - loss: 0.4705 - categorical_accuracy: 0.8303\n",
            "Epoch 18: saving model to model_init_2022-09-1413_59_12.160240/model-00018-0.47048-0.83032-0.95313-0.66000.h5\n",
            "34/34 [==============================] - 92s 3s/step - loss: 0.4705 - categorical_accuracy: 0.8303 - val_loss: 0.9531 - val_categorical_accuracy: 0.6600 - lr: 8.0000e-06\n",
            "Epoch 19/20\n",
            "34/34 [==============================] - ETA: 0s - loss: 0.4536 - categorical_accuracy: 0.8477\n",
            "Epoch 19: saving model to model_init_2022-09-1413_59_12.160240/model-00019-0.45363-0.84766-0.73212-0.71000.h5\n",
            "34/34 [==============================] - 92s 3s/step - loss: 0.4536 - categorical_accuracy: 0.8477 - val_loss: 0.7321 - val_categorical_accuracy: 0.7100 - lr: 8.0000e-06\n",
            "Epoch 20/20\n",
            "34/34 [==============================] - ETA: 0s - loss: 0.4393 - categorical_accuracy: 0.8522\n",
            "Epoch 20: saving model to model_init_2022-09-1413_59_12.160240/model-00020-0.43932-0.85219-0.76039-0.68000.h5\n",
            "34/34 [==============================] - 91s 3s/step - loss: 0.4393 - categorical_accuracy: 0.8522 - val_loss: 0.7604 - val_categorical_accuracy: 0.6800 - lr: 8.0000e-06\n"
          ]
        }
      ]
    },
    {
      "cell_type": "markdown",
      "source": [
        "#### Accuracy Plot"
      ],
      "metadata": {
        "id": "Hnau30Xz_j0h"
      }
    },
    {
      "cell_type": "code",
      "source": [
        "plot(history_model6)"
      ],
      "metadata": {
        "id": "DIAi00uR_mW_",
        "colab": {
          "base_uri": "https://localhost:8080/",
          "height": 265
        },
        "outputId": "b52cd44c-0044-4825-f3ed-8470ef56cc40"
      },
      "execution_count": null,
      "outputs": [
        {
          "output_type": "display_data",
          "data": {
            "text/plain": [
              "<Figure size 1080x288 with 2 Axes>"
            ],
            "image/png": "[encoded data removed]"
          },
          "metadata": {
            "needs_background": "light"
          }
        }
      ]
    },
    {
      "cell_type": "markdown",
      "source": [
        "### **Model 7: (3,3,3) Filter with 160x160 Image for CNN+LSTM**\n"
      ],
      "metadata": {
        "id": "x-81CSKKXSRr"
      }
    },
    {
      "cell_type": "markdown",
      "source": [
        "#### Define the Model"
      ],
      "metadata": {
        "id": "OsvELp0Q_E4y"
      }
    },
    {
      "cell_type": "code",
      "source": [
        "class ModelConv3DRNN7(ModelBuilder):\n",
        "    \n",
        "    def define_model(self,filtersize=(3,3,3),dense_neurons=64,dropout=0.25):\n",
        "       # define the model\n",
        "        model = Sequential()\n",
        "        model.add(Conv3D(16, filtersize, padding='same',\n",
        "                 input_shape=(params.frames_to_sample,params.image_height,params.image_width,params.channels)))\n",
        "        model.add(Activation('relu'))\n",
        "        model.add(BatchNormalization())\n",
        "        model.add(MaxPooling3D(pool_size=(2, 2, 2)))\n",
        "\n",
        "        model.add(Conv3D(32, filtersize, padding='same'))\n",
        "        model.add(Activation('relu'))\n",
        "        model.add(BatchNormalization())\n",
        "        model.add(MaxPooling3D(pool_size=(2, 2, 2)))\n",
        "\n",
        "        model.add(Conv3D(64, filtersize, padding='same'))\n",
        "        model.add(Activation('relu'))\n",
        "        model.add(BatchNormalization())\n",
        "        model.add(MaxPooling3D(pool_size=(2, 2, 2)))\n",
        "\n",
        "        model.add(Conv3D(128, filtersize, padding='same'))\n",
        "        model.add(Activation('relu'))\n",
        "        model.add(BatchNormalization())\n",
        "        model.add(MaxPooling3D(pool_size=(2, 2, 2)))\n",
        "\n",
        "        model.add(Flatten())\n",
        "        model.add(Dense(dense_neurons,activation='relu'))\n",
        "        model.add(BatchNormalization())\n",
        "        model.add(Dropout(dropout))\n",
        "\n",
        "        model.add(Dense(dense_neurons,activation='relu'))\n",
        "        model.add(BatchNormalization())\n",
        "        model.add(Dropout(dropout))\n",
        "\n",
        "\n",
        "        model.add(Dense(params.num_classes,activation='softmax'))\n",
        "\n",
        "      #compile the model\n",
        "        optimiser = tf.optimizers.Adam(lr=0.0002)\n",
        "        model.compile(optimizer=optimiser, loss='categorical_crossentropy', metrics=['categorical_accuracy'])\n",
        "        model.summary()\n",
        "        return model"
      ],
      "metadata": {
        "id": "0ojXi35r_G5_"
      },
      "execution_count": null,
      "outputs": []
    },
    {
      "cell_type": "markdown",
      "source": [
        "#### Build the Model"
      ],
      "metadata": {
        "id": "nfY3uEfg_E1e"
      }
    },
    {
      "cell_type": "code",
      "source": [
        "# parameter setting\n",
        "params = InitParameters()\n",
        "params.initialize_path(project_folder)\n",
        "params.initialize_image_properties(image_height=160,image_width=160)\n",
        "params.initialize_hyperparams(frames_to_sample=20,batch_size=20,num_epochs=30)\n",
        "\n",
        "#model building\n",
        "conv_rnn_7=ModelConv3DRNN7(params)\n",
        "conv_rnn_7_model=conv_rnn_7.define_model(dense_neurons=256,dropout=0.5)"
      ],
      "metadata": {
        "id": "KWGsicxY_uT0",
        "colab": {
          "base_uri": "https://localhost:8080/"
        },
        "outputId": "f274121e-a398-4df5-f9a3-8824e09e91af"
      },
      "execution_count": null,
      "outputs": [
        {
          "output_type": "stream",
          "name": "stdout",
          "text": [
            "Model: \"sequential_10\"\n",
            "_________________________________________________________________\n",
            " Layer (type)                Output Shape              Param #   \n",
            "=================================================================\n",
            " conv3d_36 (Conv3D)          (None, 20, 160, 160, 16)  1312      \n",
            "                                                                 \n",
            " activation_36 (Activation)  (None, 20, 160, 160, 16)  0         \n",
            "                                                                 \n",
            " batch_normalization_59 (Bat  (None, 20, 160, 160, 16)  64       \n",
            " chNormalization)                                                \n",
            "                                                                 \n",
            " max_pooling3d_36 (MaxPoolin  (None, 10, 80, 80, 16)   0         \n",
            " g3D)                                                            \n",
            "                                                                 \n",
            " conv3d_37 (Conv3D)          (None, 10, 80, 80, 32)    13856     \n",
            "                                                                 \n",
            " activation_37 (Activation)  (None, 10, 80, 80, 32)    0         \n",
            "                                                                 \n",
            " batch_normalization_60 (Bat  (None, 10, 80, 80, 32)   128       \n",
            " chNormalization)                                                \n",
            "                                                                 \n",
            " max_pooling3d_37 (MaxPoolin  (None, 5, 40, 40, 32)    0         \n",
            " g3D)                                                            \n",
            "                                                                 \n",
            " conv3d_38 (Conv3D)          (None, 5, 40, 40, 64)     55360     \n",
            "                                                                 \n",
            " activation_38 (Activation)  (None, 5, 40, 40, 64)     0         \n",
            "                                                                 \n",
            " batch_normalization_61 (Bat  (None, 5, 40, 40, 64)    256       \n",
            " chNormalization)                                                \n",
            "                                                                 \n",
            " max_pooling3d_38 (MaxPoolin  (None, 2, 20, 20, 64)    0         \n",
            " g3D)                                                            \n",
            "                                                                 \n",
            " conv3d_39 (Conv3D)          (None, 2, 20, 20, 128)    221312    \n",
            "                                                                 \n",
            " activation_39 (Activation)  (None, 2, 20, 20, 128)    0         \n",
            "                                                                 \n",
            " batch_normalization_62 (Bat  (None, 2, 20, 20, 128)   512       \n",
            " chNormalization)                                                \n",
            "                                                                 \n",
            " max_pooling3d_39 (MaxPoolin  (None, 1, 10, 10, 128)   0         \n",
            " g3D)                                                            \n",
            "                                                                 \n",
            " flatten_10 (Flatten)        (None, 12800)             0         \n",
            "                                                                 \n",
            " dense_29 (Dense)            (None, 256)               3277056   \n",
            "                                                                 \n",
            " batch_normalization_63 (Bat  (None, 256)              1024      \n",
            " chNormalization)                                                \n",
            "                                                                 \n",
            " dropout_20 (Dropout)        (None, 256)               0         \n",
            "                                                                 \n",
            " dense_30 (Dense)            (None, 256)               65792     \n",
            "                                                                 \n",
            " batch_normalization_64 (Bat  (None, 256)              1024      \n",
            " chNormalization)                                                \n",
            "                                                                 \n",
            " dropout_21 (Dropout)        (None, 256)               0         \n",
            "                                                                 \n",
            " dense_31 (Dense)            (None, 5)                 1285      \n",
            "                                                                 \n",
            "=================================================================\n",
            "Total params: 3,638,981\n",
            "Trainable params: 3,637,477\n",
            "Non-trainable params: 1,504\n",
            "_________________________________________________________________\n"
          ]
        }
      ]
    },
    {
      "cell_type": "markdown",
      "source": [
        "#### Train the Model"
      ],
      "metadata": {
        "id": "fR6CJU8eAg2t"
      }
    },
    {
      "cell_type": "code",
      "source": [
        "print(\"Total Params:\", conv_rnn_7_model.count_params())\n",
        "history_model7=conv_rnn_7.train_model(conv_rnn_7_model,augment_data=True)"
      ],
      "metadata": {
        "id": "xHq8hqt5_EQP"
      },
      "execution_count": null,
      "outputs": []
    },
    {
      "cell_type": "markdown",
      "source": [
        "#### Accuracy Plot"
      ],
      "metadata": {
        "id": "gcHap1anApSl"
      }
    },
    {
      "cell_type": "code",
      "source": [
        "plot(history_model7)"
      ],
      "metadata": {
        "id": "0Q2sxtkrAq7A"
      },
      "execution_count": null,
      "outputs": []
    },
    {
      "cell_type": "markdown",
      "source": [
        "### **Model 8: (2,2,2) Filter with 120x120 Image for CNN+LSTM**"
      ],
      "metadata": {
        "id": "qCeWxg3Q-K_1"
      }
    },
    {
      "cell_type": "markdown",
      "source": [
        "#### Define the Model"
      ],
      "metadata": {
        "id": "S4Cwvy-nBTwq"
      }
    },
    {
      "cell_type": "code",
      "source": [
        "class ModelConv3DRNN8(ModelBuilder):\n",
        "    \n",
        "    def define_model(self,filtersize=(3,3,3),dense_neurons=64,dropout=0.25):\n",
        "      # define the model\n",
        "        model = Sequential()\n",
        "        model.add(Conv3D(16, filtersize, padding='same',\n",
        "                 input_shape=(params.frames_to_sample,params.image_height,params.image_width,params.channels)))\n",
        "        model.add(Activation('relu'))\n",
        "        model.add(BatchNormalization())\n",
        "        model.add(MaxPooling3D(pool_size=(2, 2, 2)))\n",
        "\n",
        "        model.add(Conv3D(32, filtersize, padding='same'))\n",
        "        model.add(Activation('relu'))\n",
        "        model.add(BatchNormalization())\n",
        "        model.add(MaxPooling3D(pool_size=(2, 2, 2)))\n",
        "\n",
        "        model.add(Conv3D(64, filtersize, padding='same'))\n",
        "        model.add(Activation('relu'))\n",
        "        model.add(BatchNormalization())\n",
        "        model.add(MaxPooling3D(pool_size=(2, 2, 2)))\n",
        "\n",
        "        model.add(Conv3D(128, filtersize, padding='same'))\n",
        "        model.add(Activation('relu'))\n",
        "        model.add(BatchNormalization())\n",
        "        model.add(MaxPooling3D(pool_size=(2, 2, 2)))\n",
        "\n",
        "        model.add(Flatten())\n",
        "        model.add(Dense(dense_neurons,activation='relu'))\n",
        "        model.add(BatchNormalization())\n",
        "        model.add(Dropout(dropout))\n",
        "\n",
        "        model.add(Dense(dense_neurons,activation='relu'))\n",
        "        model.add(BatchNormalization())\n",
        "        model.add(Dropout(dropout))\n",
        "\n",
        "\n",
        "        model.add(Dense(params.num_classes,activation='softmax'))\n",
        "\n",
        "      # compile the model\n",
        "        optimiser = tf.optimizers.Adam(lr=0.0002)\n",
        "        model.compile(optimizer=optimiser, loss='categorical_crossentropy', metrics=['categorical_accuracy'])\n",
        "        model.summary()\n",
        "        return model"
      ],
      "metadata": {
        "id": "5viBSjAEBVi9"
      },
      "execution_count": null,
      "outputs": []
    },
    {
      "cell_type": "markdown",
      "source": [
        "#### Build the Model"
      ],
      "metadata": {
        "id": "jVdkQtc3BWE9"
      }
    },
    {
      "cell_type": "code",
      "source": [
        "# parameter setting\n",
        "params = InitParameters()\n",
        "params.initialize_path(project_folder)\n",
        "params.initialize_image_properties(image_height=120,image_width=120)\n",
        "params.initialize_hyperparams(frames_to_sample=16,batch_size=20,num_epochs=30)\n",
        "\n",
        "#model building\n",
        "conv_rnn_8=ModelConv3DRNN8(params)\n",
        "conv_rnn_8_model=conv_rnn_8.define_model(filtersize=(2,2,2),dense_neurons=256,dropout=0.5)\n"
      ],
      "metadata": {
        "id": "MD00laBABYPT",
        "colab": {
          "base_uri": "https://localhost:8080/"
        },
        "outputId": "6cc1feda-3af8-4fd7-a3f4-b77c9ea66650"
      },
      "execution_count": null,
      "outputs": [
        {
          "output_type": "stream",
          "name": "stdout",
          "text": [
            "Model: \"sequential_11\"\n",
            "_________________________________________________________________\n",
            " Layer (type)                Output Shape              Param #   \n",
            "=================================================================\n",
            " conv3d_40 (Conv3D)          (None, 16, 120, 120, 16)  400       \n",
            "                                                                 \n",
            " activation_40 (Activation)  (None, 16, 120, 120, 16)  0         \n",
            "                                                                 \n",
            " batch_normalization_65 (Bat  (None, 16, 120, 120, 16)  64       \n",
            " chNormalization)                                                \n",
            "                                                                 \n",
            " max_pooling3d_40 (MaxPoolin  (None, 8, 60, 60, 16)    0         \n",
            " g3D)                                                            \n",
            "                                                                 \n",
            " conv3d_41 (Conv3D)          (None, 8, 60, 60, 32)     4128      \n",
            "                                                                 \n",
            " activation_41 (Activation)  (None, 8, 60, 60, 32)     0         \n",
            "                                                                 \n",
            " batch_normalization_66 (Bat  (None, 8, 60, 60, 32)    128       \n",
            " chNormalization)                                                \n",
            "                                                                 \n",
            " max_pooling3d_41 (MaxPoolin  (None, 4, 30, 30, 32)    0         \n",
            " g3D)                                                            \n",
            "                                                                 \n",
            " conv3d_42 (Conv3D)          (None, 4, 30, 30, 64)     16448     \n",
            "                                                                 \n",
            " activation_42 (Activation)  (None, 4, 30, 30, 64)     0         \n",
            "                                                                 \n",
            " batch_normalization_67 (Bat  (None, 4, 30, 30, 64)    256       \n",
            " chNormalization)                                                \n",
            "                                                                 \n",
            " max_pooling3d_42 (MaxPoolin  (None, 2, 15, 15, 64)    0         \n",
            " g3D)                                                            \n",
            "                                                                 \n",
            " conv3d_43 (Conv3D)          (None, 2, 15, 15, 128)    65664     \n",
            "                                                                 \n",
            " activation_43 (Activation)  (None, 2, 15, 15, 128)    0         \n",
            "                                                                 \n",
            " batch_normalization_68 (Bat  (None, 2, 15, 15, 128)   512       \n",
            " chNormalization)                                                \n",
            "                                                                 \n",
            " max_pooling3d_43 (MaxPoolin  (None, 1, 7, 7, 128)     0         \n",
            " g3D)                                                            \n",
            "                                                                 \n",
            " flatten_11 (Flatten)        (None, 6272)              0         \n",
            "                                                                 \n",
            " dense_32 (Dense)            (None, 256)               1605888   \n",
            "                                                                 \n",
            " batch_normalization_69 (Bat  (None, 256)              1024      \n",
            " chNormalization)                                                \n",
            "                                                                 \n",
            " dropout_22 (Dropout)        (None, 256)               0         \n",
            "                                                                 \n",
            " dense_33 (Dense)            (None, 256)               65792     \n",
            "                                                                 \n",
            " batch_normalization_70 (Bat  (None, 256)              1024      \n",
            " chNormalization)                                                \n",
            "                                                                 \n",
            " dropout_23 (Dropout)        (None, 256)               0         \n",
            "                                                                 \n",
            " dense_34 (Dense)            (None, 5)                 1285      \n",
            "                                                                 \n",
            "=================================================================\n",
            "Total params: 1,762,613\n",
            "Trainable params: 1,761,109\n",
            "Non-trainable params: 1,504\n",
            "_________________________________________________________________\n"
          ]
        }
      ]
    },
    {
      "cell_type": "markdown",
      "source": [
        "#### Train the Model"
      ],
      "metadata": {
        "id": "DVcZ2BU6BY8L"
      }
    },
    {
      "cell_type": "code",
      "source": [
        "print(\"Total Params:\", conv_rnn_8_model.count_params())\n",
        "history_model8=conv_rnn_8.train_model(conv_rnn_8_model,augment_data=True)"
      ],
      "metadata": {
        "id": "a3V5LlH1Baq7"
      },
      "execution_count": null,
      "outputs": []
    },
    {
      "cell_type": "markdown",
      "source": [
        "#### Accuracy Plot"
      ],
      "metadata": {
        "id": "OkwO97KABbB-"
      }
    },
    {
      "cell_type": "code",
      "source": [
        "plot(history_model8)"
      ],
      "metadata": {
        "id": "gcPL_iOdEoN-"
      },
      "execution_count": null,
      "outputs": []
    },
    {
      "cell_type": "markdown",
      "source": [
        "### **Model 9: Reducing the parameters for CNN+LSTM**"
      ],
      "metadata": {
        "id": "Jveh5UZaaGt4"
      }
    },
    {
      "cell_type": "markdown",
      "source": [
        "#### Define the Model"
      ],
      "metadata": {
        "id": "KTivtCdBaPP4"
      }
    },
    {
      "cell_type": "code",
      "source": [
        "class ModelConv3DRNN9(ModelBuilder):\n",
        "    # define the model\n",
        "    def define_model(self,dense_neurons=64,dropout=0.25):\n",
        "\n",
        "        model = Sequential()\n",
        "        model.add(Conv3D(16, (3, 3, 3), padding='same',\n",
        "                 input_shape=(params.frames_to_sample,params.image_height,params.image_width,params.channels)))\n",
        "        model.add(Activation('relu'))\n",
        "        model.add(BatchNormalization())\n",
        "        model.add(MaxPooling3D(pool_size=(2, 2, 2)))\n",
        "\n",
        "        model.add(Conv3D(32, (2, 2, 2), padding='same'))\n",
        "        model.add(Activation('relu'))\n",
        "        model.add(BatchNormalization())\n",
        "        model.add(MaxPooling3D(pool_size=(2, 2, 2)))\n",
        "\n",
        "        model.add(Conv3D(64, (2, 2, 2), padding='same'))\n",
        "        model.add(Activation('relu'))\n",
        "        model.add(BatchNormalization())\n",
        "        model.add(MaxPooling3D(pool_size=(2, 2, 2)))\n",
        "\n",
        "        model.add(Conv3D(128, (2, 2, 2), padding='same'))\n",
        "        model.add(Activation('relu'))\n",
        "        model.add(BatchNormalization())\n",
        "        model.add(MaxPooling3D(pool_size=(2, 2, 2)))\n",
        "        \n",
        "        model.add(Flatten())\n",
        "        model.add(Dense(dense_neurons,activation='relu'))\n",
        "        model.add(BatchNormalization())\n",
        "        model.add(Dropout(dropout))\n",
        "\n",
        "        model.add(Dense(dense_neurons,activation='relu'))\n",
        "        model.add(BatchNormalization())\n",
        "        model.add(Dropout(dropout))\n",
        "\n",
        "        model.add(Dense(params.num_classes,activation='softmax'))\n",
        "\n",
        "      # compile the model\n",
        "        optimiser = tf.optimizers.Adam(lr=0.0002)\n",
        "        model.compile(optimizer=optimiser, loss='categorical_crossentropy', metrics=['categorical_accuracy'])\n",
        "        model.summary()\n",
        "        return model"
      ],
      "metadata": {
        "id": "FMQT_cLJaRKF"
      },
      "execution_count": null,
      "outputs": []
    },
    {
      "cell_type": "markdown",
      "source": [
        "#### Build the Model"
      ],
      "metadata": {
        "id": "7LUPQDyIaRq4"
      }
    },
    {
      "cell_type": "code",
      "source": [
        "# parameter setting\n",
        "params = InitParameters()\n",
        "params.initialize_path(project_folder)\n",
        "params.initialize_image_properties(image_height=100,image_width=100)\n",
        "params.initialize_hyperparams(frames_to_sample=16,batch_size=20,num_epochs=30)\n",
        "\n",
        "# model building\n",
        "conv_rnn_9=ModelConv3DRNN9(params)\n",
        "conv_rnn_9_model=conv_rnn_9.define_model(dense_neurons=128,dropout=0.25)"
      ],
      "metadata": {
        "id": "lqwh_frgaXfB",
        "colab": {
          "base_uri": "https://localhost:8080/"
        },
        "outputId": "f3ce0aaa-0c17-45f7-993a-4e8df92a4a52"
      },
      "execution_count": null,
      "outputs": [
        {
          "output_type": "stream",
          "name": "stdout",
          "text": [
            "Model: \"sequential_16\"\n",
            "_________________________________________________________________\n",
            " Layer (type)                Output Shape              Param #   \n",
            "=================================================================\n",
            " conv3d_52 (Conv3D)          (None, 16, 100, 100, 16)  1312      \n",
            "                                                                 \n",
            " activation_52 (Activation)  (None, 16, 100, 100, 16)  0         \n",
            "                                                                 \n",
            " batch_normalization_85 (Bat  (None, 16, 100, 100, 16)  64       \n",
            " chNormalization)                                                \n",
            "                                                                 \n",
            " max_pooling3d_52 (MaxPoolin  (None, 8, 50, 50, 16)    0         \n",
            " g3D)                                                            \n",
            "                                                                 \n",
            " conv3d_53 (Conv3D)          (None, 8, 50, 50, 32)     4128      \n",
            "                                                                 \n",
            " activation_53 (Activation)  (None, 8, 50, 50, 32)     0         \n",
            "                                                                 \n",
            " batch_normalization_86 (Bat  (None, 8, 50, 50, 32)    128       \n",
            " chNormalization)                                                \n",
            "                                                                 \n",
            " max_pooling3d_53 (MaxPoolin  (None, 4, 25, 25, 32)    0         \n",
            " g3D)                                                            \n",
            "                                                                 \n",
            " conv3d_54 (Conv3D)          (None, 4, 25, 25, 64)     16448     \n",
            "                                                                 \n",
            " activation_54 (Activation)  (None, 4, 25, 25, 64)     0         \n",
            "                                                                 \n",
            " batch_normalization_87 (Bat  (None, 4, 25, 25, 64)    256       \n",
            " chNormalization)                                                \n",
            "                                                                 \n",
            " max_pooling3d_54 (MaxPoolin  (None, 2, 12, 12, 64)    0         \n",
            " g3D)                                                            \n",
            "                                                                 \n",
            " conv3d_55 (Conv3D)          (None, 2, 12, 12, 128)    65664     \n",
            "                                                                 \n",
            " activation_55 (Activation)  (None, 2, 12, 12, 128)    0         \n",
            "                                                                 \n",
            " batch_normalization_88 (Bat  (None, 2, 12, 12, 128)   512       \n",
            " chNormalization)                                                \n",
            "                                                                 \n",
            " max_pooling3d_55 (MaxPoolin  (None, 1, 6, 6, 128)     0         \n",
            " g3D)                                                            \n",
            "                                                                 \n",
            " flatten_16 (Flatten)        (None, 4608)              0         \n",
            "                                                                 \n",
            " dense_45 (Dense)            (None, 128)               589952    \n",
            "                                                                 \n",
            " batch_normalization_89 (Bat  (None, 128)              512       \n",
            " chNormalization)                                                \n",
            "                                                                 \n",
            " dropout_32 (Dropout)        (None, 128)               0         \n",
            "                                                                 \n",
            " dense_46 (Dense)            (None, 128)               16512     \n",
            "                                                                 \n",
            " batch_normalization_90 (Bat  (None, 128)              512       \n",
            " chNormalization)                                                \n",
            "                                                                 \n",
            " dropout_33 (Dropout)        (None, 128)               0         \n",
            "                                                                 \n",
            " dense_47 (Dense)            (None, 5)                 645       \n",
            "                                                                 \n",
            "=================================================================\n",
            "Total params: 696,645\n",
            "Trainable params: 695,653\n",
            "Non-trainable params: 992\n",
            "_________________________________________________________________\n"
          ]
        }
      ]
    },
    {
      "cell_type": "markdown",
      "source": [
        "#### Train the Model"
      ],
      "metadata": {
        "id": "d9dlBzMwak4m"
      }
    },
    {
      "cell_type": "code",
      "source": [
        "print(\"Total Params:\", conv_rnn_9_model.count_params())\n",
        "history_model9=conv_rnn_9.train_model(conv_rnn_9_model,augment_data=True)"
      ],
      "metadata": {
        "id": "iLWFKTUqabG-",
        "colab": {
          "base_uri": "https://localhost:8080/"
        },
        "outputId": "b0028d90-2256-4d13-eeab-f0419f1d111e"
      },
      "execution_count": null,
      "outputs": [
        {
          "output_type": "stream",
          "name": "stderr",
          "text": [
            "WARNING:tensorflow:`period` argument is deprecated. Please use `save_freq` to specify the frequency in number of batches seen.\n"
          ]
        },
        {
          "output_type": "stream",
          "name": "stdout",
          "text": [
            "Total Params: 696645\n",
            "Source path =  Project_data/train ; batch size = 20\n",
            "Epoch 1/30\n",
            "34/34 [==============================] - ETA: 0s - loss: 1.8650 - categorical_accuracy: 0.3175Source path =  Project_data/val ; batch size = 20\n",
            "\n",
            "Epoch 1: saving model to model_init_2022-09-1413_18_16.093241/model-00001-1.86503-0.31750-2.01711-0.16000.h5\n",
            "34/34 [==============================] - 78s 2s/step - loss: 1.8650 - categorical_accuracy: 0.3175 - val_loss: 2.0171 - val_categorical_accuracy: 0.1600 - lr: 2.0000e-04\n",
            "Epoch 2/30\n",
            "34/34 [==============================] - ETA: 0s - loss: 1.2545 - categorical_accuracy: 0.5370\n",
            "Epoch 2: saving model to model_init_2022-09-1413_18_16.093241/model-00002-1.25447-0.53695-2.79371-0.20000.h5\n",
            "34/34 [==============================] - 77s 2s/step - loss: 1.2545 - categorical_accuracy: 0.5370 - val_loss: 2.7937 - val_categorical_accuracy: 0.2000 - lr: 2.0000e-04\n",
            "Epoch 3/30\n",
            "34/34 [==============================] - ETA: 0s - loss: 1.0490 - categorical_accuracy: 0.6078\n",
            "Epoch 3: saving model to model_init_2022-09-1413_18_16.093241/model-00003-1.04900-0.60784-4.04585-0.15000.h5\n",
            "34/34 [==============================] - 77s 2s/step - loss: 1.0490 - categorical_accuracy: 0.6078 - val_loss: 4.0458 - val_categorical_accuracy: 0.1500 - lr: 2.0000e-04\n",
            "Epoch 4/30\n",
            "34/34 [==============================] - ETA: 0s - loss: 0.9661 - categorical_accuracy: 0.6373\n",
            "Epoch 4: saving model to model_init_2022-09-1413_18_16.093241/model-00004-0.96612-0.63725-4.90598-0.15000.h5\n",
            "34/34 [==============================] - 77s 2s/step - loss: 0.9661 - categorical_accuracy: 0.6373 - val_loss: 4.9060 - val_categorical_accuracy: 0.1500 - lr: 2.0000e-04\n",
            "Epoch 5/30\n",
            "34/34 [==============================] - ETA: 0s - loss: 0.7931 - categorical_accuracy: 0.7021\n",
            "Epoch 5: saving model to model_init_2022-09-1413_18_16.093241/model-00005-0.79306-0.70211-5.66993-0.15000.h5\n",
            "\n",
            "Epoch 5: ReduceLROnPlateau reducing learning rate to 3.9999998989515007e-05.\n",
            "34/34 [==============================] - 76s 2s/step - loss: 0.7931 - categorical_accuracy: 0.7021 - val_loss: 5.6699 - val_categorical_accuracy: 0.1500 - lr: 2.0000e-04\n",
            "Epoch 6/30\n",
            "34/34 [==============================] - ETA: 0s - loss: 0.6641 - categorical_accuracy: 0.7413\n",
            "Epoch 6: saving model to model_init_2022-09-1413_18_16.093241/model-00006-0.66409-0.74133-5.87355-0.18000.h5\n",
            "34/34 [==============================] - 79s 2s/step - loss: 0.6641 - categorical_accuracy: 0.7413 - val_loss: 5.8736 - val_categorical_accuracy: 0.1800 - lr: 4.0000e-05\n",
            "Epoch 7/30\n",
            "34/34 [==============================] - ETA: 0s - loss: 0.6617 - categorical_accuracy: 0.7504\n",
            "Epoch 7: saving model to model_init_2022-09-1413_18_16.093241/model-00007-0.66167-0.75038-6.18440-0.19000.h5\n",
            "34/34 [==============================] - 76s 2s/step - loss: 0.6617 - categorical_accuracy: 0.7504 - val_loss: 6.1844 - val_categorical_accuracy: 0.1900 - lr: 4.0000e-05\n",
            "Epoch 8/30\n",
            "34/34 [==============================] - ETA: 0s - loss: 0.6767 - categorical_accuracy: 0.7504\n",
            "Epoch 8: saving model to model_init_2022-09-1413_18_16.093241/model-00008-0.67673-0.75038-6.50461-0.20000.h5\n",
            "34/34 [==============================] - 77s 2s/step - loss: 0.6767 - categorical_accuracy: 0.7504 - val_loss: 6.5046 - val_categorical_accuracy: 0.2000 - lr: 4.0000e-05\n",
            "Epoch 9/30\n",
            "34/34 [==============================] - ETA: 0s - loss: 0.6075 - categorical_accuracy: 0.7851\n",
            "Epoch 9: saving model to model_init_2022-09-1413_18_16.093241/model-00009-0.60746-0.78507-7.01652-0.19000.h5\n",
            "\n",
            "Epoch 9: ReduceLROnPlateau reducing learning rate to 7.999999797903002e-06.\n",
            "34/34 [==============================] - 76s 2s/step - loss: 0.6075 - categorical_accuracy: 0.7851 - val_loss: 7.0165 - val_categorical_accuracy: 0.1900 - lr: 4.0000e-05\n",
            "Epoch 10/30\n",
            "34/34 [==============================] - ETA: 0s - loss: 0.6234 - categorical_accuracy: 0.7783\n",
            "Epoch 10: saving model to model_init_2022-09-1413_18_16.093241/model-00010-0.62337-0.77828-6.28077-0.19000.h5\n",
            "34/34 [==============================] - 77s 2s/step - loss: 0.6234 - categorical_accuracy: 0.7783 - val_loss: 6.2808 - val_categorical_accuracy: 0.1900 - lr: 8.0000e-06\n",
            "Epoch 11/30\n",
            "34/34 [==============================] - ETA: 0s - loss: 0.5980 - categorical_accuracy: 0.7745\n",
            "Epoch 11: saving model to model_init_2022-09-1413_18_16.093241/model-00011-0.59800-0.77451-5.93636-0.21000.h5\n",
            "34/34 [==============================] - 77s 2s/step - loss: 0.5980 - categorical_accuracy: 0.7745 - val_loss: 5.9364 - val_categorical_accuracy: 0.2100 - lr: 8.0000e-06\n",
            "Epoch 12/30\n",
            "34/34 [==============================] - ETA: 0s - loss: 0.5820 - categorical_accuracy: 0.7836\n",
            "Epoch 12: saving model to model_init_2022-09-1413_18_16.093241/model-00012-0.58203-0.78356-5.68503-0.17000.h5\n",
            "34/34 [==============================] - 77s 2s/step - loss: 0.5820 - categorical_accuracy: 0.7836 - val_loss: 5.6850 - val_categorical_accuracy: 0.1700 - lr: 8.0000e-06\n",
            "Epoch 13/30\n",
            "34/34 [==============================] - ETA: 0s - loss: 0.5560 - categorical_accuracy: 0.7881\n",
            "Epoch 13: saving model to model_init_2022-09-1413_18_16.093241/model-00013-0.55603-0.78808-4.42620-0.24000.h5\n",
            "\n",
            "Epoch 13: ReduceLROnPlateau reducing learning rate to 1.5999999959603884e-06.\n",
            "34/34 [==============================] - 77s 2s/step - loss: 0.5560 - categorical_accuracy: 0.7881 - val_loss: 4.4262 - val_categorical_accuracy: 0.2400 - lr: 8.0000e-06\n",
            "Epoch 14/30\n",
            "34/34 [==============================] - ETA: 0s - loss: 0.5598 - categorical_accuracy: 0.7843\n",
            "Epoch 14: saving model to model_init_2022-09-1413_18_16.093241/model-00014-0.55977-0.78431-4.11285-0.26000.h5\n",
            "34/34 [==============================] - 77s 2s/step - loss: 0.5598 - categorical_accuracy: 0.7843 - val_loss: 4.1128 - val_categorical_accuracy: 0.2600 - lr: 1.6000e-06\n",
            "Epoch 15/30\n",
            "34/34 [==============================] - ETA: 0s - loss: 0.5777 - categorical_accuracy: 0.7873\n",
            "Epoch 15: saving model to model_init_2022-09-1413_18_16.093241/model-00015-0.57775-0.78733-3.71802-0.26000.h5\n",
            "34/34 [==============================] - 77s 2s/step - loss: 0.5777 - categorical_accuracy: 0.7873 - val_loss: 3.7180 - val_categorical_accuracy: 0.2600 - lr: 1.6000e-06\n",
            "Epoch 16/30\n",
            "34/34 [==============================] - ETA: 0s - loss: 0.5590 - categorical_accuracy: 0.7866\n",
            "Epoch 16: saving model to model_init_2022-09-1413_18_16.093241/model-00016-0.55903-0.78658-2.65672-0.34000.h5\n",
            "34/34 [==============================] - 77s 2s/step - loss: 0.5590 - categorical_accuracy: 0.7866 - val_loss: 2.6567 - val_categorical_accuracy: 0.3400 - lr: 1.6000e-06\n",
            "Epoch 17/30\n",
            "34/34 [==============================] - ETA: 0s - loss: 0.6042 - categorical_accuracy: 0.7700\n",
            "Epoch 17: saving model to model_init_2022-09-1413_18_16.093241/model-00017-0.60417-0.76998-2.18596-0.34000.h5\n",
            "\n",
            "Epoch 17: ReduceLROnPlateau reducing learning rate to 3.200000037395512e-07.\n",
            "34/34 [==============================] - 77s 2s/step - loss: 0.6042 - categorical_accuracy: 0.7700 - val_loss: 2.1860 - val_categorical_accuracy: 0.3400 - lr: 1.6000e-06\n",
            "Epoch 18/30\n",
            "34/34 [==============================] - ETA: 0s - loss: 0.5813 - categorical_accuracy: 0.7911\n",
            "Epoch 18: saving model to model_init_2022-09-1413_18_16.093241/model-00018-0.58131-0.79110-1.74452-0.41000.h5\n",
            "34/34 [==============================] - 76s 2s/step - loss: 0.5813 - categorical_accuracy: 0.7911 - val_loss: 1.7445 - val_categorical_accuracy: 0.4100 - lr: 3.2000e-07\n",
            "Epoch 19/30\n",
            "34/34 [==============================] - ETA: 0s - loss: 0.6066 - categorical_accuracy: 0.7790\n",
            "Epoch 19: saving model to model_init_2022-09-1413_18_16.093241/model-00019-0.60657-0.77903-1.55072-0.53000.h5\n",
            "34/34 [==============================] - 78s 2s/step - loss: 0.6066 - categorical_accuracy: 0.7790 - val_loss: 1.5507 - val_categorical_accuracy: 0.5300 - lr: 3.2000e-07\n",
            "Epoch 20/30\n",
            "34/34 [==============================] - ETA: 0s - loss: 0.6065 - categorical_accuracy: 0.7745\n",
            "Epoch 20: saving model to model_init_2022-09-1413_18_16.093241/model-00020-0.60648-0.77451-1.28934-0.56000.h5\n",
            "34/34 [==============================] - 77s 2s/step - loss: 0.6065 - categorical_accuracy: 0.7745 - val_loss: 1.2893 - val_categorical_accuracy: 0.5600 - lr: 3.2000e-07\n",
            "Epoch 21/30\n",
            "34/34 [==============================] - ETA: 0s - loss: 0.5975 - categorical_accuracy: 0.7813\n",
            "Epoch 21: saving model to model_init_2022-09-1413_18_16.093241/model-00021-0.59754-0.78130-1.06568-0.65000.h5\n",
            "34/34 [==============================] - 77s 2s/step - loss: 0.5975 - categorical_accuracy: 0.7813 - val_loss: 1.0657 - val_categorical_accuracy: 0.6500 - lr: 3.2000e-07\n",
            "Epoch 22/30\n",
            "34/34 [==============================] - ETA: 0s - loss: 0.5948 - categorical_accuracy: 0.7738\n",
            "Epoch 22: saving model to model_init_2022-09-1413_18_16.093241/model-00022-0.59480-0.77376-1.02005-0.71000.h5\n",
            "34/34 [==============================] - 77s 2s/step - loss: 0.5948 - categorical_accuracy: 0.7738 - val_loss: 1.0201 - val_categorical_accuracy: 0.7100 - lr: 3.2000e-07\n",
            "Epoch 23/30\n",
            "34/34 [==============================] - ETA: 0s - loss: 0.5655 - categorical_accuracy: 0.7964\n",
            "Epoch 23: saving model to model_init_2022-09-1413_18_16.093241/model-00023-0.56549-0.79638-0.84228-0.73000.h5\n",
            "34/34 [==============================] - 77s 2s/step - loss: 0.5655 - categorical_accuracy: 0.7964 - val_loss: 0.8423 - val_categorical_accuracy: 0.7300 - lr: 3.2000e-07\n",
            "Epoch 24/30\n",
            "34/34 [==============================] - ETA: 0s - loss: 0.5904 - categorical_accuracy: 0.7858\n",
            "Epoch 24: saving model to model_init_2022-09-1413_18_16.093241/model-00024-0.59036-0.78582-0.87505-0.70000.h5\n",
            "34/34 [==============================] - 76s 2s/step - loss: 0.5904 - categorical_accuracy: 0.7858 - val_loss: 0.8751 - val_categorical_accuracy: 0.7000 - lr: 3.2000e-07\n",
            "Epoch 25/30\n",
            "34/34 [==============================] - ETA: 0s - loss: 0.6164 - categorical_accuracy: 0.7677\n",
            "Epoch 25: saving model to model_init_2022-09-1413_18_16.093241/model-00025-0.61644-0.76772-0.72274-0.74000.h5\n",
            "34/34 [==============================] - 77s 2s/step - loss: 0.6164 - categorical_accuracy: 0.7677 - val_loss: 0.7227 - val_categorical_accuracy: 0.7400 - lr: 3.2000e-07\n",
            "Epoch 26/30\n",
            "34/34 [==============================] - ETA: 0s - loss: 0.5785 - categorical_accuracy: 0.7821\n",
            "Epoch 26: saving model to model_init_2022-09-1413_18_16.093241/model-00026-0.57852-0.78205-0.82819-0.72000.h5\n",
            "34/34 [==============================] - 77s 2s/step - loss: 0.5785 - categorical_accuracy: 0.7821 - val_loss: 0.8282 - val_categorical_accuracy: 0.7200 - lr: 3.2000e-07\n",
            "Epoch 27/30\n",
            "34/34 [==============================] - ETA: 0s - loss: 0.5660 - categorical_accuracy: 0.8017\n",
            "Epoch 27: saving model to model_init_2022-09-1413_18_16.093241/model-00027-0.56600-0.80166-0.84937-0.71000.h5\n",
            "34/34 [==============================] - 78s 2s/step - loss: 0.5660 - categorical_accuracy: 0.8017 - val_loss: 0.8494 - val_categorical_accuracy: 0.7100 - lr: 3.2000e-07\n",
            "Epoch 28/30\n",
            "34/34 [==============================] - ETA: 0s - loss: 0.6130 - categorical_accuracy: 0.7624\n",
            "Epoch 28: saving model to model_init_2022-09-1413_18_16.093241/model-00028-0.61297-0.76244-0.86535-0.69000.h5\n",
            "34/34 [==============================] - 76s 2s/step - loss: 0.6130 - categorical_accuracy: 0.7624 - val_loss: 0.8653 - val_categorical_accuracy: 0.6900 - lr: 3.2000e-07\n",
            "Epoch 29/30\n",
            "34/34 [==============================] - ETA: 0s - loss: 0.5778 - categorical_accuracy: 0.7979\n",
            "Epoch 29: saving model to model_init_2022-09-1413_18_16.093241/model-00029-0.57782-0.79789-0.82648-0.72000.h5\n",
            "\n",
            "Epoch 29: ReduceLROnPlateau reducing learning rate to 6.399999961104187e-08.\n",
            "34/34 [==============================] - 76s 2s/step - loss: 0.5778 - categorical_accuracy: 0.7979 - val_loss: 0.8265 - val_categorical_accuracy: 0.7200 - lr: 3.2000e-07\n",
            "Epoch 30/30\n",
            "34/34 [==============================] - ETA: 0s - loss: 0.5793 - categorical_accuracy: 0.7926\n",
            "Epoch 30: saving model to model_init_2022-09-1413_18_16.093241/model-00030-0.57933-0.79261-0.77604-0.71000.h5\n",
            "34/34 [==============================] - 78s 2s/step - loss: 0.5793 - categorical_accuracy: 0.7926 - val_loss: 0.7760 - val_categorical_accuracy: 0.7100 - lr: 6.4000e-08\n"
          ]
        }
      ]
    },
    {
      "cell_type": "markdown",
      "source": [
        "#### Acccuracy Plot"
      ],
      "metadata": {
        "id": "gO7LtsPPabzh"
      }
    },
    {
      "cell_type": "code",
      "source": [
        "plot(history_model9)"
      ],
      "metadata": {
        "id": "tAWElBRvaeNI",
        "colab": {
          "base_uri": "https://localhost:8080/",
          "height": 265
        },
        "outputId": "a5d6b9a5-a47d-4260-cb69-a1a13f1660c5"
      },
      "execution_count": null,
      "outputs": [
        {
          "output_type": "display_data",
          "data": {
            "text/plain": [
              "<Figure size 1080x288 with 2 Axes>"
            ],
            "image/png": "[encoded data removed]"
          },
          "metadata": {
            "needs_background": "light"
          }
        }
      ]
    },
    {
      "cell_type": "markdown",
      "source": [
        "### **Model 10: Further reducing the parameters for CNN+LSTM**"
      ],
      "metadata": {
        "id": "taUBtt8hu_Ru"
      }
    },
    {
      "cell_type": "markdown",
      "source": [
        "#### Define th Model"
      ],
      "metadata": {
        "id": "hKfSEBPbvJLR"
      }
    },
    {
      "cell_type": "code",
      "source": [
        "class ModelConv3DRNN10(ModelBuilder):\n",
        "    \n",
        "    def define_model(self,dense_neurons=64,dropout=0.25):\n",
        "      # define the model\n",
        "        model = Sequential()\n",
        "        model.add(Conv3D(8, (3, 3, 3), padding='same',\n",
        "                 input_shape=(params.frames_to_sample,params.image_height,params.image_width,params.channels)))\n",
        "        model.add(Activation('relu'))\n",
        "        model.add(BatchNormalization())\n",
        "        model.add(MaxPooling3D(pool_size=(2, 2, 2)))\n",
        "\n",
        "        model.add(Conv3D(16, (3, 3, 3), padding='same'))\n",
        "        model.add(Activation('relu'))\n",
        "        model.add(BatchNormalization())\n",
        "        model.add(MaxPooling3D(pool_size=(2, 2, 2)))\n",
        "\n",
        "        model.add(Conv3D(32, (2, 2, 2), padding='same'))\n",
        "        model.add(Activation('relu'))\n",
        "        model.add(BatchNormalization())\n",
        "        model.add(MaxPooling3D(pool_size=(2, 2, 2)))\n",
        "\n",
        "        model.add(Conv3D(64, (2, 2, 2), padding='same'))\n",
        "        model.add(Activation('relu'))\n",
        "        model.add(BatchNormalization())\n",
        "        model.add(MaxPooling3D(pool_size=(2, 2, 2)))\n",
        "        \n",
        "        model.add(Flatten())\n",
        "        model.add(Dense(dense_neurons,activation='relu'))\n",
        "        model.add(BatchNormalization())\n",
        "        model.add(Dropout(dropout))\n",
        "\n",
        "        model.add(Dense(dense_neurons,activation='relu'))\n",
        "        model.add(BatchNormalization())\n",
        "        model.add(Dropout(dropout))\n",
        "\n",
        "        model.add(Dense(params.num_classes,activation='softmax'))\n",
        "\n",
        "       # compile the model\n",
        "        optimiser = tf.optimizers.Adam(lr=0.0002)\n",
        "        model.compile(optimizer=optimiser, loss='categorical_crossentropy', metrics=['categorical_accuracy'])\n",
        "        model.summary()\n",
        "        return model"
      ],
      "metadata": {
        "id": "FQgpdsjLvN7R"
      },
      "execution_count": null,
      "outputs": []
    },
    {
      "cell_type": "markdown",
      "source": [
        "#### Build the Model"
      ],
      "metadata": {
        "id": "tRyicc5nvd4w"
      }
    },
    {
      "cell_type": "code",
      "source": [
        "# parameter setting\n",
        "params = InitParameters()\n",
        "params.initialize_path(project_folder)\n",
        "params.initialize_image_properties(image_height=120,image_width=120)\n",
        "params.initialize_hyperparams(frames_to_sample=16,batch_size=20,num_epochs=30)\n",
        "\n",
        "# model building\n",
        "conv_rnn_10=ModelConv3DRNN10(params)\n",
        "conv_rnn_10_model=conv_rnn_10.define_model(dense_neurons=64,dropout=0.25)"
      ],
      "metadata": {
        "id": "LcCrTnSYbkVO",
        "colab": {
          "base_uri": "https://localhost:8080/"
        },
        "outputId": "ebe2306a-6671-4572-c073-04c1ab988c0b"
      },
      "execution_count": null,
      "outputs": [
        {
          "output_type": "stream",
          "name": "stdout",
          "text": [
            "Model: \"sequential_19\"\n",
            "_________________________________________________________________\n",
            " Layer (type)                Output Shape              Param #   \n",
            "=================================================================\n",
            " conv3d_60 (Conv3D)          (None, 16, 120, 120, 8)   656       \n",
            "                                                                 \n",
            " activation_60 (Activation)  (None, 16, 120, 120, 8)   0         \n",
            "                                                                 \n",
            " batch_normalization_102 (Ba  (None, 16, 120, 120, 8)  32        \n",
            " tchNormalization)                                               \n",
            "                                                                 \n",
            " max_pooling3d_60 (MaxPoolin  (None, 8, 60, 60, 8)     0         \n",
            " g3D)                                                            \n",
            "                                                                 \n",
            " conv3d_61 (Conv3D)          (None, 8, 60, 60, 16)     3472      \n",
            "                                                                 \n",
            " activation_61 (Activation)  (None, 8, 60, 60, 16)     0         \n",
            "                                                                 \n",
            " batch_normalization_103 (Ba  (None, 8, 60, 60, 16)    64        \n",
            " tchNormalization)                                               \n",
            "                                                                 \n",
            " max_pooling3d_61 (MaxPoolin  (None, 4, 30, 30, 16)    0         \n",
            " g3D)                                                            \n",
            "                                                                 \n",
            " conv3d_62 (Conv3D)          (None, 4, 30, 30, 32)     4128      \n",
            "                                                                 \n",
            " activation_62 (Activation)  (None, 4, 30, 30, 32)     0         \n",
            "                                                                 \n",
            " batch_normalization_104 (Ba  (None, 4, 30, 30, 32)    128       \n",
            " tchNormalization)                                               \n",
            "                                                                 \n",
            " max_pooling3d_62 (MaxPoolin  (None, 2, 15, 15, 32)    0         \n",
            " g3D)                                                            \n",
            "                                                                 \n",
            " conv3d_63 (Conv3D)          (None, 2, 15, 15, 64)     16448     \n",
            "                                                                 \n",
            " activation_63 (Activation)  (None, 2, 15, 15, 64)     0         \n",
            "                                                                 \n",
            " batch_normalization_105 (Ba  (None, 2, 15, 15, 64)    256       \n",
            " tchNormalization)                                               \n",
            "                                                                 \n",
            " max_pooling3d_63 (MaxPoolin  (None, 1, 7, 7, 64)      0         \n",
            " g3D)                                                            \n",
            "                                                                 \n",
            " flatten_19 (Flatten)        (None, 3136)              0         \n",
            "                                                                 \n",
            " dense_53 (Dense)            (None, 64)                200768    \n",
            "                                                                 \n",
            " batch_normalization_106 (Ba  (None, 64)               256       \n",
            " tchNormalization)                                               \n",
            "                                                                 \n",
            " dropout_38 (Dropout)        (None, 64)                0         \n",
            "                                                                 \n",
            " dense_54 (Dense)            (None, 64)                4160      \n",
            "                                                                 \n",
            " batch_normalization_107 (Ba  (None, 64)               256       \n",
            " tchNormalization)                                               \n",
            "                                                                 \n",
            " dropout_39 (Dropout)        (None, 64)                0         \n",
            "                                                                 \n",
            " dense_55 (Dense)            (None, 5)                 325       \n",
            "                                                                 \n",
            "=================================================================\n",
            "Total params: 230,949\n",
            "Trainable params: 230,453\n",
            "Non-trainable params: 496\n",
            "_________________________________________________________________\n"
          ]
        }
      ]
    },
    {
      "cell_type": "markdown",
      "source": [
        "#### Train the Model"
      ],
      "metadata": {
        "id": "69HyMGq49vn6"
      }
    },
    {
      "cell_type": "code",
      "source": [
        "print(\"Total Params:\", conv_rnn_10_model.count_params())\n",
        "history_model10=conv_rnn_10.train_model(conv_rnn_10_model,augment_data=True)"
      ],
      "metadata": {
        "id": "yLIfoSSH9ylV",
        "colab": {
          "base_uri": "https://localhost:8080/"
        },
        "outputId": "80f39625-b357-4932-8e93-06728bc64e3f"
      },
      "execution_count": null,
      "outputs": [
        {
          "output_type": "stream",
          "name": "stderr",
          "text": [
            "WARNING:tensorflow:`period` argument is deprecated. Please use `save_freq` to specify the frequency in number of batches seen.\n"
          ]
        },
        {
          "output_type": "stream",
          "name": "stdout",
          "text": [
            "Total Params: 230949\n",
            "Source path =  Project_data/train ; batch size = 20\n",
            "Epoch 1/30\n",
            "34/34 [==============================] - ETA: 0s - loss: 2.0404 - categorical_accuracy: 0.2707Source path =  Project_data/val ; batch size = 20\n",
            "\n",
            "Epoch 1: saving model to model_init_2022-09-1415_12_30.781934/model-00001-2.04042-0.27074-1.65022-0.16000.h5\n",
            "34/34 [==============================] - 82s 2s/step - loss: 2.0404 - categorical_accuracy: 0.2707 - val_loss: 1.6502 - val_categorical_accuracy: 0.1600 - lr: 2.0000e-04\n",
            "Epoch 2/30\n",
            "34/34 [==============================] - ETA: 0s - loss: 1.5021 - categorical_accuracy: 0.4321\n",
            "Epoch 2: saving model to model_init_2022-09-1415_12_30.781934/model-00002-1.50210-0.43213-1.94044-0.17000.h5\n",
            "34/34 [==============================] - 80s 2s/step - loss: 1.5021 - categorical_accuracy: 0.4321 - val_loss: 1.9404 - val_categorical_accuracy: 0.1700 - lr: 2.0000e-04\n",
            "Epoch 3/30\n",
            "34/34 [==============================] - ETA: 0s - loss: 1.2372 - categorical_accuracy: 0.5121\n",
            "Epoch 3: saving model to model_init_2022-09-1415_12_30.781934/model-00003-1.23722-0.51207-2.61676-0.14000.h5\n",
            "34/34 [==============================] - 81s 2s/step - loss: 1.2372 - categorical_accuracy: 0.5121 - val_loss: 2.6168 - val_categorical_accuracy: 0.1400 - lr: 2.0000e-04\n",
            "Epoch 4/30\n",
            "34/34 [==============================] - ETA: 0s - loss: 1.1379 - categorical_accuracy: 0.5611\n",
            "Epoch 4: saving model to model_init_2022-09-1415_12_30.781934/model-00004-1.13793-0.56109-3.13640-0.12000.h5\n",
            "34/34 [==============================] - 79s 2s/step - loss: 1.1379 - categorical_accuracy: 0.5611 - val_loss: 3.1364 - val_categorical_accuracy: 0.1200 - lr: 2.0000e-04\n",
            "Epoch 5/30\n",
            "34/34 [==============================] - ETA: 0s - loss: 1.0658 - categorical_accuracy: 0.5732\n",
            "Epoch 5: saving model to model_init_2022-09-1415_12_30.781934/model-00005-1.06577-0.57315-4.18831-0.19000.h5\n",
            "\n",
            "Epoch 5: ReduceLROnPlateau reducing learning rate to 3.9999998989515007e-05.\n",
            "34/34 [==============================] - 81s 2s/step - loss: 1.0658 - categorical_accuracy: 0.5732 - val_loss: 4.1883 - val_categorical_accuracy: 0.1900 - lr: 2.0000e-04\n",
            "Epoch 6/30\n",
            "34/34 [==============================] - ETA: 0s - loss: 0.9358 - categorical_accuracy: 0.6373\n",
            "Epoch 6: saving model to model_init_2022-09-1415_12_30.781934/model-00006-0.93583-0.63725-4.40561-0.21000.h5\n",
            "34/34 [==============================] - 80s 2s/step - loss: 0.9358 - categorical_accuracy: 0.6373 - val_loss: 4.4056 - val_categorical_accuracy: 0.2100 - lr: 4.0000e-05\n",
            "Epoch 7/30\n",
            "34/34 [==============================] - ETA: 0s - loss: 0.9446 - categorical_accuracy: 0.6267\n",
            "Epoch 7: saving model to model_init_2022-09-1415_12_30.781934/model-00007-0.94463-0.62670-4.50681-0.17000.h5\n",
            "34/34 [==============================] - 80s 2s/step - loss: 0.9446 - categorical_accuracy: 0.6267 - val_loss: 4.5068 - val_categorical_accuracy: 0.1700 - lr: 4.0000e-05\n",
            "Epoch 8/30\n",
            "34/34 [==============================] - ETA: 0s - loss: 0.9223 - categorical_accuracy: 0.6335\n",
            "Epoch 8: saving model to model_init_2022-09-1415_12_30.781934/model-00008-0.92235-0.63348-4.28498-0.26000.h5\n",
            "34/34 [==============================] - 80s 2s/step - loss: 0.9223 - categorical_accuracy: 0.6335 - val_loss: 4.2850 - val_categorical_accuracy: 0.2600 - lr: 4.0000e-05\n",
            "Epoch 9/30\n",
            "34/34 [==============================] - ETA: 0s - loss: 0.8886 - categorical_accuracy: 0.6584\n",
            "Epoch 9: saving model to model_init_2022-09-1415_12_30.781934/model-00009-0.88861-0.65837-4.36579-0.19000.h5\n",
            "\n",
            "Epoch 9: ReduceLROnPlateau reducing learning rate to 7.999999797903002e-06.\n",
            "34/34 [==============================] - 82s 2s/step - loss: 0.8886 - categorical_accuracy: 0.6584 - val_loss: 4.3658 - val_categorical_accuracy: 0.1900 - lr: 4.0000e-05\n",
            "Epoch 10/30\n",
            "34/34 [==============================] - ETA: 0s - loss: 0.8402 - categorical_accuracy: 0.6621\n",
            "Epoch 10: saving model to model_init_2022-09-1415_12_30.781934/model-00010-0.84016-0.66214-3.77752-0.26000.h5\n",
            "34/34 [==============================] - 80s 2s/step - loss: 0.8402 - categorical_accuracy: 0.6621 - val_loss: 3.7775 - val_categorical_accuracy: 0.2600 - lr: 8.0000e-06\n",
            "Epoch 11/30\n",
            "34/34 [==============================] - ETA: 0s - loss: 0.8491 - categorical_accuracy: 0.6584\n",
            "Epoch 11: saving model to model_init_2022-09-1415_12_30.781934/model-00011-0.84913-0.65837-3.56448-0.26000.h5\n",
            "34/34 [==============================] - 81s 2s/step - loss: 0.8491 - categorical_accuracy: 0.6584 - val_loss: 3.5645 - val_categorical_accuracy: 0.2600 - lr: 8.0000e-06\n",
            "Epoch 12/30\n",
            "34/34 [==============================] - ETA: 0s - loss: 0.8622 - categorical_accuracy: 0.6561\n",
            "Epoch 12: saving model to model_init_2022-09-1415_12_30.781934/model-00012-0.86223-0.65611-2.85735-0.33000.h5\n",
            "34/34 [==============================] - 80s 2s/step - loss: 0.8622 - categorical_accuracy: 0.6561 - val_loss: 2.8574 - val_categorical_accuracy: 0.3300 - lr: 8.0000e-06\n",
            "Epoch 13/30\n",
            "34/34 [==============================] - ETA: 0s - loss: 0.8388 - categorical_accuracy: 0.6606\n",
            "Epoch 13: saving model to model_init_2022-09-1415_12_30.781934/model-00013-0.83879-0.66063-2.97035-0.27000.h5\n",
            "\n",
            "Epoch 13: ReduceLROnPlateau reducing learning rate to 1.5999999959603884e-06.\n",
            "34/34 [==============================] - 80s 2s/step - loss: 0.8388 - categorical_accuracy: 0.6606 - val_loss: 2.9704 - val_categorical_accuracy: 0.2700 - lr: 8.0000e-06\n",
            "Epoch 14/30\n",
            "34/34 [==============================] - ETA: 0s - loss: 0.8299 - categorical_accuracy: 0.6908\n",
            "Epoch 14: saving model to model_init_2022-09-1415_12_30.781934/model-00014-0.82993-0.69080-2.26331-0.37000.h5\n",
            "34/34 [==============================] - 80s 2s/step - loss: 0.8299 - categorical_accuracy: 0.6908 - val_loss: 2.2633 - val_categorical_accuracy: 0.3700 - lr: 1.6000e-06\n",
            "Epoch 15/30\n",
            "34/34 [==============================] - ETA: 0s - loss: 0.8587 - categorical_accuracy: 0.6637\n",
            "Epoch 15: saving model to model_init_2022-09-1415_12_30.781934/model-00015-0.85869-0.66365-2.00150-0.39000.h5\n",
            "34/34 [==============================] - 79s 2s/step - loss: 0.8587 - categorical_accuracy: 0.6637 - val_loss: 2.0015 - val_categorical_accuracy: 0.3900 - lr: 1.6000e-06\n",
            "Epoch 16/30\n",
            "34/34 [==============================] - ETA: 0s - loss: 0.8686 - categorical_accuracy: 0.6637\n",
            "Epoch 16: saving model to model_init_2022-09-1415_12_30.781934/model-00016-0.86859-0.66365-1.83848-0.44000.h5\n",
            "34/34 [==============================] - 80s 2s/step - loss: 0.8686 - categorical_accuracy: 0.6637 - val_loss: 1.8385 - val_categorical_accuracy: 0.4400 - lr: 1.6000e-06\n",
            "Epoch 17/30\n",
            "34/34 [==============================] - ETA: 0s - loss: 0.8822 - categorical_accuracy: 0.6508\n",
            "Epoch 17: saving model to model_init_2022-09-1415_12_30.781934/model-00017-0.88218-0.65083-1.66975-0.46000.h5\n",
            "\n",
            "Epoch 17: ReduceLROnPlateau reducing learning rate to 3.200000037395512e-07.\n",
            "34/34 [==============================] - 81s 2s/step - loss: 0.8822 - categorical_accuracy: 0.6508 - val_loss: 1.6698 - val_categorical_accuracy: 0.4600 - lr: 1.6000e-06\n",
            "Epoch 18/30\n",
            "34/34 [==============================] - ETA: 0s - loss: 0.8311 - categorical_accuracy: 0.6916\n",
            "Epoch 18: saving model to model_init_2022-09-1415_12_30.781934/model-00018-0.83108-0.69155-1.23905-0.55000.h5\n",
            "34/34 [==============================] - 80s 2s/step - loss: 0.8311 - categorical_accuracy: 0.6916 - val_loss: 1.2391 - val_categorical_accuracy: 0.5500 - lr: 3.2000e-07\n",
            "Epoch 19/30\n",
            "34/34 [==============================] - ETA: 0s - loss: 0.8681 - categorical_accuracy: 0.6667\n",
            "Epoch 19: saving model to model_init_2022-09-1415_12_30.781934/model-00019-0.86814-0.66667-1.19280-0.60000.h5\n",
            "34/34 [==============================] - 82s 2s/step - loss: 0.8681 - categorical_accuracy: 0.6667 - val_loss: 1.1928 - val_categorical_accuracy: 0.6000 - lr: 3.2000e-07\n",
            "Epoch 20/30\n",
            "34/34 [==============================] - ETA: 0s - loss: 0.8691 - categorical_accuracy: 0.6606\n",
            "Epoch 20: saving model to model_init_2022-09-1415_12_30.781934/model-00020-0.86915-0.66063-1.19589-0.62000.h5\n",
            "34/34 [==============================] - 81s 2s/step - loss: 0.8691 - categorical_accuracy: 0.6606 - val_loss: 1.1959 - val_categorical_accuracy: 0.6200 - lr: 3.2000e-07\n",
            "Epoch 21/30\n",
            "34/34 [==============================] - ETA: 0s - loss: 0.8821 - categorical_accuracy: 0.6606\n",
            "Epoch 21: saving model to model_init_2022-09-1415_12_30.781934/model-00021-0.88206-0.66063-1.05312-0.62000.h5\n",
            "34/34 [==============================] - 80s 2s/step - loss: 0.8821 - categorical_accuracy: 0.6606 - val_loss: 1.0531 - val_categorical_accuracy: 0.6200 - lr: 3.2000e-07\n",
            "Epoch 22/30\n",
            "34/34 [==============================] - ETA: 0s - loss: 0.8242 - categorical_accuracy: 0.6900\n",
            "Epoch 22: saving model to model_init_2022-09-1415_12_30.781934/model-00022-0.82421-0.69005-1.06499-0.64000.h5\n",
            "34/34 [==============================] - 81s 2s/step - loss: 0.8242 - categorical_accuracy: 0.6900 - val_loss: 1.0650 - val_categorical_accuracy: 0.6400 - lr: 3.2000e-07\n",
            "Epoch 23/30\n",
            "34/34 [==============================] - ETA: 0s - loss: 0.8498 - categorical_accuracy: 0.6704\n",
            "Epoch 23: saving model to model_init_2022-09-1415_12_30.781934/model-00023-0.84976-0.67044-0.90274-0.63000.h5\n",
            "34/34 [==============================] - 81s 2s/step - loss: 0.8498 - categorical_accuracy: 0.6704 - val_loss: 0.9027 - val_categorical_accuracy: 0.6300 - lr: 3.2000e-07\n",
            "Epoch 24/30\n",
            "34/34 [==============================] - ETA: 0s - loss: 0.8296 - categorical_accuracy: 0.6697\n",
            "Epoch 24: saving model to model_init_2022-09-1415_12_30.781934/model-00024-0.82956-0.66968-0.93780-0.63000.h5\n",
            "34/34 [==============================] - 79s 2s/step - loss: 0.8296 - categorical_accuracy: 0.6697 - val_loss: 0.9378 - val_categorical_accuracy: 0.6300 - lr: 3.2000e-07\n",
            "Epoch 25/30\n",
            "34/34 [==============================] - ETA: 0s - loss: 0.8462 - categorical_accuracy: 0.6674\n",
            "Epoch 25: saving model to model_init_2022-09-1415_12_30.781934/model-00025-0.84616-0.66742-0.92035-0.58000.h5\n",
            "34/34 [==============================] - 81s 2s/step - loss: 0.8462 - categorical_accuracy: 0.6674 - val_loss: 0.9204 - val_categorical_accuracy: 0.5800 - lr: 3.2000e-07\n",
            "Epoch 26/30\n",
            "34/34 [==============================] - ETA: 0s - loss: 0.8611 - categorical_accuracy: 0.6637\n",
            "Epoch 26: saving model to model_init_2022-09-1415_12_30.781934/model-00026-0.86114-0.66365-0.92776-0.62000.h5\n",
            "34/34 [==============================] - 80s 2s/step - loss: 0.8611 - categorical_accuracy: 0.6637 - val_loss: 0.9278 - val_categorical_accuracy: 0.6200 - lr: 3.2000e-07\n",
            "Epoch 27/30\n",
            "34/34 [==============================] - ETA: 0s - loss: 0.8463 - categorical_accuracy: 0.6621\n",
            "Epoch 27: saving model to model_init_2022-09-1415_12_30.781934/model-00027-0.84634-0.66214-0.94110-0.62000.h5\n",
            "\n",
            "Epoch 27: ReduceLROnPlateau reducing learning rate to 6.399999961104187e-08.\n",
            "34/34 [==============================] - 81s 2s/step - loss: 0.8463 - categorical_accuracy: 0.6621 - val_loss: 0.9411 - val_categorical_accuracy: 0.6200 - lr: 3.2000e-07\n",
            "Epoch 28/30\n",
            "34/34 [==============================] - ETA: 0s - loss: 0.8324 - categorical_accuracy: 0.6863\n",
            "Epoch 28: saving model to model_init_2022-09-1415_12_30.781934/model-00028-0.83244-0.68627-0.84529-0.63000.h5\n",
            "34/34 [==============================] - 81s 2s/step - loss: 0.8324 - categorical_accuracy: 0.6863 - val_loss: 0.8453 - val_categorical_accuracy: 0.6300 - lr: 6.4000e-08\n",
            "Epoch 29/30\n",
            "34/34 [==============================] - ETA: 0s - loss: 0.8254 - categorical_accuracy: 0.6802\n",
            "Epoch 29: saving model to model_init_2022-09-1415_12_30.781934/model-00029-0.82535-0.68024-0.90620-0.65000.h5\n",
            "34/34 [==============================] - 80s 2s/step - loss: 0.8254 - categorical_accuracy: 0.6802 - val_loss: 0.9062 - val_categorical_accuracy: 0.6500 - lr: 6.4000e-08\n",
            "Epoch 30/30\n",
            "34/34 [==============================] - ETA: 0s - loss: 0.8388 - categorical_accuracy: 0.6561\n",
            "Epoch 30: saving model to model_init_2022-09-1415_12_30.781934/model-00030-0.83882-0.65611-0.94852-0.61000.h5\n",
            "34/34 [==============================] - 81s 2s/step - loss: 0.8388 - categorical_accuracy: 0.6561 - val_loss: 0.9485 - val_categorical_accuracy: 0.6100 - lr: 6.4000e-08\n"
          ]
        }
      ]
    },
    {
      "cell_type": "markdown",
      "source": [
        "#### Accuracy Plot"
      ],
      "metadata": {
        "id": "VsnWBoCz-BJ2"
      }
    },
    {
      "cell_type": "code",
      "source": [
        "plot(history_model10)"
      ],
      "metadata": {
        "id": "2h2c9X2u-Ct1",
        "colab": {
          "base_uri": "https://localhost:8080/",
          "height": 265
        },
        "outputId": "33a4bb82-75dc-46e9-f9a4-cd21d773e3d2"
      },
      "execution_count": null,
      "outputs": [
        {
          "output_type": "display_data",
          "data": {
            "text/plain": [
              "<Figure size 1080x288 with 2 Axes>"
            ],
            "image/png": "[encoded data removed]"
          },
          "metadata": {
            "needs_background": "light"
          }
        }
      ]
    },
    {
      "cell_type": "markdown",
      "source": [
        "### **Model 11: Transfer Learning**"
      ],
      "metadata": {
        "id": "0FSVtvtkcoUL"
      }
    },
    {
      "cell_type": "markdown",
      "source": [
        "MobileNet model is being used as it has less parameters as compared to Inception and Resnet models."
      ],
      "metadata": {
        "id": "7cmHDv62CX-_"
      }
    },
    {
      "cell_type": "code",
      "source": [
        "from keras.applications import mobilenet"
      ],
      "metadata": {
        "id": "pUfidPxTctRJ"
      },
      "execution_count": null,
      "outputs": []
    },
    {
      "cell_type": "markdown",
      "source": [
        "#### Define the model"
      ],
      "metadata": {
        "id": "v0kBr_XFc1ex"
      }
    },
    {
      "cell_type": "code",
      "source": [
        "mobilenet_transfer = mobilenet.MobileNet(weights='imagenet', include_top=False)\n",
        "\n",
        "class RNNCNN_TL(ModelBuilder):\n",
        "    # define the model\n",
        "    def define_model(self,lstm_cells=64,dense_neurons=64,dropout=0.25):\n",
        "        \n",
        "        model = Sequential()\n",
        "        model.add(TimeDistributed(mobilenet_transfer,input_shape=(params.frames_to_sample,params.image_height,params.image_width,params.channels)))\n",
        "        \n",
        "        \n",
        "        for layer in model.layers:\n",
        "            layer.trainable = False\n",
        "        \n",
        "        \n",
        "        model.add(TimeDistributed(BatchNormalization()))\n",
        "        model.add(TimeDistributed(MaxPooling2D((2, 2))))\n",
        "        model.add(TimeDistributed(Flatten()))\n",
        "\n",
        "        model.add(LSTM(lstm_cells))\n",
        "        model.add(Dropout(dropout))\n",
        "        \n",
        "        model.add(Dense(dense_neurons,activation='relu'))\n",
        "        model.add(Dropout(dropout))\n",
        "        \n",
        "        model.add(Dense(params.num_classes, activation='softmax'))\n",
        "        \n",
        "      # complile the model  \n",
        "        optimiser = tf.optimizers.Adam()\n",
        "        model.compile(optimizer=optimiser, loss='categorical_crossentropy', metrics=['categorical_accuracy'])\n",
        "        model.summary()\n",
        "        return model"
      ],
      "metadata": {
        "id": "3p4U4ehlcwjX",
        "colab": {
          "base_uri": "https://localhost:8080/"
        },
        "outputId": "02d1fdc6-b06d-46de-c6bf-a0151692ffd6"
      },
      "execution_count": null,
      "outputs": [
        {
          "output_type": "stream",
          "name": "stderr",
          "text": [
            "WARNING:tensorflow:`input_shape` is undefined or non-square, or `rows` is not in [128, 160, 192, 224]. Weights for input shape (224, 224) will be loaded as the default.\n"
          ]
        }
      ]
    },
    {
      "cell_type": "markdown",
      "source": [
        "#### Build the model"
      ],
      "metadata": {
        "id": "X6hUAF5ydJ9Z"
      }
    },
    {
      "cell_type": "code",
      "source": [
        "# parameter setting\n",
        "params = InitParameters()\n",
        "params.initialize_path(project_folder)\n",
        "params.initialize_image_properties(image_height=120,image_width=120)\n",
        "params.initialize_hyperparams(frames_to_sample=16,batch_size=5,num_epochs=20)\n",
        "\n",
        "# model building\n",
        "rnn_cnn_tl=RNNCNN_TL(params)\n",
        "rnn_cnn_tl_model=rnn_cnn_tl.define_model(lstm_cells=128,dense_neurons=128,dropout=0.25)"
      ],
      "metadata": {
        "id": "lsfkqpbadLeT",
        "colab": {
          "base_uri": "https://localhost:8080/"
        },
        "outputId": "aee7540a-aaad-44e5-9749-23086b3c02fd"
      },
      "execution_count": null,
      "outputs": [
        {
          "output_type": "stream",
          "name": "stdout",
          "text": [
            "Model: \"sequential_21\"\n",
            "_________________________________________________________________\n",
            " Layer (type)                Output Shape              Param #   \n",
            "=================================================================\n",
            " time_distributed_44 (TimeDi  (None, 16, 3, 3, 1024)   3228864   \n",
            " stributed)                                                      \n",
            "                                                                 \n",
            " time_distributed_45 (TimeDi  (None, 16, 3, 3, 1024)   4096      \n",
            " stributed)                                                      \n",
            "                                                                 \n",
            " time_distributed_46 (TimeDi  (None, 16, 1, 1, 1024)   0         \n",
            " stributed)                                                      \n",
            "                                                                 \n",
            " time_distributed_47 (TimeDi  (None, 16, 1024)         0         \n",
            " stributed)                                                      \n",
            "                                                                 \n",
            " lstm_3 (LSTM)               (None, 128)               590336    \n",
            "                                                                 \n",
            " dropout_42 (Dropout)        (None, 128)               0         \n",
            "                                                                 \n",
            " dense_58 (Dense)            (None, 128)               16512     \n",
            "                                                                 \n",
            " dropout_43 (Dropout)        (None, 128)               0         \n",
            "                                                                 \n",
            " dense_59 (Dense)            (None, 5)                 645       \n",
            "                                                                 \n",
            "=================================================================\n",
            "Total params: 3,840,453\n",
            "Trainable params: 609,541\n",
            "Non-trainable params: 3,230,912\n",
            "_________________________________________________________________\n"
          ]
        }
      ]
    },
    {
      "cell_type": "markdown",
      "source": [
        "#### Train the Model"
      ],
      "metadata": {
        "id": "9SY2ICs6dgiu"
      }
    },
    {
      "cell_type": "code",
      "source": [
        "print(\"Total Params:\", rnn_cnn_tl_model.count_params())\n",
        "history_model11=rnn_cnn_tl.train_model(rnn_cnn_tl_model)"
      ],
      "metadata": {
        "id": "76O3jbo1diSf",
        "colab": {
          "base_uri": "https://localhost:8080/"
        },
        "outputId": "7f54fd74-b21c-44a4-8267-1f6b1b501eea"
      },
      "execution_count": null,
      "outputs": [
        {
          "output_type": "stream",
          "name": "stderr",
          "text": [
            "WARNING:tensorflow:`period` argument is deprecated. Please use `save_freq` to specify the frequency in number of batches seen.\n"
          ]
        },
        {
          "output_type": "stream",
          "name": "stdout",
          "text": [
            "Total Params: 3840453\n",
            "Source path =  Project_data/train ; batch size = 5\n",
            "Epoch 1/20\n",
            "133/133 [==============================] - ETA: 0s - loss: 1.4517 - categorical_accuracy: 0.3846Source path =  Project_data/val ; batch size = 5\n",
            "\n",
            "Epoch 1: saving model to model_init_2022-09-1416_30_56.070472/model-00001-1.45167-0.38462-1.03290-0.60000.h5\n",
            "133/133 [==============================] - 108s 789ms/step - loss: 1.4517 - categorical_accuracy: 0.3846 - val_loss: 1.0329 - val_categorical_accuracy: 0.6000 - lr: 0.0010\n",
            "Epoch 2/20\n",
            "133/133 [==============================] - ETA: 0s - loss: 0.9423 - categorical_accuracy: 0.6365\n",
            "Epoch 2: saving model to model_init_2022-09-1416_30_56.070472/model-00002-0.94227-0.63650-0.87763-0.68000.h5\n",
            "133/133 [==============================] - 54s 411ms/step - loss: 0.9423 - categorical_accuracy: 0.6365 - val_loss: 0.8776 - val_categorical_accuracy: 0.6800 - lr: 0.0010\n",
            "Epoch 3/20\n",
            "133/133 [==============================] - ETA: 0s - loss: 0.7472 - categorical_accuracy: 0.7315\n",
            "Epoch 3: saving model to model_init_2022-09-1416_30_56.070472/model-00003-0.74717-0.73152-0.67940-0.69000.h5\n",
            "133/133 [==============================] - 54s 406ms/step - loss: 0.7472 - categorical_accuracy: 0.7315 - val_loss: 0.6794 - val_categorical_accuracy: 0.6900 - lr: 0.0010\n",
            "Epoch 4/20\n",
            "133/133 [==============================] - ETA: 0s - loss: 0.4924 - categorical_accuracy: 0.8341\n",
            "Epoch 4: saving model to model_init_2022-09-1416_30_56.070472/model-00004-0.49245-0.83409-0.69850-0.75000.h5\n",
            "133/133 [==============================] - 53s 399ms/step - loss: 0.4924 - categorical_accuracy: 0.8341 - val_loss: 0.6985 - val_categorical_accuracy: 0.7500 - lr: 0.0010\n",
            "Epoch 5/20\n",
            "133/133 [==============================] - ETA: 0s - loss: 0.3536 - categorical_accuracy: 0.8839\n",
            "Epoch 5: saving model to model_init_2022-09-1416_30_56.070472/model-00005-0.35364-0.88386-0.67170-0.77000.h5\n",
            "133/133 [==============================] - 53s 400ms/step - loss: 0.3536 - categorical_accuracy: 0.8839 - val_loss: 0.6717 - val_categorical_accuracy: 0.7700 - lr: 0.0010\n",
            "Epoch 6/20\n",
            "133/133 [==============================] - ETA: 0s - loss: 0.2104 - categorical_accuracy: 0.9216\n",
            "Epoch 6: saving model to model_init_2022-09-1416_30_56.070472/model-00006-0.21036-0.92157-0.58508-0.75000.h5\n",
            "133/133 [==============================] - 52s 393ms/step - loss: 0.2104 - categorical_accuracy: 0.9216 - val_loss: 0.5851 - val_categorical_accuracy: 0.7500 - lr: 0.0010\n",
            "Epoch 7/20\n",
            "133/133 [==============================] - ETA: 0s - loss: 0.1676 - categorical_accuracy: 0.9502\n",
            "Epoch 7: saving model to model_init_2022-09-1416_30_56.070472/model-00007-0.16756-0.95023-0.64164-0.74000.h5\n",
            "133/133 [==============================] - 57s 431ms/step - loss: 0.1676 - categorical_accuracy: 0.9502 - val_loss: 0.6416 - val_categorical_accuracy: 0.7400 - lr: 0.0010\n",
            "Epoch 8/20\n",
            "133/133 [==============================] - ETA: 0s - loss: 0.1624 - categorical_accuracy: 0.9442\n",
            "Epoch 8: saving model to model_init_2022-09-1416_30_56.070472/model-00008-0.16243-0.94419-0.99133-0.69000.h5\n",
            "133/133 [==============================] - 54s 407ms/step - loss: 0.1624 - categorical_accuracy: 0.9442 - val_loss: 0.9913 - val_categorical_accuracy: 0.6900 - lr: 0.0010\n",
            "Epoch 9/20\n",
            "133/133 [==============================] - ETA: 0s - loss: 0.1299 - categorical_accuracy: 0.9563\n",
            "Epoch 9: saving model to model_init_2022-09-1416_30_56.070472/model-00009-0.12987-0.95626-0.88072-0.66000.h5\n",
            "133/133 [==============================] - 55s 416ms/step - loss: 0.1299 - categorical_accuracy: 0.9563 - val_loss: 0.8807 - val_categorical_accuracy: 0.6600 - lr: 0.0010\n",
            "Epoch 10/20\n",
            "133/133 [==============================] - ETA: 0s - loss: 0.0949 - categorical_accuracy: 0.9668\n",
            "Epoch 10: saving model to model_init_2022-09-1416_30_56.070472/model-00010-0.09488-0.96682-1.05027-0.69000.h5\n",
            "\n",
            "Epoch 10: ReduceLROnPlateau reducing learning rate to 0.00020000000949949026.\n",
            "133/133 [==============================] - 52s 393ms/step - loss: 0.0949 - categorical_accuracy: 0.9668 - val_loss: 1.0503 - val_categorical_accuracy: 0.6900 - lr: 0.0010\n",
            "Epoch 11/20\n",
            "133/133 [==============================] - ETA: 0s - loss: 0.0647 - categorical_accuracy: 0.9804\n",
            "Epoch 11: saving model to model_init_2022-09-1416_30_56.070472/model-00011-0.06470-0.98039-0.90782-0.66000.h5\n",
            "133/133 [==============================] - 56s 422ms/step - loss: 0.0647 - categorical_accuracy: 0.9804 - val_loss: 0.9078 - val_categorical_accuracy: 0.6600 - lr: 2.0000e-04\n",
            "Epoch 12/20\n",
            "133/133 [==============================] - ETA: 0s - loss: 0.0447 - categorical_accuracy: 0.9879\n",
            "Epoch 12: saving model to model_init_2022-09-1416_30_56.070472/model-00012-0.04473-0.98793-0.82032-0.73000.h5\n",
            "133/133 [==============================] - 63s 478ms/step - loss: 0.0447 - categorical_accuracy: 0.9879 - val_loss: 0.8203 - val_categorical_accuracy: 0.7300 - lr: 2.0000e-04\n",
            "Epoch 13/20\n",
            "133/133 [==============================] - ETA: 0s - loss: 0.0430 - categorical_accuracy: 0.9894\n",
            "Epoch 13: saving model to model_init_2022-09-1416_30_56.070472/model-00013-0.04304-0.98944-0.88088-0.71000.h5\n",
            "133/133 [==============================] - 69s 524ms/step - loss: 0.0430 - categorical_accuracy: 0.9894 - val_loss: 0.8809 - val_categorical_accuracy: 0.7100 - lr: 2.0000e-04\n",
            "Epoch 14/20\n",
            "133/133 [==============================] - ETA: 0s - loss: 0.0384 - categorical_accuracy: 0.9894\n",
            "Epoch 14: saving model to model_init_2022-09-1416_30_56.070472/model-00014-0.03841-0.98944-0.80015-0.74000.h5\n",
            "\n",
            "Epoch 14: ReduceLROnPlateau reducing learning rate to 4.0000001899898055e-05.\n",
            "133/133 [==============================] - 54s 405ms/step - loss: 0.0384 - categorical_accuracy: 0.9894 - val_loss: 0.8002 - val_categorical_accuracy: 0.7400 - lr: 2.0000e-04\n",
            "Epoch 15/20\n",
            "133/133 [==============================] - ETA: 0s - loss: 0.0402 - categorical_accuracy: 0.9925\n",
            "Epoch 15: saving model to model_init_2022-09-1416_30_56.070472/model-00015-0.04016-0.99246-1.03081-0.69000.h5\n",
            "133/133 [==============================] - 54s 408ms/step - loss: 0.0402 - categorical_accuracy: 0.9925 - val_loss: 1.0308 - val_categorical_accuracy: 0.6900 - lr: 4.0000e-05\n",
            "Epoch 16/20\n",
            "133/133 [==============================] - ETA: 0s - loss: 0.0359 - categorical_accuracy: 0.9879\n",
            "Epoch 16: saving model to model_init_2022-09-1416_30_56.070472/model-00016-0.03590-0.98793-0.86924-0.72000.h5\n",
            "133/133 [==============================] - 54s 406ms/step - loss: 0.0359 - categorical_accuracy: 0.9879 - val_loss: 0.8692 - val_categorical_accuracy: 0.7200 - lr: 4.0000e-05\n",
            "Epoch 17/20\n",
            "133/133 [==============================] - ETA: 0s - loss: 0.0212 - categorical_accuracy: 0.9955\n",
            "Epoch 17: saving model to model_init_2022-09-1416_30_56.070472/model-00017-0.02122-0.99548-0.96441-0.71000.h5\n",
            "133/133 [==============================] - 53s 398ms/step - loss: 0.0212 - categorical_accuracy: 0.9955 - val_loss: 0.9644 - val_categorical_accuracy: 0.7100 - lr: 4.0000e-05\n",
            "Epoch 18/20\n",
            "133/133 [==============================] - ETA: 0s - loss: 0.0231 - categorical_accuracy: 0.9925\n",
            "Epoch 18: saving model to model_init_2022-09-1416_30_56.070472/model-00018-0.02307-0.99246-0.90247-0.71000.h5\n",
            "\n",
            "Epoch 18: ReduceLROnPlateau reducing learning rate to 8.000000525498762e-06.\n",
            "133/133 [==============================] - 53s 402ms/step - loss: 0.0231 - categorical_accuracy: 0.9925 - val_loss: 0.9025 - val_categorical_accuracy: 0.7100 - lr: 4.0000e-05\n",
            "Epoch 19/20\n",
            "133/133 [==============================] - ETA: 0s - loss: 0.0180 - categorical_accuracy: 0.9985\n",
            "Epoch 19: saving model to model_init_2022-09-1416_30_56.070472/model-00019-0.01798-0.99849-0.85359-0.74000.h5\n",
            "133/133 [==============================] - 53s 403ms/step - loss: 0.0180 - categorical_accuracy: 0.9985 - val_loss: 0.8536 - val_categorical_accuracy: 0.7400 - lr: 8.0000e-06\n",
            "Epoch 20/20\n",
            "133/133 [==============================] - ETA: 0s - loss: 0.0266 - categorical_accuracy: 0.9879\n",
            "Epoch 20: saving model to model_init_2022-09-1416_30_56.070472/model-00020-0.02658-0.98793-0.95921-0.70000.h5\n",
            "133/133 [==============================] - 53s 403ms/step - loss: 0.0266 - categorical_accuracy: 0.9879 - val_loss: 0.9592 - val_categorical_accuracy: 0.7000 - lr: 8.0000e-06\n"
          ]
        }
      ]
    },
    {
      "cell_type": "markdown",
      "source": [
        "#### Accuracy Plot"
      ],
      "metadata": {
        "id": "IlV8TwFLeCUu"
      }
    },
    {
      "cell_type": "code",
      "source": [
        "plot(history_model11)"
      ],
      "metadata": {
        "id": "I6dzzWZ_eGSU",
        "colab": {
          "base_uri": "https://localhost:8080/",
          "height": 265
        },
        "outputId": "42f49e0e-a498-4d38-d14d-1c5276442108"
      },
      "execution_count": null,
      "outputs": [
        {
          "output_type": "display_data",
          "data": {
            "text/plain": [
              "<Figure size 1080x288 with 2 Axes>"
            ],
            "image/png": "[encoded data removed]"
          },
          "metadata": {
            "needs_background": "light"
          }
        }
      ]
    },
    {
      "cell_type": "markdown",
      "source": [
        "### **Model 12: Transfer Learning with GRU and training all weights**"
      ],
      "metadata": {
        "id": "rlDuQFFXegfh"
      }
    },
    {
      "cell_type": "markdown",
      "source": [
        "#### Define the Model"
      ],
      "metadata": {
        "id": "FgY0SDVzekAG"
      }
    },
    {
      "cell_type": "code",
      "source": [
        "from keras.applications import mobilenet\n",
        "\n",
        "mobilenet_transfer = mobilenet.MobileNet(weights='imagenet', include_top=False)\n",
        "\n",
        "class RNNCNN_TL2(ModelBuilder):\n",
        "   # define the model \n",
        "    def define_model(self,gru_cells=64,dense_neurons=64,dropout=0.25):\n",
        "        \n",
        "        model = Sequential()\n",
        "        model.add(TimeDistributed(mobilenet_transfer,input_shape=(params.frames_to_sample,params.image_height,params.image_width,params.channels)))\n",
        " \n",
        "        \n",
        "        model.add(TimeDistributed(BatchNormalization()))\n",
        "        model.add(TimeDistributed(MaxPooling2D((2, 2))))\n",
        "        model.add(TimeDistributed(Flatten()))\n",
        "\n",
        "        model.add(GRU(gru_cells))\n",
        "        model.add(Dropout(dropout))\n",
        "        \n",
        "        model.add(Dense(dense_neurons,activation='relu'))\n",
        "        model.add(Dropout(dropout))\n",
        "        \n",
        "        model.add(Dense(params.num_classes, activation='softmax'))\n",
        "        \n",
        "      # compile the model  \n",
        "        optimiser = tf.optimizers.Adam()\n",
        "        model.compile(optimizer=optimiser, loss='categorical_crossentropy', metrics=['categorical_accuracy'])\n",
        "        model.summary()\n",
        "        return model"
      ],
      "metadata": {
        "id": "oiBtONGqeqFi",
        "colab": {
          "base_uri": "https://localhost:8080/"
        },
        "outputId": "6bbafc37-50a5-4bd3-ac33-426fbd0b952d"
      },
      "execution_count": null,
      "outputs": [
        {
          "output_type": "stream",
          "name": "stderr",
          "text": [
            "WARNING:tensorflow:`input_shape` is undefined or non-square, or `rows` is not in [128, 160, 192, 224]. Weights for input shape (224, 224) will be loaded as the default.\n"
          ]
        }
      ]
    },
    {
      "cell_type": "markdown",
      "source": [
        "#### Build the Model"
      ],
      "metadata": {
        "id": "zPAUBwMUzJvA"
      }
    },
    {
      "cell_type": "code",
      "source": [
        "# parameter setting\n",
        "params = InitParameters()\n",
        "params.initialize_path(project_folder)\n",
        "params.initialize_image_properties(image_height=120,image_width=120)\n",
        "params.initialize_hyperparams(frames_to_sample=16,batch_size=5,num_epochs=20)\n",
        "\n",
        "# model building\n",
        "rnn_cnn_tl2=RNNCNN_TL2(params)\n",
        "rnn_cnn_tl2_model=rnn_cnn_tl2.define_model(gru_cells=128,dense_neurons=128,dropout=0.25)"
      ],
      "metadata": {
        "id": "dE2dF8GlzMwe",
        "colab": {
          "base_uri": "https://localhost:8080/"
        },
        "outputId": "45eb3933-211a-4a5a-ffc3-8039d0de9890"
      },
      "execution_count": null,
      "outputs": [
        {
          "output_type": "stream",
          "name": "stdout",
          "text": [
            "Model: \"sequential_20\"\n",
            "_________________________________________________________________\n",
            " Layer (type)                Output Shape              Param #   \n",
            "=================================================================\n",
            " time_distributed_40 (TimeDi  (None, 16, 3, 3, 1024)   3228864   \n",
            " stributed)                                                      \n",
            "                                                                 \n",
            " time_distributed_41 (TimeDi  (None, 16, 3, 3, 1024)   4096      \n",
            " stributed)                                                      \n",
            "                                                                 \n",
            " time_distributed_42 (TimeDi  (None, 16, 1, 1, 1024)   0         \n",
            " stributed)                                                      \n",
            "                                                                 \n",
            " time_distributed_43 (TimeDi  (None, 16, 1024)         0         \n",
            " stributed)                                                      \n",
            "                                                                 \n",
            " gru_1 (GRU)                 (None, 128)               443136    \n",
            "                                                                 \n",
            " dropout_40 (Dropout)        (None, 128)               0         \n",
            "                                                                 \n",
            " dense_56 (Dense)            (None, 128)               16512     \n",
            "                                                                 \n",
            " dropout_41 (Dropout)        (None, 128)               0         \n",
            "                                                                 \n",
            " dense_57 (Dense)            (None, 5)                 645       \n",
            "                                                                 \n",
            "=================================================================\n",
            "Total params: 3,693,253\n",
            "Trainable params: 3,669,317\n",
            "Non-trainable params: 23,936\n",
            "_________________________________________________________________\n"
          ]
        }
      ]
    },
    {
      "cell_type": "markdown",
      "source": [
        "#### Train the Model"
      ],
      "metadata": {
        "id": "GJP111ibzh3p"
      }
    },
    {
      "cell_type": "code",
      "source": [
        "print(\"Total Params:\", rnn_cnn_tl2_model.count_params())\n",
        "history_model12=rnn_cnn_tl2.train_model(rnn_cnn_tl2_model,augment_data=True)"
      ],
      "metadata": {
        "id": "--EVHQ3yzj9u",
        "colab": {
          "base_uri": "https://localhost:8080/"
        },
        "outputId": "e70ad3a6-f3c1-4202-9ac4-81267c917464"
      },
      "execution_count": null,
      "outputs": [
        {
          "output_type": "stream",
          "name": "stderr",
          "text": [
            "WARNING:tensorflow:`period` argument is deprecated. Please use `save_freq` to specify the frequency in number of batches seen.\n"
          ]
        },
        {
          "output_type": "stream",
          "name": "stdout",
          "text": [
            "Total Params: 3693253\n",
            "Source path =  Project_data/train ; batch size = 5\n",
            "Epoch 1/20\n",
            "133/133 [==============================] - ETA: 0s - loss: 1.1715 - categorical_accuracy: 0.5166Source path =  Project_data/val ; batch size = 5\n",
            "\n",
            "Epoch 1: saving model to model_init_2022-09-1415_53_59.632375/model-00001-1.17146-0.51659-0.61942-0.77000.h5\n",
            "133/133 [==============================] - 95s 668ms/step - loss: 1.1715 - categorical_accuracy: 0.5166 - val_loss: 0.6194 - val_categorical_accuracy: 0.7700 - lr: 0.0010\n",
            "Epoch 2/20\n",
            "133/133 [==============================] - ETA: 0s - loss: 0.6049 - categorical_accuracy: 0.7564\n",
            "Epoch 2: saving model to model_init_2022-09-1415_53_59.632375/model-00002-0.60485-0.75641-0.42794-0.83000.h5\n",
            "133/133 [==============================] - 88s 667ms/step - loss: 0.6049 - categorical_accuracy: 0.7564 - val_loss: 0.4279 - val_categorical_accuracy: 0.8300 - lr: 0.0010\n",
            "Epoch 3/20\n",
            "133/133 [==============================] - ETA: 0s - loss: 0.4462 - categorical_accuracy: 0.8379\n",
            "Epoch 3: saving model to model_init_2022-09-1415_53_59.632375/model-00003-0.44616-0.83786-0.40608-0.84000.h5\n",
            "133/133 [==============================] - 87s 660ms/step - loss: 0.4462 - categorical_accuracy: 0.8379 - val_loss: 0.4061 - val_categorical_accuracy: 0.8400 - lr: 0.0010\n",
            "Epoch 4/20\n",
            "133/133 [==============================] - ETA: 0s - loss: 0.4429 - categorical_accuracy: 0.8454\n",
            "Epoch 4: saving model to model_init_2022-09-1415_53_59.632375/model-00004-0.44289-0.84540-0.48928-0.85000.h5\n",
            "133/133 [==============================] - 88s 665ms/step - loss: 0.4429 - categorical_accuracy: 0.8454 - val_loss: 0.4893 - val_categorical_accuracy: 0.8500 - lr: 0.0010\n",
            "Epoch 5/20\n",
            "133/133 [==============================] - ETA: 0s - loss: 0.3356 - categorical_accuracy: 0.8967\n",
            "Epoch 5: saving model to model_init_2022-09-1415_53_59.632375/model-00005-0.33563-0.89668-0.21712-0.92000.h5\n",
            "133/133 [==============================] - 88s 664ms/step - loss: 0.3356 - categorical_accuracy: 0.8967 - val_loss: 0.2171 - val_categorical_accuracy: 0.9200 - lr: 0.0010\n",
            "Epoch 6/20\n",
            "133/133 [==============================] - ETA: 0s - loss: 0.3076 - categorical_accuracy: 0.8952\n",
            "Epoch 6: saving model to model_init_2022-09-1415_53_59.632375/model-00006-0.30763-0.89517-0.48586-0.85000.h5\n",
            "133/133 [==============================] - 88s 665ms/step - loss: 0.3076 - categorical_accuracy: 0.8952 - val_loss: 0.4859 - val_categorical_accuracy: 0.8500 - lr: 0.0010\n",
            "Epoch 7/20\n",
            "133/133 [==============================] - ETA: 0s - loss: 0.2006 - categorical_accuracy: 0.9344\n",
            "Epoch 7: saving model to model_init_2022-09-1415_53_59.632375/model-00007-0.20063-0.93439-0.32714-0.89000.h5\n",
            "133/133 [==============================] - 88s 666ms/step - loss: 0.2006 - categorical_accuracy: 0.9344 - val_loss: 0.3271 - val_categorical_accuracy: 0.8900 - lr: 0.0010\n",
            "Epoch 8/20\n",
            "133/133 [==============================] - ETA: 0s - loss: 0.1825 - categorical_accuracy: 0.9404\n",
            "Epoch 8: saving model to model_init_2022-09-1415_53_59.632375/model-00008-0.18248-0.94042-0.27932-0.92000.h5\n",
            "133/133 [==============================] - 88s 662ms/step - loss: 0.1825 - categorical_accuracy: 0.9404 - val_loss: 0.2793 - val_categorical_accuracy: 0.9200 - lr: 0.0010\n",
            "Epoch 9/20\n",
            "133/133 [==============================] - ETA: 0s - loss: 0.2690 - categorical_accuracy: 0.9035\n",
            "Epoch 9: saving model to model_init_2022-09-1415_53_59.632375/model-00009-0.26901-0.90347-0.40422-0.88000.h5\n",
            "\n",
            "Epoch 9: ReduceLROnPlateau reducing learning rate to 0.00020000000949949026.\n",
            "133/133 [==============================] - 89s 670ms/step - loss: 0.2690 - categorical_accuracy: 0.9035 - val_loss: 0.4042 - val_categorical_accuracy: 0.8800 - lr: 0.0010\n",
            "Epoch 10/20\n",
            "133/133 [==============================] - ETA: 0s - loss: 0.1766 - categorical_accuracy: 0.9472\n",
            "Epoch 10: saving model to model_init_2022-09-1415_53_59.632375/model-00010-0.17658-0.94721-0.24723-0.92000.h5\n",
            "133/133 [==============================] - 88s 667ms/step - loss: 0.1766 - categorical_accuracy: 0.9472 - val_loss: 0.2472 - val_categorical_accuracy: 0.9200 - lr: 2.0000e-04\n",
            "Epoch 11/20\n",
            "133/133 [==============================] - ETA: 0s - loss: 0.0790 - categorical_accuracy: 0.9766\n",
            "Epoch 11: saving model to model_init_2022-09-1415_53_59.632375/model-00011-0.07904-0.97662-0.20995-0.92000.h5\n",
            "133/133 [==============================] - 92s 698ms/step - loss: 0.0790 - categorical_accuracy: 0.9766 - val_loss: 0.2100 - val_categorical_accuracy: 0.9200 - lr: 2.0000e-04\n",
            "Epoch 12/20\n",
            "133/133 [==============================] - ETA: 0s - loss: 0.0754 - categorical_accuracy: 0.9827\n",
            "Epoch 12: saving model to model_init_2022-09-1415_53_59.632375/model-00012-0.07541-0.98265-0.18185-0.96000.h5\n",
            "133/133 [==============================] - 89s 670ms/step - loss: 0.0754 - categorical_accuracy: 0.9827 - val_loss: 0.1819 - val_categorical_accuracy: 0.9600 - lr: 2.0000e-04\n",
            "Epoch 13/20\n",
            "133/133 [==============================] - ETA: 0s - loss: 0.0500 - categorical_accuracy: 0.9842\n",
            "Epoch 13: saving model to model_init_2022-09-1415_53_59.632375/model-00013-0.05003-0.98416-0.25391-0.90000.h5\n",
            "133/133 [==============================] - 88s 662ms/step - loss: 0.0500 - categorical_accuracy: 0.9842 - val_loss: 0.2539 - val_categorical_accuracy: 0.9000 - lr: 2.0000e-04\n",
            "Epoch 14/20\n",
            "133/133 [==============================] - ETA: 0s - loss: 0.0343 - categorical_accuracy: 0.9887\n",
            "Epoch 14: saving model to model_init_2022-09-1415_53_59.632375/model-00014-0.03427-0.98869-0.25393-0.92000.h5\n",
            "133/133 [==============================] - 89s 674ms/step - loss: 0.0343 - categorical_accuracy: 0.9887 - val_loss: 0.2539 - val_categorical_accuracy: 0.9200 - lr: 2.0000e-04\n",
            "Epoch 15/20\n",
            "133/133 [==============================] - ETA: 0s - loss: 0.0349 - categorical_accuracy: 0.9902\n",
            "Epoch 15: saving model to model_init_2022-09-1415_53_59.632375/model-00015-0.03491-0.99020-0.23240-0.90000.h5\n",
            "133/133 [==============================] - 89s 669ms/step - loss: 0.0349 - categorical_accuracy: 0.9902 - val_loss: 0.2324 - val_categorical_accuracy: 0.9000 - lr: 2.0000e-04\n",
            "Epoch 16/20\n",
            "133/133 [==============================] - ETA: 0s - loss: 0.0323 - categorical_accuracy: 0.9917\n",
            "Epoch 16: saving model to model_init_2022-09-1415_53_59.632375/model-00016-0.03228-0.99170-0.24099-0.93000.h5\n",
            "\n",
            "Epoch 16: ReduceLROnPlateau reducing learning rate to 4.0000001899898055e-05.\n",
            "133/133 [==============================] - 89s 669ms/step - loss: 0.0323 - categorical_accuracy: 0.9917 - val_loss: 0.2410 - val_categorical_accuracy: 0.9300 - lr: 2.0000e-04\n",
            "Epoch 17/20\n",
            "133/133 [==============================] - ETA: 0s - loss: 0.0442 - categorical_accuracy: 0.9887\n",
            "Epoch 17: saving model to model_init_2022-09-1415_53_59.632375/model-00017-0.04421-0.98869-0.17983-0.95000.h5\n",
            "133/133 [==============================] - 88s 661ms/step - loss: 0.0442 - categorical_accuracy: 0.9887 - val_loss: 0.1798 - val_categorical_accuracy: 0.9500 - lr: 4.0000e-05\n",
            "Epoch 18/20\n",
            "133/133 [==============================] - ETA: 0s - loss: 0.0419 - categorical_accuracy: 0.9887\n",
            "Epoch 18: saving model to model_init_2022-09-1415_53_59.632375/model-00018-0.04192-0.98869-0.16645-0.93000.h5\n",
            "133/133 [==============================] - 89s 671ms/step - loss: 0.0419 - categorical_accuracy: 0.9887 - val_loss: 0.1665 - val_categorical_accuracy: 0.9300 - lr: 4.0000e-05\n",
            "Epoch 19/20\n",
            "133/133 [==============================] - ETA: 0s - loss: 0.0209 - categorical_accuracy: 0.9940\n",
            "Epoch 19: saving model to model_init_2022-09-1415_53_59.632375/model-00019-0.02090-0.99397-0.17537-0.94000.h5\n",
            "133/133 [==============================] - 88s 662ms/step - loss: 0.0209 - categorical_accuracy: 0.9940 - val_loss: 0.1754 - val_categorical_accuracy: 0.9400 - lr: 4.0000e-05\n",
            "Epoch 20/20\n",
            "133/133 [==============================] - ETA: 0s - loss: 0.0284 - categorical_accuracy: 0.9917\n",
            "Epoch 20: saving model to model_init_2022-09-1415_53_59.632375/model-00020-0.02840-0.99170-0.17646-0.94000.h5\n",
            "133/133 [==============================] - 89s 674ms/step - loss: 0.0284 - categorical_accuracy: 0.9917 - val_loss: 0.1765 - val_categorical_accuracy: 0.9400 - lr: 4.0000e-05\n"
          ]
        }
      ]
    },
    {
      "cell_type": "markdown",
      "source": [
        "#### Accuracy Plot"
      ],
      "metadata": {
        "id": "HuN6kYhOznHD"
      }
    },
    {
      "cell_type": "code",
      "source": [
        "plot(history_model12)"
      ],
      "metadata": {
        "id": "J5WgzZwZzo25",
        "colab": {
          "base_uri": "https://localhost:8080/",
          "height": 265
        },
        "outputId": "b7a6245c-123e-4da8-f595-5c22cf07f6c8"
      },
      "execution_count": null,
      "outputs": [
        {
          "output_type": "display_data",
          "data": {
            "text/plain": [
              "<Figure size 1080x288 with 2 Axes>"
            ],
            "image/png": "[encoded data removed]"
          },
          "metadata": {
            "needs_background": "light"
          }
        }
      ]
    },
    {
      "cell_type": "markdown",
      "source": [
        "This model has the best accuracy among all models as: </br>\n",
        "Train Accuracy: 0.99 </br> \n",
        "Val Accuracy: 0.94"
      ],
      "metadata": {
        "id": "hpVawuAa4SK9"
      }
    },
    {
      "cell_type": "markdown",
      "source": [
        "### **Model Loading and Testing**"
      ],
      "metadata": {
        "id": "gOKekoeB0NFd"
      }
    },
    {
      "cell_type": "markdown",
      "source": [
        "Selecting \"Transfer Learining with GRU\" with all weights training as the final model for test dataset validation due to its high accuracy on test and val datasets and low losses. "
      ],
      "metadata": {
        "id": "G7rr-E7o1Mlt"
      }
    },
    {
      "cell_type": "code",
      "source": [
        "import time\n",
        "from keras.models import load_model\n",
        "model = load_model('model_init_2022-09-1415_53_59.632375/model-00020-0.02840-0.99170-0.17646-0.94000.h5')"
      ],
      "metadata": {
        "id": "WVo57E4L0Qc2"
      },
      "execution_count": null,
      "outputs": []
    },
    {
      "cell_type": "code",
      "source": [
        "# parameter setting\n",
        "params = InitParameters()\n",
        "params.initialize_path(project_folder)\n",
        "params.initialize_image_properties(image_height=160,image_width=160)\n",
        "params.initialize_hyperparams(frames_to_sample=20,batch_size=20,num_epochs=1)\n",
        "\n",
        "#model\n",
        "model=rnn_cnn_tl2\n",
        "\n",
        "g = generator(params, params.val_path, params.val_doc,augment=False)\n",
        "batch_data, batch_labels=next(g)"
      ],
      "metadata": {
        "id": "7wKXRTiD0Tyj",
        "colab": {
          "base_uri": "https://localhost:8080/"
        },
        "outputId": "5d9dfc63-8a1b-4619-b30b-0e2e89b5e15e"
      },
      "execution_count": null,
      "outputs": [
        {
          "output_type": "stream",
          "name": "stdout",
          "text": [
            "Source path =  Project_data/val ; batch size = 20\n"
          ]
        }
      ]
    },
    {
      "cell_type": "code",
      "source": [
        "batch_labels"
      ],
      "metadata": {
        "id": "O58aCY4C0Vtx",
        "colab": {
          "base_uri": "https://localhost:8080/"
        },
        "outputId": "16619256-bfa7-4b27-cdc5-ac1a32ce3303"
      },
      "execution_count": null,
      "outputs": [
        {
          "output_type": "execute_result",
          "data": {
            "text/plain": [
              "array([[0., 1., 0., 0., 0.],\n",
              "       [0., 0., 0., 1., 0.],\n",
              "       [0., 0., 1., 0., 0.],\n",
              "       [0., 0., 1., 0., 0.],\n",
              "       [0., 1., 0., 0., 0.],\n",
              "       [0., 0., 0., 1., 0.],\n",
              "       [0., 0., 1., 0., 0.],\n",
              "       [0., 1., 0., 0., 0.],\n",
              "       [0., 0., 0., 0., 1.],\n",
              "       [0., 0., 0., 1., 0.],\n",
              "       [0., 1., 0., 0., 0.],\n",
              "       [0., 1., 0., 0., 0.],\n",
              "       [1., 0., 0., 0., 0.],\n",
              "       [0., 0., 0., 0., 1.],\n",
              "       [0., 0., 0., 1., 0.],\n",
              "       [0., 0., 1., 0., 0.],\n",
              "       [1., 0., 0., 0., 0.],\n",
              "       [1., 0., 0., 0., 0.],\n",
              "       [0., 0., 0., 1., 0.],\n",
              "       [0., 0., 0., 0., 1.]])"
            ]
          },
          "metadata": {},
          "execution_count": 88
        }
      ]
    },
    {
      "cell_type": "code",
      "source": [
        "print(np.argmax(model.predict(batch_data[:,:,:,:,:]),axis=1))"
      ],
      "metadata": {
        "id": "NIicXom30crb"
      },
      "execution_count": null,
      "outputs": []
    }
  ],
  "metadata": {
    "kernelspec": {
      "display_name": "Python 3",
      "language": "python",
      "name": "python3"
    },
    "language_info": {
      "codemirror_mode": {
        "name": "ipython",
        "version": 3
      },
      "file_extension": ".py",
      "mimetype": "text/x-python",
      "name": "python",
      "nbconvert_exporter": "python",
      "pygments_lexer": "ipython3",
      "version": "3.6.5"
    },
    "colab": {
      "provenance": [],
      "collapsed_sections": [
        "-FLeOkH3Nv6P",
        "KzJeJTx8_NIs",
        "P7gPX89u3DVk",
        "NbMtuBvyVKdx"
      ]
    },
    "accelerator": "GPU",
    "gpuClass": "standard"
  },
  "nbformat": 4,
  "nbformat_minor": 0
}